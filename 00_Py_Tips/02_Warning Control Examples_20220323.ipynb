{
 "cells": [
  {
   "cell_type": "markdown",
   "metadata": {},
   "source": [
    "# 00_Warning Control Examples \n",
    "\n",
    "- Last update : 2022.03.23."
   ]
  },
  {
   "cell_type": "markdown",
   "metadata": {},
   "source": [
    "## Warnings in Python\n",
    "- Last Updated : 23 Jan, 2020\n",
    "\n",
    "\n",
    "- Warnings are provided to warn the developer of situations that aren’t necessarily exceptions. \n",
    "\n",
    "> Usually, a warning occurs when there is some obsolete of certain programming elements, such as keyword, function or class, etc. A warning in a program is distinct from an error. Python program terminates immediately if an error occurs. Conversely, a warning is not critical. It shows some message, but the program runs. The warn() function defined in the ‘warning‘ module is used to show warning messages. The warning module is actually a subclass of Exception which is a built-in class in Python."
   ]
  },
  {
   "cell_type": "code",
   "execution_count": 41,
   "metadata": {},
   "outputs": [
    {
     "name": "stdout",
     "output_type": "stream",
     "text": [
      "Geeks\n",
      "Geeks !\n"
     ]
    },
    {
     "name": "stderr",
     "output_type": "stream",
     "text": [
      "<ipython-input-41-f96785957771>:8: UserWarning: Warning Message: 4\n",
      "  warnings.warn('Warning Message: 4')\n"
     ]
    }
   ],
   "source": [
    "# program to display warning a message \n",
    "\n",
    "import warnings\n",
    "  \n",
    "print('Geeks')\n",
    "  \n",
    "# displaying the warning message \n",
    "warnings.warn('Warning Message: 4')\n",
    "  \n",
    "print('Geeks !')"
   ]
  },
  {
   "cell_type": "markdown",
   "metadata": {},
   "source": [
    "- In the above program, the warn() function of the warning module is used to display the message Warning: Message: 4, the UserWarning is the default category of warn() function."
   ]
  },
  {
   "cell_type": "code",
   "execution_count": null,
   "metadata": {},
   "outputs": [],
   "source": []
  },
  {
   "cell_type": "code",
   "execution_count": 42,
   "metadata": {},
   "outputs": [
    {
     "name": "stderr",
     "output_type": "stream",
     "text": [
      "<ipython-input-42-9e082dfdead0>:8: UserWarning: Geeks 4 Geeks\n",
      "  warnings.warn('Geeks 4 Geeks')\n"
     ]
    }
   ],
   "source": [
    "# program to illustrate warn() \n",
    "# function in warning module\n",
    "  \n",
    "# importing modules\n",
    "import warnings\n",
    "  \n",
    "# displaying warning\n",
    "warnings.warn('Geeks 4 Geeks')"
   ]
  },
  {
   "cell_type": "code",
   "execution_count": null,
   "metadata": {},
   "outputs": [],
   "source": []
  },
  {
   "cell_type": "code",
   "execution_count": 43,
   "metadata": {},
   "outputs": [
    {
     "name": "stderr",
     "output_type": "stream",
     "text": [
      "<ipython-input-43-cee9eba6fdec>:12: UserWarning: Geeks 4 Geeks !\n",
      "  warnings.warn('Geeks 4 Geeks !')\n"
     ]
    }
   ],
   "source": [
    "# program to illustrate filterwarnings()\n",
    "# function in warning module\n",
    "  \n",
    "# importing module\n",
    "import warnings\n",
    "  \n",
    "# adding entry into the specifications\n",
    "# of the warnings filter.\n",
    "warnings.filterwarnings('ignore', '.*do not.*', )\n",
    "  \n",
    "# displaying warinings\n",
    "warnings.warn('Geeks 4 Geeks !')\n",
    "  \n",
    "# this warning will not be displayed\n",
    "warnings.warn('Do not show this message')"
   ]
  },
  {
   "cell_type": "markdown",
   "metadata": {},
   "source": [
    "## Here the second warning message is not displayed due to warnings.filterwarnings('ignore', '.*do not.*', ) in which action is \"ignore\" .\n",
    "\n",
    "### showwarning(message, category, filename, lineno, file=None, line=None): \n",
    "> This function Writes a warning to a file.\n",
    "\n",
    "### simplefilter(action, category=Warning, lineno=0, append=False): \n",
    "> This function adds a single entry into the warnings filter requirements list."
   ]
  },
  {
   "cell_type": "code",
   "execution_count": 44,
   "metadata": {},
   "outputs": [
    {
     "ename": "UserWarning",
     "evalue": "This is a warning message",
     "output_type": "error",
     "traceback": [
      "\u001b[1;31m---------------------------------------------------------------------------\u001b[0m",
      "\u001b[1;31mUserWarning\u001b[0m                               Traceback (most recent call last)",
      "\u001b[1;32m<ipython-input-44-4dcfdcf35d28>\u001b[0m in \u001b[0;36m<module>\u001b[1;34m\u001b[0m\n\u001b[0;32m      9\u001b[0m \u001b[1;33m\u001b[0m\u001b[0m\n\u001b[0;32m     10\u001b[0m \u001b[1;31m# displaying the warning\u001b[0m\u001b[1;33m\u001b[0m\u001b[1;33m\u001b[0m\u001b[1;33m\u001b[0m\u001b[0m\n\u001b[1;32m---> 11\u001b[1;33m \u001b[0mwarnings\u001b[0m\u001b[1;33m.\u001b[0m\u001b[0mwarn\u001b[0m\u001b[1;33m(\u001b[0m\u001b[1;34m'This is a warning message'\u001b[0m\u001b[1;33m)\u001b[0m\u001b[1;33m\u001b[0m\u001b[1;33m\u001b[0m\u001b[0m\n\u001b[0m",
      "\u001b[1;31mUserWarning\u001b[0m: This is a warning message"
     ]
    }
   ],
   "source": [
    "# program to illustrate simplefilter() \n",
    "# function in warning module\n",
    "  \n",
    "# importing module\n",
    "import warnings\n",
    "  \n",
    "# adding a single entry into warnings filter\n",
    "warnings.simplefilter('error', UserWarning)\n",
    "  \n",
    "# displaying the warning\n",
    "warnings.warn('This is a warning message')"
   ]
  },
  {
   "cell_type": "markdown",
   "metadata": {},
   "source": [
    "### In the above program, a single entry is added to the warnings filter using warnings.simplefilter('error', UserWarning) in which the action is \"error\" and category is UserWrning and then the warning is displayed using the warn() method."
   ]
  },
  {
   "cell_type": "code",
   "execution_count": null,
   "metadata": {},
   "outputs": [],
   "source": []
  },
  {
   "cell_type": "markdown",
   "metadata": {},
   "source": [
    "# Temporarily Suppressing Warnings\n",
    "- If you are using code that you know will raise a warning, such as a deprecated function, but do not want to see the warning (even when warnings have been explicitly configured via the command line), then it is possible to suppress the warning using the catch_warnings context manager:"
   ]
  },
  {
   "cell_type": "code",
   "execution_count": 9,
   "metadata": {},
   "outputs": [],
   "source": [
    "import warnings\n",
    "\n",
    "def fxn():\n",
    "    warnings.warn(\"deprecated\", DeprecationWarning)\n",
    "\n",
    "with warnings.catch_warnings():\n",
    "    warnings.simplefilter(\"ignore\")\n",
    "    fxn()\n"
   ]
  },
  {
   "cell_type": "code",
   "execution_count": 14,
   "metadata": {},
   "outputs": [
    {
     "name": "stderr",
     "output_type": "stream",
     "text": [
      "<ipython-input-12-0757793e8fd2>:4: DeprecationWarning: deprecated\n",
      "  warnings.warn(\"deprecated\", DeprecationWarning)\n"
     ]
    }
   ],
   "source": [
    "fxn()"
   ]
  },
  {
   "cell_type": "markdown",
   "metadata": {},
   "source": [
    "# Testing Warnings\n",
    "- To test warnings raised by code, use the catch_warnings context manager. With it you can temporarily mutate the warnings filter to facilitate your testing. For instance, do the following to capture all raised warnings to check:"
   ]
  },
  {
   "cell_type": "code",
   "execution_count": 12,
   "metadata": {},
   "outputs": [],
   "source": [
    "import warnings\n",
    "\n",
    "def fxn():\n",
    "    warnings.warn(\"deprecated\", DeprecationWarning)\n",
    "\n",
    "with warnings.catch_warnings(record=True) as w:\n",
    "    # Cause all warnings to always be triggered.\n",
    "    warnings.simplefilter(\"always\")\n",
    "    # Trigger a warning.\n",
    "    fxn()\n",
    "    # Verify some things\n",
    "    assert len(w) == 1\n",
    "    assert issubclass(w[-1].category, DeprecationWarning)\n",
    "    assert \"deprecated\" in str(w[-1].message)"
   ]
  },
  {
   "cell_type": "code",
   "execution_count": 13,
   "metadata": {},
   "outputs": [
    {
     "name": "stderr",
     "output_type": "stream",
     "text": [
      "<ipython-input-12-0757793e8fd2>:4: DeprecationWarning: deprecated\n",
      "  warnings.warn(\"deprecated\", DeprecationWarning)\n"
     ]
    }
   ],
   "source": [
    "fxn()"
   ]
  },
  {
   "cell_type": "code",
   "execution_count": null,
   "metadata": {},
   "outputs": [],
   "source": []
  },
  {
   "cell_type": "code",
   "execution_count": null,
   "metadata": {},
   "outputs": [],
   "source": []
  },
  {
   "cell_type": "markdown",
   "metadata": {},
   "source": [
    "# Warning example\n",
    "\n",
    "- Following code defines a class with a deprecated method and a method scheduled to be deprecated in a future version of the said class.\n",
    "\n"
   ]
  },
  {
   "cell_type": "code",
   "execution_count": 24,
   "metadata": {},
   "outputs": [
    {
     "name": "stdout",
     "output_type": "stream",
     "text": [
      "method1 7\n",
      "method2 7\n",
      "new method 7\n"
     ]
    },
    {
     "name": "stderr",
     "output_type": "stream",
     "text": [
      "<ipython-input-24-7882e0cbccc5>:8: DeprecationWarning: method1 is deprecated, use new_method instead\n",
      "  warnings.warn(\n",
      "<ipython-input-24-7882e0cbccc5>:15: PendingDeprecationWarning: method2 will be deprecated in version 2, use new_method instead\n",
      "  warnings.warn(\n"
     ]
    }
   ],
   "source": [
    "# warningexample.py\n",
    "import warnings\n",
    "class WarnExample:\n",
    "    def __init__(self):\n",
    "        self.text = \"Warning\"\n",
    "\n",
    "    def method1(self):\n",
    "        warnings.warn(\n",
    "            \"method1 is deprecated, use new_method instead\",\n",
    "            DeprecationWarning\n",
    "        )\n",
    "        print ('method1', len(self.text))\n",
    "\n",
    "    def method2(self):\n",
    "        warnings.warn(\n",
    "            \"method2 will be deprecated in version 2, use new_method instead\",\n",
    "            PendingDeprecationWarning\n",
    "        )\n",
    "        print ('method2', len(self.text))\n",
    "\n",
    "    def new_method(self):\n",
    "        print ('new method', len(self.text))\n",
    "    \n",
    "if __name__=='__main__':\n",
    "    e = WarnExample()\n",
    "    e.method1()\n",
    "    e.method2()\n",
    "    e.new_method()"
   ]
  },
  {
   "cell_type": "code",
   "execution_count": 27,
   "metadata": {},
   "outputs": [
    {
     "name": "stdout",
     "output_type": "stream",
     "text": [
      "method1 7\n"
     ]
    },
    {
     "name": "stderr",
     "output_type": "stream",
     "text": [
      "<ipython-input-24-7882e0cbccc5>:8: DeprecationWarning: method1 is deprecated, use new_method instead\n",
      "  warnings.warn(\n"
     ]
    }
   ],
   "source": [
    "e = WarnExample()\n",
    "e.method1()"
   ]
  },
  {
   "cell_type": "code",
   "execution_count": 28,
   "metadata": {},
   "outputs": [
    {
     "name": "stdout",
     "output_type": "stream",
     "text": [
      "method2 7\n"
     ]
    },
    {
     "name": "stderr",
     "output_type": "stream",
     "text": [
      "<ipython-input-24-7882e0cbccc5>:15: PendingDeprecationWarning: method2 will be deprecated in version 2, use new_method instead\n",
      "  warnings.warn(\n"
     ]
    }
   ],
   "source": [
    "e.method2()"
   ]
  },
  {
   "cell_type": "code",
   "execution_count": 30,
   "metadata": {},
   "outputs": [
    {
     "name": "stdout",
     "output_type": "stream",
     "text": [
      "new method 7\n"
     ]
    }
   ],
   "source": [
    "e.new_method()"
   ]
  },
  {
   "cell_type": "code",
   "execution_count": null,
   "metadata": {},
   "outputs": [],
   "source": []
  },
  {
   "cell_type": "code",
   "execution_count": null,
   "metadata": {},
   "outputs": [],
   "source": []
  },
  {
   "cell_type": "markdown",
   "metadata": {},
   "source": [
    "# Warnings Filters"
   ]
  },
  {
   "cell_type": "code",
   "execution_count": 31,
   "metadata": {},
   "outputs": [],
   "source": [
    "warnings.simplefilter('default')"
   ]
  },
  {
   "cell_type": "code",
   "execution_count": 32,
   "metadata": {},
   "outputs": [],
   "source": [
    "e=WarnExample()"
   ]
  },
  {
   "cell_type": "code",
   "execution_count": 33,
   "metadata": {},
   "outputs": [
    {
     "name": "stdout",
     "output_type": "stream",
     "text": [
      "method1 7\n"
     ]
    },
    {
     "name": "stderr",
     "output_type": "stream",
     "text": [
      "<ipython-input-24-7882e0cbccc5>:8: DeprecationWarning: method1 is deprecated, use new_method instead\n",
      "  warnings.warn(\n"
     ]
    }
   ],
   "source": [
    "e.method1()"
   ]
  },
  {
   "cell_type": "code",
   "execution_count": 34,
   "metadata": {},
   "outputs": [
    {
     "name": "stdout",
     "output_type": "stream",
     "text": [
      "method2 7\n"
     ]
    },
    {
     "name": "stderr",
     "output_type": "stream",
     "text": [
      "<ipython-input-24-7882e0cbccc5>:15: PendingDeprecationWarning: method2 will be deprecated in version 2, use new_method instead\n",
      "  warnings.warn(\n"
     ]
    }
   ],
   "source": [
    "e.method2()"
   ]
  },
  {
   "cell_type": "code",
   "execution_count": 35,
   "metadata": {},
   "outputs": [
    {
     "name": "stdout",
     "output_type": "stream",
     "text": [
      "new method 7\n"
     ]
    }
   ],
   "source": [
    "e.new_method()"
   ]
  },
  {
   "cell_type": "code",
   "execution_count": null,
   "metadata": {},
   "outputs": [],
   "source": []
  },
  {
   "cell_type": "markdown",
   "metadata": {},
   "source": [
    "## In order to temporarily suppress warnings, set simplefilter to 'ignore'."
   ]
  },
  {
   "cell_type": "code",
   "execution_count": 38,
   "metadata": {},
   "outputs": [],
   "source": [
    "import warnings\n",
    "\n",
    "def function():\n",
    "    warnings.warn(\"deprecated\", DeprecationWarning)\n",
    "\n",
    "with warnings.catch_warnings():\n",
    "    warnings.simplefilter(\"ignore\")\n",
    "    function()"
   ]
  },
  {
   "cell_type": "code",
   "execution_count": 40,
   "metadata": {},
   "outputs": [
    {
     "name": "stderr",
     "output_type": "stream",
     "text": [
      "<ipython-input-38-e0597e3f94a2>:4: DeprecationWarning: deprecated\n",
      "  warnings.warn(\"deprecated\", DeprecationWarning)\n"
     ]
    }
   ],
   "source": [
    "function()"
   ]
  },
  {
   "cell_type": "code",
   "execution_count": null,
   "metadata": {},
   "outputs": [],
   "source": []
  }
 ],
 "metadata": {
  "kernelspec": {
   "display_name": "Rpy37",
   "language": "python",
   "name": "rpy37"
  },
  "language_info": {
   "codemirror_mode": {
    "name": "ipython",
    "version": 3
   },
   "file_extension": ".py",
   "mimetype": "text/x-python",
   "name": "python",
   "nbconvert_exporter": "python",
   "pygments_lexer": "ipython3",
   "version": "3.8.1"
  }
 },
 "nbformat": 4,
 "nbformat_minor": 4
}
