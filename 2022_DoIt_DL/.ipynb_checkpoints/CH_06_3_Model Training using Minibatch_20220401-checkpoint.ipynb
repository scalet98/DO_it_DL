{
 "cells": [
  {
   "cell_type": "markdown",
   "metadata": {},
   "source": [
    "# CH_06_3_Model Training using Minibatch\n",
    "\n",
    "- Last update : 2022.04.01."
   ]
  },
  {
   "cell_type": "markdown",
   "metadata": {},
   "source": [
    "## Previous Chapter methods : \n",
    ">### # SingleLayer\n",
    ">### # DoubleLayer\n",
    ">### # RandomInitNetwork"
   ]
  },
  {
   "cell_type": "code",
   "execution_count": 1,
   "metadata": {},
   "outputs": [
    {
     "name": "stdout",
     "output_type": "stream",
     "text": [
      "(364, 30) (91, 30)\n"
     ]
    }
   ],
   "source": [
    "##=============================================================\n",
    "# Sample Dataset \n",
    "##=============================================================\n",
    "import numpy as np \n",
    "import matplotlib.pyplot as plt\n",
    "from sklearn.datasets import load_breast_cancer\n",
    "from sklearn.model_selection import train_test_split \n",
    "\n",
    "cancer = load_breast_cancer( )\n",
    "x = cancer.data \n",
    "y = cancer.target\n",
    "x_train_all, x_test, y_train_all, y_test = train_test_split(x, y, stratify=y, \n",
    "                                                           test_size=0.2, random_state=42)\n",
    "\n",
    "x_train, x_val, y_train, y_val = train_test_split(x_train_all, y_train_all, stratify= y_train_all, \n",
    "                                                  test_size=0.2, random_state=42)\n",
    "# Verification of training set size and verification set size \n",
    "print(x_train.shape, x_val.shape)"
   ]
  },
  {
   "cell_type": "code",
   "execution_count": 2,
   "metadata": {
    "scrolled": true
   },
   "outputs": [
    {
     "name": "stdout",
     "output_type": "stream",
     "text": [
      ">>> x_train_scaled =\n",
      " [[ 0.21529445 -0.3313719   0.17983103 ... -0.48870759  1.0446075\n",
      "  -0.6393202 ]\n",
      " [-0.6557398  -1.14919128 -0.71043609 ... -0.49139007  0.27379602\n",
      "  -0.9632616 ]\n",
      " [ 0.18967579  0.55160342  0.16625487 ...  1.00632788  1.19598931\n",
      "   1.3439391 ]\n",
      " ...\n",
      " [ 0.11281983 -0.88856752  0.10125385 ...  0.65611522 -0.35953605\n",
      "  -0.42335927]\n",
      " [ 0.96108195  1.44356576  0.94585569 ... -0.08901809 -2.0401831\n",
      "  -0.8927216 ]\n",
      " [-0.74398184 -0.41000838 -0.73429722 ... -0.77275241 -0.52482027\n",
      "  -0.19925911]]\n",
      "=============================================================================\n",
      ">>> x_val_scaled =\n",
      " [[-0.80945173  2.29958    -0.85730548 ... -1.7268211  -2.09733746\n",
      "  -1.38812946]\n",
      " [ 0.89845857  1.20990308  0.93351373 ...  1.10319521  0.60127505\n",
      "   2.67334684]\n",
      " [ 1.14895208  0.60777233  1.06516136 ... -0.35860732 -0.85693343\n",
      "  -1.0338016 ]\n",
      " ...\n",
      " [-0.65004677  0.55385017 -0.69068894 ... -1.17318705 -0.75807184\n",
      "  -1.03108852]\n",
      " [-0.51056743 -0.26846272 -0.54464235 ... -0.50316318  0.29233257\n",
      "  -0.17972496]\n",
      " [ 0.75328619  0.23930426  0.64142054 ... -0.42477516  2.70826272\n",
      "  -0.4559162 ]]\n"
     ]
    }
   ],
   "source": [
    "##=============================================================\n",
    "## Preprocessing training data standardization\n",
    "##=============================================================\n",
    "import numpy as np\n",
    "import matplotlib.pyplot as plt \n",
    "from sklearn.preprocessing import StandardScaler\n",
    "\n",
    "scaler = StandardScaler()                # transform dataset into m=0 std=1\n",
    "scaler.fit(x_train)\n",
    "x_train_scaled = scaler.transform(x_train)\n",
    "x_val_scaled = scaler.transform(x_val)\n",
    "\n",
    "\n",
    "print (\">>> x_train_scaled =\\n\", x_train_scaled)\n",
    "print(\"=============================================================================\")\n",
    "print (\">>> x_val_scaled =\\n\", x_val_scaled)"
   ]
  },
  {
   "cell_type": "markdown",
   "metadata": {},
   "source": [
    "## SingleLayer Method class "
   ]
  },
  {
   "cell_type": "code",
   "execution_count": 3,
   "metadata": {},
   "outputs": [],
   "source": [
    "##=============================================================\n",
    "# SingleLayer Method class \n",
    "##=============================================================\n",
    "\n",
    "class SingleLayer:\n",
    "    \n",
    "    def __init__(self, learning_rate=0.1, l1=0, l2=0):\n",
    "        self.w = None                   # weight  \n",
    "        self.b = None                   # interscept \n",
    "        self.losses = []                # training loss \n",
    "        self.val_losses = []            # verification loss \n",
    "        self.w_history = []             # weight records \n",
    "        self.lr = learning_rate         # learning rate  \n",
    "        self.l1 = l1                    # L1 loss hyperparameter \n",
    "        self.l2 = l2                    # L2 loss hyperparameter \n",
    "        \n",
    "    def forpass(self, x): \n",
    "        z = np.dot(x, self.w) + self.b      # linear output calculation \n",
    "        return z \n",
    "    \n",
    "    def backprop(self, x, err): \n",
    "        m = len(x)\n",
    "        w_grad = np.dot(x.T, err) / m       # Gradient Calculation on weight \n",
    "        b_grad = np.sum(err) / m            # Gradient Calculation on intercept\n",
    "        return w_grad, b_grad \n",
    "    \n",
    "    def activation(self, z): \n",
    "        z = np.clip(z, -100, None)          # for safe np.exp() calculation \n",
    "        a = 1/(1 + np.exp(-z))              # Sigmoid calculation \n",
    "        return a \n",
    "    \n",
    "    def fit(self, x, y, epochs=100, x_val=None, y_val=None):\n",
    "        y = y.reshape(-1, 1)                              # Change the target as column vector \n",
    "        y_val = y_val.reshape(-1, 1)                      # Change the verification target as column vector\n",
    "        m = len(x)                                        # Save the no. of sample \n",
    "        self.w = np.ones((x.shape[1], 1))                 # Initialize the weight  \n",
    "        self.b = 0                                        # Initialize the interscept \n",
    "        self.w_history.append(self.w.copy( ))             # Record the weight \n",
    "        # repeat routine epochs times \n",
    "        for i in range(epochs): \n",
    "            z = self.forpass(x)                            # Implement Forward propagation Calculation \n",
    "            a = self.activation(z)                         # Apply activation function \n",
    "            err = -(y - a)                                 # Calculate error \n",
    "            # Calculating Gradient by error backpropagation \n",
    "            w_grad, b_grad = self.backprop(x, err)\n",
    "            # Add differentiation of pannelty in Gradient \n",
    "            w_grad += (self.l1 * np.sign(self.w) + self.l2 * self.w) / m \n",
    "            # updating weight and interscept \n",
    "            self.w -= self.lr * w_grad \n",
    "            self.b -= self.lr * b_grad \n",
    "            # recording weight \n",
    "            self.w_history.append(self.w.copy( ))\n",
    "            # Clipping for safe log calculation \n",
    "            a = np.clip(a, 1e-10, 1-1e-10)\n",
    "            # adding log loss and rule loss and adding it to the list\n",
    "            loss = np.sum(-(y*np.log(a) + (1-y)*np.log(1-a)))\n",
    "            self.losses.append((loss + self.reg_loss( )) / m)\n",
    "            # calculating loss on verification set \n",
    "            self.update_val_loss(x_val, y_val)\n",
    "            \n",
    "    def predict(self, x): \n",
    "        z = self.forpass(x)                 # Implement forward propagation Calculation \n",
    "        return z > 0                        # Apply Step function \n",
    "\n",
    "    def score(self, x, y): \n",
    "        # return True ratio by comparing prediction and Target column vector \n",
    "        return np.mean(self.predict(x) == y.reshape(-1, 1))\n",
    "\n",
    "    def reg_loss(self): \n",
    "        # Apply Regularization on weight \n",
    "        return self.l1 * np.sum(np.abs(self.w)) + self.l2 / 2 * np.sum(self.w**2)\n",
    "\n",
    "    def update_val_loss(self, x_val, y_val): \n",
    "        z = self.forpass(x_val)             # Implement forward propagation Calculation \n",
    "        a = self.activation(z)              # Implenent activation function \n",
    "        a = np.clip(a, 1e-10, 1-1e-10)      # Clipping output \n",
    "        # merging log loss with Regularization loss and adding it to the list\n",
    "        val_loss = np.sum(-(y_val*np.log(a) + (1-y_val)*np.log(1-a)))\n",
    "        self.val_losses.append((val_loss + self.reg_loss()) / len(y_val))"
   ]
  },
  {
   "cell_type": "markdown",
   "metadata": {},
   "source": [
    "## Dual layer Neural Network"
   ]
  },
  {
   "cell_type": "code",
   "execution_count": 4,
   "metadata": {},
   "outputs": [],
   "source": [
    "##=============================================================\n",
    "# 1. Generating DualLayer class being inherited from SingleLayer class \n",
    "#----------------------------------------------------------------------\n",
    "class DualLayer(SingleLayer): \n",
    "    \n",
    "    def __init__(self, units=10, learning_rate=0.1, l1=0, l2=0):\n",
    "        self.units = units                 # No. of Neuron in hidden layer \n",
    "        self.w1 = None                     # wight of hidden layer \n",
    "        self.b1 = None                     # intercept of hidden layer \n",
    "        self.w2 = None                     # weight of output layer \n",
    "        self.b2 = None                     # intercept of output layer  \n",
    "        self.a1 = None                     # activation output of hidden layer \n",
    "        self.losses = []                   # training loss \n",
    "        self.val_losses = []               # varifying loss \n",
    "        self.lr = learning_rate            # learning rate \n",
    "        self.l1 = l1                       # L1 loss Hyperparamter\n",
    "        self.l2 = l2                       # L2 loss Hyperparamter\n",
    "    #---------------------------------------------\n",
    "    # 2. Modifying forpass() method \n",
    "    #---------------------------------------------\n",
    "    def forpass(self, x): \n",
    "        z1 = np.dot(x, self.w1) + self.b1            # Calculating linear regression of first layer\n",
    "        self.a1 = self.activation(z1)                # Applying Activation Function \n",
    "        z2 = np.dot(self.a1, self.w2) + self.b2      # Calculating linear regression of second layer\n",
    "        return z2 \n",
    "\n",
    "    #---------------------------------------------\n",
    "    # 3. Modifying backprop() method\n",
    "    #---------------------------------------------\n",
    "    def backprop(self, x, err): \n",
    "        m = len(x)                 # no. of sample \n",
    "        # Calculating Gradient on weight and intercept in output layer \n",
    "        w2_grad = np.dot(self.a1.T, err) / m \n",
    "        b2_grad = np.sum(err) / m \n",
    "        # Calculating Gradient in sigmoid function \n",
    "        err_to_hidden = np.dot(err, self.w2.T) * self.a1 * (1 - self.a1)\n",
    "        # Calculating Gradient on weight and intercept in hidden layer\n",
    "        w1_grad = np.dot(x.T, err_to_hidden) / m\n",
    "        b1_grad = np.sum(err_to_hidden, axis=0) / m \n",
    "        return w1_grad, b1_grad, w2_grad, b2_grad\n",
    "\n",
    "    #---------------------------------------------\n",
    "    # 4. Modifying fit() method (1)\n",
    "    #---------------------------------------------\n",
    "    # 5. weight initializing part : init_weights(self, n_features) \n",
    "    #---------------------------------------------\n",
    "    def init_weights(self, n_features): \n",
    "        self.w1 = np.ones((n_features, self.units))      # (no. of features, size of hidden layer)\n",
    "        self.b1 = np.zeros(self.units)                   # size of hidden layer\n",
    "        self.w2 = np.ones((self.units, 1))               # (size of hidden layer, 1)\n",
    "        self.b2 = 0 \n",
    "\n",
    "    #---------------------------------------------\n",
    "    # 6. training method separation in for() block\n",
    "    #---------------------------------------------\n",
    "    def fit(self, x, y, epochs=100, x_val=None, y_val=None): \n",
    "        y = y.reshape(-1, 1)                  # change the target as column vector\n",
    "        y_val = y_val.reshape(-1, 1)                      \n",
    "        m = len(x)                            # saving the no. of sample \n",
    "        self.init_weights(x.shape[1])         # initializing weights of hidden layer and output layer\n",
    "        # repeat routine epochs times \n",
    "        for i in range(epochs): \n",
    "            a = self.training(x, y, m)\n",
    "            # clipping data for safe log calculation \n",
    "            a = np.clip(a, 1e-10, 1-1e-10)\n",
    "            # merging log loss into Regularatory loss and adding it to the list \n",
    "            loss = np.sum(-(y*np.log(a) + (1-y)*np.log(1-a)))\n",
    "            self.losses.append((loss + self.reg_loss()) / m)\n",
    "            # Calculating loss for verification set \n",
    "            self.update_val_loss(x_val, y_val)\n",
    "\n",
    "    def training(self, x, y, m): \n",
    "        z = self.forpass(x)                # Implementing forward propagation calculation \n",
    "        a = self.activation(z)             # Applying activation function \n",
    "        err = -(y - a)                     # Caculating errors \n",
    "        # Caculating Gradient by backpropagating errors\n",
    "        w1_grad, b1_grad, w2_grad, b2_grad = self.backprop(x, err)\n",
    "        # Eliminating differentiation in penalty in Gradient \n",
    "        w1_grad += (self.l1 * np.sign(self.w1) + self.l2 * self.w1) / m \n",
    "        w2_grad += (self.l1 * np.sign(self.w2) + self.l2 * self.w2) / m \n",
    "        # updating weight and interscept in hidden layer \n",
    "        self.w1 -= self.lr * w1_grad \n",
    "        self.b1 -= self.lr * b1_grad \n",
    "        # updating weight and interscept in output layer \n",
    "        self.w2 -= self.lr * w2_grad\n",
    "        self.b2 -= self.lr * b2_grad \n",
    "        return a   \n",
    "\n",
    "    #---------------------------------------------\n",
    "    # 7. Modifying reg_loss() method \n",
    "    #---------------------------------------------\n",
    "    def reg_loss(self): \n",
    "        # applying Regulatory on weight of hidden layer and outpur layer \n",
    "        return self.l1 * (np.sum(np.abs(self.w1)) + np.sum(np.abs(self.w2))) + \\\n",
    "               self.l2 / 2 * (np.sum(self.w1**2) + np.sum(self.w2**2))\n",
    "\n",
    "\n",
    "\n",
    "##=============================================================\n",
    "## Improving weight initialization\n",
    "##=============================================================\n",
    "# 1. Modifying init_weights() method for weight initialization\n",
    "##=============================================================\n",
    "class RandomInitNetwork(DualLayer):\n",
    "    \n",
    "    def init_weights(self, n_features):\n",
    "        np.random.seed(42)\n",
    "        self.w1 = np.random.normal(0, 1, \n",
    "                                   (n_features, self.units))   # (no. of features, size of hidden layer)\n",
    "        self.b1 = np.zeros(self.units)                         # size of hidden layer\n",
    "        self.w2 = np.random.normal(0, 1, (self.units, 1))      # (size of hidden layer, 1) \n",
    "        self.b2 = 0"
   ]
  },
  {
   "cell_type": "markdown",
   "metadata": {},
   "source": [
    "## 1. Implementing Minibatch Gradient descent "
   ]
  },
  {
   "cell_type": "code",
   "execution_count": 5,
   "metadata": {},
   "outputs": [],
   "source": [
    "##===============================================\n",
    "# 1.1. Generating MinibatchNetwork Class\n",
    "##===============================================\n",
    "class MinibatchNetwork(RandomInitNetwork): \n",
    "  \n",
    "    def __init__(self, units=10, batch_size=32, learning_rate=0.1, l1=0, l2=0):\n",
    "        super( ).__init__(units, learning_rate, l1, l2)\n",
    "        self.batch_size = batch_size       # batch size \n",
    "\n",
    "    ##===============================================\n",
    "    # 1.2. Modifying fit() Method\n",
    "    ##===============================================\n",
    "    def fit(self, x, y, epochs=100, x_val=None, y_val=None): \n",
    "        y_val = y_val.reshape(-1, 1)             # change the target into column vector\n",
    "        self.init_weights(x.shape[1])            # Initializing the weights of hidden layer and outpur layer \n",
    "        np.random.seed(42)\n",
    "\n",
    "        # repeat the routine epoch times \n",
    "        for i in range(epochs):\n",
    "            loss = 0\n",
    "            # Circulating minibatch returned from generator function \n",
    "            for x_batch, y_batch in self.gen_batch(x, y):\n",
    "                y_batch = y_batch.reshape(-1, 1)             # change the target into column vector\n",
    "                m = len(x_batch)                             # savting the no. of samples\n",
    "                a = self.training(x_batch, y_batch, m)\n",
    "                # Clipping variable for safe log calculation \n",
    "                a = np.clip(a, 1e-10, 1-1e-10)\n",
    "                # Merging log loss with Regularization loss and adding it to the list \n",
    "                loss += np.sum(-(y_batch*np.log(a) + (1-y_batch)*np.log(1-a)))\n",
    "            self.losses.append((loss + self.reg_loss( )) / len(x))\n",
    "            # Calculate the loss of verification set \n",
    "            self.update_val_loss(x_val, y_val)\n",
    "\n",
    "    ##===============================================\n",
    "    # 1.3. Generating gen_batch() Method\n",
    "    ##===============================================\n",
    "    # minibatch generator function \n",
    "    def gen_batch(self, x, y): \n",
    "        length = len(x)\n",
    "        bins = length // self.batch_size            # minibatch frequency \n",
    "        if length % self.batch_size: \n",
    "            bins += 1                               # if it has a remainder...    \n",
    "        indexes = np.random.permutation(np.arange(len(x)))      # shuffling the indices \n",
    "        x = x[indexes]\n",
    "        y = y[indexes]\n",
    "        for i in range(bins): \n",
    "            start = self.batch_size * i \n",
    "            end = self.batch_size * (i + 1)\n",
    "            yield x[start:end], y[start:end]        # returning the variables slicing in batch_size length"
   ]
  },
  {
   "cell_type": "markdown",
   "metadata": {},
   "source": [
    "## Sample Dataset & Preprocessing training data standardization"
   ]
  },
  {
   "cell_type": "code",
   "execution_count": 6,
   "metadata": {},
   "outputs": [
    {
     "name": "stdout",
     "output_type": "stream",
     "text": [
      ">>> Score :  0.978021978021978\n"
     ]
    }
   ],
   "source": [
    "# 1.4. Implementing Minibatch Gradient descent \n",
    "\n",
    "minibatch_net = MinibatchNetwork(l2=0.01, batch_size=32)\n",
    "minibatch_net.fit(x_train_scaled, y_train, x_val=x_val_scaled, y_val=y_val, epochs=500)\n",
    "minibatch_net.score(x_val_scaled, y_val)\n",
    "print (\">>> Score : \", minibatch_net.score(x_val_scaled, y_val))"
   ]
  },
  {
   "cell_type": "code",
   "execution_count": 7,
   "metadata": {},
   "outputs": [
    {
     "data": {
      "image/png": "[encoded data removed]",
      "text/plain": [
       "<Figure size 432x288 with 1 Axes>"
      ]
     },
     "metadata": {
      "needs_background": "light"
     },
     "output_type": "display_data"
    }
   ],
   "source": [
    "# plot the graph \n",
    "fig, ax1 = plt.subplots()\n",
    "\n",
    "ax1.plot(minibatch_net.losses)\n",
    "ax1.plot(minibatch_net.val_losses)\n",
    "\n",
    "ax1.set_title('Loss function', fontsize = '23')\n",
    "ax1.set_ylabel('loss', fontsize = '16')\n",
    "ax1.set_ylabel('Iteratioin', fontsize = '16')\n",
    "\n",
    "ax1.legend(['train_loss', 'val_loss'], fontsize = '14')\n",
    "\n",
    "ax1.grid( )\n",
    "plt.show( )"
   ]
  },
  {
   "cell_type": "code",
   "execution_count": 8,
   "metadata": {},
   "outputs": [
    {
     "name": "stdout",
     "output_type": "stream",
     "text": [
      ">>> Score :  0.978021978021978\n"
     ]
    }
   ],
   "source": [
    "# 1.5. Retrial after resizing \n",
    "\n",
    "minibatch_net2 = MinibatchNetwork(l2=0.01, batch_size=128)\n",
    "minibatch_net2.fit(x_train_scaled, y_train, x_val=x_val_scaled, y_val=y_val, epochs=500)\n",
    "minibatch_net2.score(x_val_scaled, y_val)\n",
    "print (\">>> Score : \", minibatch_net2.score(x_val_scaled, y_val))"
   ]
  },
  {
   "cell_type": "code",
   "execution_count": 13,
   "metadata": {
    "scrolled": true
   },
   "outputs": [
    {
     "data": {
      "image/png": "[encoded data removed]",
      "text/plain": [
       "<Figure size 432x288 with 1 Axes>"
      ]
     },
     "metadata": {
      "needs_background": "light"
     },
     "output_type": "display_data"
    }
   ],
   "source": [
    "# plot the graph \n",
    "fig, ax2 = plt.subplots()\n",
    "\n",
    "ax2.plot(minibatch_net2.losses)\n",
    "ax2.plot(minibatch_net2.val_losses)\n",
    "\n",
    "ax2.set_title('Loss function', fontsize = '23')\n",
    "ax2.set_ylabel('loss', fontsize = '16')\n",
    "ax2.set_ylabel('Iteratioin', fontsize = '16')\n",
    "\n",
    "ax2.legend(['train_loss', 'val_loss'], fontsize = '14')\n",
    "\n",
    "ax2.grid( )\n",
    "plt.show( )"
   ]
  },
  {
   "cell_type": "code",
   "execution_count": null,
   "metadata": {},
   "outputs": [],
   "source": []
  },
  {
   "cell_type": "markdown",
   "metadata": {},
   "source": [
    "## 2. Training MultiLayer Neural Network using sklearn "
   ]
  },
  {
   "cell_type": "code",
   "execution_count": 10,
   "metadata": {},
   "outputs": [],
   "source": [
    "# 2.1. Generating the Object of MLPClassifier \n",
    "\n",
    "from sklearn.neural_network import MLPClassifier \n",
    "mlp = MLPClassifier(hidden_layer_sizes = (10, ), activation = 'logistic', \n",
    "                    solver='sgd', alpha=0.01, batch_size=32, \n",
    "                    learning_rate_init=0.1, max_iter=500)"
   ]
  },
  {
   "cell_type": "code",
   "execution_count": 11,
   "metadata": {},
   "outputs": [
    {
     "name": "stdout",
     "output_type": "stream",
     "text": [
      ">>> Score :  0.989010989010989\n"
     ]
    }
   ],
   "source": [
    "# 2.2. Training Model \n",
    "\n",
    "mlp.fit(x_train_scaled, y_train)\n",
    "print (\">>> Score : \", mlp.score(x_val_scaled, y_val))"
   ]
  },
  {
   "cell_type": "code",
   "execution_count": null,
   "metadata": {},
   "outputs": [],
   "source": []
  }
 ],
 "metadata": {
  "kernelspec": {
   "display_name": "Rpy37",
   "language": "python",
   "name": "rpy37"
  },
  "language_info": {
   "codemirror_mode": {
    "name": "ipython",
    "version": 3
   },
   "file_extension": ".py",
   "mimetype": "text/x-python",
   "name": "python",
   "nbconvert_exporter": "python",
   "pygments_lexer": "ipython3",
   "version": "3.8.1"
  }
 },
 "nbformat": 4,
 "nbformat_minor": 4
}
