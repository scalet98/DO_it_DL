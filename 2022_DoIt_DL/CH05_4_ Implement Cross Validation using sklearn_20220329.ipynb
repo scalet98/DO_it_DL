{
 "cells": [
  {
   "cell_type": "markdown",
   "metadata": {},
   "source": [
    "# CH05_4_Implement Cross Validation using sklearn\n",
    "- update : 2022.03.29."
   ]
  },
  {
   "cell_type": "markdown",
   "metadata": {},
   "source": [
    "# Previous Chapter Results"
   ]
  },
  {
   "cell_type": "code",
   "execution_count": 1,
   "metadata": {},
   "outputs": [],
   "source": [
    "import numpy as np\n",
    "import pandas as pd\n",
    "import matplotlib.pyplot as plt\n",
    "\n",
    "from sklearn.linear_model import SGDClassifier "
   ]
  },
  {
   "cell_type": "markdown",
   "metadata": {},
   "source": [
    "## Verification Dataset Preparation"
   ]
  },
  {
   "cell_type": "code",
   "execution_count": 2,
   "metadata": {},
   "outputs": [
    {
     "name": "stdout",
     "output_type": "stream",
     "text": [
      "364 91\n"
     ]
    },
    {
     "data": {
      "text/plain": [
       "0.9035087719298246"
      ]
     },
     "execution_count": 2,
     "metadata": {},
     "output_type": "execute_result"
    }
   ],
   "source": [
    "# -----------------------------------------------------\n",
    "# 1. Dataset Preparation \n",
    "# -----------------------------------------------------\n",
    "from sklearn.datasets import load_breast_cancer \n",
    "from sklearn.model_selection import train_test_split\n",
    "\n",
    "cancer = load_breast_cancer()\n",
    "\n",
    "x = cancer.data \n",
    "y = cancer.target \n",
    "\n",
    "x_train_all, x_test, y_train_all, y_test = train_test_split(x, y, stratify=y, test_size=0.2, \n",
    "                                                            random_state=42)\n",
    "\n",
    "# -----------------------------------------------------\n",
    "# 2. Verificatioin set seperation \n",
    "# -----------------------------------------------------\n",
    "x_train, x_val, y_train, y_val = train_test_split(x_train_all, y_train_all, \n",
    "                                                  stratify=y_train_all, test_size=0.2, random_state=42)\n",
    "\n",
    "print (len(x_train), len(x_val))\n",
    "\n",
    "# -----------------------------------------------------\n",
    "# 3. Model Evaluation using Verification set \n",
    "# -----------------------------------------------------\n",
    "sgd = SGDClassifier(loss ='log', random_state=42)\n",
    "sgd.fit(x_train, y_train)\n",
    "sgd.score(x_val, y_val)\n",
    "\n",
    "# -----------------------------------------------------\n",
    "# Model Trainning and Evaluating using support vector machine\n",
    "# -----------------------------------------------------\n",
    "from sklearn.linear_model import SGDClassifier \n",
    "\n",
    "sgd = SGDClassifier(loss ='hinge', random_state=42)\n",
    "sgd.fit(x_train, y_train)\n",
    "sgd.score(x_test, y_test)"
   ]
  },
  {
   "cell_type": "code",
   "execution_count": null,
   "metadata": {},
   "outputs": [],
   "source": []
  },
  {
   "cell_type": "markdown",
   "metadata": {},
   "source": [
    "# Application of Regularization on Logistic Regression "
   ]
  },
  {
   "cell_type": "markdown",
   "metadata": {},
   "source": [
    "# Updated Generating Single layer Neural Network"
   ]
  },
  {
   "cell_type": "code",
   "execution_count": 3,
   "metadata": {},
   "outputs": [],
   "source": [
    "class SingleLayer: \n",
    "    \n",
    "    #--------------------------------------------\n",
    "    # Add variables for recording verification losses\n",
    "    #--------------------------------------------\n",
    "    def __init__(self, learning_rate=0.1, l1=0, l2=0): \n",
    "        self.w = None \n",
    "        self.b = None \n",
    "        self.losses = []\n",
    "        self.val_losses = []\n",
    "        self.w_history = []\n",
    "        self.lr = learning_rate   \n",
    "        self.l1 = l1\n",
    "        self.l2 = l2\n",
    "        \n",
    "    def forpass(self, x):\n",
    "        z = np.sum(x * self.w) + self.b      # Calculating line function \n",
    "        return z \n",
    "    \n",
    "    def backprop(self, x, err):\n",
    "        w_grad = x * err                     # Calculating gradient on weight \n",
    "        b_grad = 1 * err                     # Calculating gradient on interscept \n",
    "        return w_grad, b_grad \n",
    "    \n",
    "    #--------------------------------------------\n",
    "    # Generating activation() method\n",
    "    #--------------------------------------------\n",
    "    def activation(self, z): \n",
    "        a = 1 / (1 + np.exp(-z))             # sigmoid calculation \n",
    "        return a     \n",
    "    \n",
    "    #--------------------------------------------\n",
    "    # Generating fit() method \n",
    "    #--------------------------------------------  \n",
    "    # mixing sample order of trainning set in each epoch \n",
    "    #--------------------------------------------  \n",
    "    # 3. Recording weight and Managing update quantity \n",
    "    #--------------------------------------------  \n",
    "    def fit(self, x, y, epochs=100, x_val=None, y_val=None):\n",
    "        self.w = np.ones(x.shape[1])              # initializing weight \n",
    "        self.b = 0                                # initializing intercept\n",
    "        self.w_history.append(self.w.copy())      # recording weight\n",
    "        np.random.seed(42)                        # designating random seed\n",
    "\n",
    "        for i in range(epochs):                   # repeate epoches times \n",
    "            loss = 0 \n",
    "\n",
    "            # shuffle indices \n",
    "            indexes = np.random.permutation(np.arange(len(x))) \n",
    "            for i in indexes:                               # repeat for each sample \n",
    "                z = self.forpass(x[i])                      # forward propagation caculation \n",
    "                a = self.activation(z)                      # activation function application \n",
    "                err = -(y[i] - a)                           # error calculation  \n",
    "                w_grad, b_grad = self.backprop(x[i], err)   # backward propagation calculation \n",
    "\n",
    "                # adding defferentiation of pannelty in Gradient\n",
    "                w_grad += self.l1 * np.sign(self.w) + self.l2 * self.w \n",
    "                self.w -= self.lr * w_grad                  # updating weight \n",
    "                self.b -= b_grad                            # updating interscept \n",
    "\n",
    "                # recording weight \n",
    "                self.w_history.append(self.w.copy())\n",
    "\n",
    "                # accumulating losses after clipping for safe log calculation \n",
    "                a = np.clip(a, 1e-10, 1-1e-10)\n",
    "                loss += -(y[i]*np.log(a)+(1-y[i])*np.log(1-a))\n",
    "\n",
    "            # saving average losses in each epoch \n",
    "            self.losses.append(loss/len(y))\n",
    "\n",
    "            # calculating losses for verification set \n",
    "            self.update_val_loss(x_val, y_val)\n",
    "\n",
    "    #--------------------------------------------\n",
    "    # Add Pannelty on Logistic Loss Function Calculation    \n",
    "    #--------------------------------------------\n",
    "    def reg_loss(self): \n",
    "        return self.l1 * np.sum(np.abs(self.w)) + self.l2 / 2 * np.sum(self.w**2)\n",
    "\n",
    "    #--------------------------------------------\n",
    "    # Modifying update_val_loss() method to call reg_loss()\n",
    "    #--------------------------------------------\n",
    "    def update_val_loss(self, x_val, y_val): \n",
    "        if x_val is None: \n",
    "            return \n",
    "        val_loss = 0 \n",
    "\n",
    "        for i in range(len(x_val)): \n",
    "            z = self.forpass(x_val[i])\n",
    "            a = self.activation(z)\n",
    "            a = np.clip(a, 1e-10, 1-1e-10)\n",
    "            val_loss += -(y_val[i] * np.log(a) + (1-y_val[i]) * np.log(1-a))\n",
    "        self.val_losses.append(val_loss/len(y_val) + self.reg_loss())\n",
    "         \n",
    "    #--------------------------------------------\n",
    "    # Calculation of verification losses\n",
    "    #--------------------------------------------\n",
    "    def update_val_loss(self, x_val, y_val):\n",
    "        if x_val is None: \n",
    "            return \n",
    "        val_loss = 0 \n",
    "        for i in range(len(x_val)):\n",
    "            z = self.forpass(x_val[i])               # forward propagation calculation      \n",
    "            a = self.activation(z)                   # activation function application \n",
    "            a = np.clip(a, 1e-10, 1-1e-10)\n",
    "            val_loss += -(y_val[i]*np.log(a) + (1-y_val[i])*np.log(1-a))\n",
    "        self.val_losses.append(val_loss/len(y_val))\n",
    "        \n",
    "    #--------------------------------------------\n",
    "    # Generating Predicting method \n",
    "    #--------------------------------------------\n",
    "    # adding Score method()\n",
    "    #--------------------------------------------\n",
    "    def predict(self, x): \n",
    "        z = [self.forpass(x_i) for x_i in x]        # forward propogation calculation \n",
    "        return np.array(z) > 0                      # step function application    \n",
    "\n",
    "    def score(self, x, y): \n",
    "        return np.mean(self.predict(x) ==y)            "
   ]
  },
  {
   "cell_type": "code",
   "execution_count": null,
   "metadata": {},
   "outputs": [],
   "source": []
  },
  {
   "cell_type": "markdown",
   "metadata": {},
   "source": [
    "# Implement K-fold Cross Validation "
   ]
  },
  {
   "cell_type": "markdown",
   "metadata": {},
   "source": [
    "## 1. Apply Tainning set"
   ]
  },
  {
   "cell_type": "code",
   "execution_count": 4,
   "metadata": {},
   "outputs": [],
   "source": [
    "validation_scores = []"
   ]
  },
  {
   "cell_type": "markdown",
   "metadata": {},
   "source": [
    "## 2. K-fold Cross Validation Implementation "
   ]
  },
  {
   "cell_type": "code",
   "execution_count": 5,
   "metadata": {},
   "outputs": [
    {
     "name": "stdout",
     "output_type": "stream",
     "text": [
      "0.9583333333333333\n"
     ]
    }
   ],
   "source": [
    "k = 10\n",
    "bins = len(x_train) // k\n",
    "\n",
    "for i in range(k):\n",
    "    start = i * bins\n",
    "    end = (i+1) * bins\n",
    "    val_fold = x_train_all[start:end]\n",
    "    val_target = y_train_all[start:end]\n",
    "    \n",
    "    train_index = list(range(0, start))+list(range(end, len(x_train)))\n",
    "    train_fold = x_train_all[train_index]\n",
    "    train_target = y_train_all[train_index]\n",
    "    \n",
    "    train_mean = np.mean(train_fold, axis = 0)\n",
    "    train_std = np.std(train_fold, axis = 0)\n",
    "    train_fold_scaled = (train_fold - train_mean) / train_std\n",
    "    val_fold_scaled = (val_fold - train_mean) / train_std\n",
    "    \n",
    "    lyr = SingleLayer(l2 = 0.01)\n",
    "    lyr.fit(train_fold_scaled, train_target, epochs = 50)\n",
    "    score = lyr.score(val_fold_scaled, val_target)\n",
    "    validation_scores.append(score)\n",
    "    \n",
    "print(np.mean(validation_scores))"
   ]
  },
  {
   "cell_type": "code",
   "execution_count": null,
   "metadata": {},
   "outputs": [],
   "source": []
  },
  {
   "cell_type": "markdown",
   "metadata": {},
   "source": [
    "# Implementation of Cross Validation using sklearn"
   ]
  },
  {
   "cell_type": "markdown",
   "metadata": {},
   "source": [
    "## 1. Cross Validation Score Calculation using cross_validate() function "
   ]
  },
  {
   "cell_type": "code",
   "execution_count": 6,
   "metadata": {},
   "outputs": [
    {
     "name": "stdout",
     "output_type": "stream",
     "text": [
      "0.850096618357488\n"
     ]
    }
   ],
   "source": [
    "from sklearn.model_selection import cross_validate\n",
    "\n",
    "sgd = SGDClassifier(loss = 'log', penalty = 'l2', alpha = 0.001, random_state = 42)\n",
    "scores = cross_validate(sgd, x_train_all, y_train_all, cv = 10)\n",
    "\n",
    "print(np.mean(scores['test_score']))"
   ]
  },
  {
   "cell_type": "code",
   "execution_count": null,
   "metadata": {},
   "outputs": [],
   "source": []
  },
  {
   "cell_type": "markdown",
   "metadata": {},
   "source": [
    "# Implement Cross Validation including preprocessing procedure"
   ]
  },
  {
   "cell_type": "markdown",
   "metadata": {},
   "source": [
    "## 1. Implementing Cross Validation using Pipeline Class"
   ]
  },
  {
   "cell_type": "code",
   "execution_count": 7,
   "metadata": {},
   "outputs": [
    {
     "name": "stdout",
     "output_type": "stream",
     "text": [
      "0.9694202898550724\n"
     ]
    }
   ],
   "source": [
    "from sklearn.pipeline import make_pipeline\n",
    "from sklearn.preprocessing import StandardScaler\n",
    "\n",
    "pipe = make_pipeline(StandardScaler(), sgd)\n",
    "scores = cross_validate(pipe, x_train_all, y_train_all, cv=10, return_train_score=True)\n",
    "print(np.mean(scores['test_score']))"
   ]
  },
  {
   "cell_type": "code",
   "execution_count": 8,
   "metadata": {},
   "outputs": [
    {
     "name": "stdout",
     "output_type": "stream",
     "text": [
      "0.9875478561631581\n"
     ]
    }
   ],
   "source": [
    "print(np.mean(scores['train_score']))"
   ]
  },
  {
   "cell_type": "code",
   "execution_count": null,
   "metadata": {},
   "outputs": [],
   "source": []
  },
  {
   "cell_type": "code",
   "execution_count": null,
   "metadata": {},
   "outputs": [],
   "source": []
  }
 ],
 "metadata": {
  "kernelspec": {
   "display_name": "Rpy37",
   "language": "python",
   "name": "rpy37"
  },
  "language_info": {
   "codemirror_mode": {
    "name": "ipython",
    "version": 3
   },
   "file_extension": ".py",
   "mimetype": "text/x-python",
   "name": "python",
   "nbconvert_exporter": "python",
   "pygments_lexer": "ipython3",
   "version": "3.8.1"
  }
 },
 "nbformat": 4,
 "nbformat_minor": 4
}
