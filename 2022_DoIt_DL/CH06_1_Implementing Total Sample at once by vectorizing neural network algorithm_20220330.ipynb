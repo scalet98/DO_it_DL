{
 "cells": [
  {
   "cell_type": "markdown",
   "metadata": {},
   "source": [
    "# CH06_1_Implementing Total Sample at once by vectorizing neural network algorithm\n",
    "\n",
    "- Last update : 20220330"
   ]
  },
  {
   "cell_type": "markdown",
   "metadata": {},
   "source": [
    "## Implementing batch Gradient descent in Singlelayer class "
   ]
  },
  {
   "cell_type": "code",
   "execution_count": 15,
   "metadata": {},
   "outputs": [],
   "source": [
    "import numpy as np \n",
    "import matplotlib.pyplot as plt\n",
    "from sklearn.datasets import load_breast_cancer\n",
    "from sklearn.model_selection import train_test_split \n",
    "\n",
    "cancer = load_breast_cancer()\n",
    "x = cancer.data \n",
    "y = cancer.target\n",
    "\n",
    "x_train_all, x_test, y_train_all, y_test = train_test_split(x, y, stratify=y, \n",
    "                                                           test_size=0.2, random_state=42)\n",
    "\n",
    "x_train, x_val, y_train, y_val = train_test_split(x_train_all, y_train_all, \n",
    "                                                  stratify= y_train_all, test_size=0.2, random_state=42)\n",
    "\n",
    "# Verification of trainning set size and verification set size \n",
    "\n",
    "print(x_train.shape, y_val.shape)"
   ]
  },
  {
   "cell_type": "code",
   "execution_count": 21,
   "metadata": {},
   "outputs": [],
   "source": [
    "# 6. Implementing Batch Gradient Descent in forpass(), backprop() method\n",
    "\n",
    "def forpass(self, x):\n",
    "    z = np.dot(x, self.w) + self.b        # Calculating linear output \n",
    "    return z \n",
    "\n",
    "def backprop(self, x, err):\n",
    "    m = len(x)\n",
    "    w_grad = np.dot(x.T, err) / m         # Calculating average Gradient on weight \n",
    "    b_grad = np.sum(err) / m              # Calculating average Gradient on interscept \n",
    "    return w_grad, b_grad "
   ]
  },
  {
   "cell_type": "code",
   "execution_count": null,
   "metadata": {},
   "outputs": [],
   "source": [
    "# 7. Modifying fit() method \n",
    "\n",
    "def fit(self, x, y, epochs=100, x_val=None, y_val=None):\n",
    "    y = y.reshape(-1, 1)                              # Change the target as column vector \n",
    "    y_val = y_val.reshape(-1, 1)                      # Change the verification target as column vector\n",
    "    m = len(x)                                        # Save the no. of sample \n",
    "    self.w = np.ones((x.shape[1], 1))                 # Initialize the weight  \n",
    "    self.b = 0                                        # Initialize the interscept \n",
    "    self.w_history.append(self.w.copy())              # Record the weight \n",
    "    \n",
    "    # repeat routine epochs times \n",
    "    for i in range(epochs): \n",
    "        z = self.forpass(x)                            # Implement Forward propagation Calculation \n",
    "        a = self.activation(z)                         # Apply activation function \n",
    "        err = -(y - a)                                 # Calculate error \n",
    "        \n",
    "        # Calculating Gradient by error backpropagation \n",
    "        w_grad, b_grad = self.backprop(x, err)\n",
    "        \n",
    "        # Add differentiation of pannelty in Gradient \n",
    "        w_grad += (self.l1 * np.sign(self.w) + self.l2 * self.w)/ m \n",
    "        \n",
    "        # updating weight and interscept \n",
    "        self.w -= self.lr * w_grad \n",
    "        self.b -= self.lr * b_grad \n",
    "        \n",
    "        # recording weight \n",
    "        self.w_history.append(self.w.copy())\n",
    "        \n",
    "        # Clipping for safe log calculation \n",
    "        a = np.clip(a, 1e-10, 1-1e-10)\n",
    "        \n",
    "        # merging log loss with Regularization loss and adding it to the list\n",
    "        loss = np.sum(-(y*np.log(a) + (1-y)*np.log(1-a)))\n",
    "        self.losses.append((loss + self.reg_loss()) /m )\n",
    "        \n",
    "        # calculating loss on verification set \n",
    "        self.update_val_loss(x_val, y_val)"
   ]
  },
  {
   "cell_type": "code",
   "execution_count": null,
   "metadata": {},
   "outputs": [],
   "source": [
    "# 8. Modifying other methods \n",
    "\n",
    "def predict(self, x): \n",
    "    z = self.forpass(x)                 # Implement forward propagation Calculation \n",
    "    return z > 0                        # Apply Step function \n",
    "\n",
    "def update_val_loss(self, x_val, y_val): \n",
    "    z = self.forpass(x_val)             # Implement forward propagation Calculation \n",
    "    a = self.activation(z)              # Implenent activation function \n",
    "    a = np.clip(a, 1e-10, 1-1e-10)      # Clipping output \n",
    "    \n",
    "    # merging log loss with Regularization loss and adding it to the list\n",
    "    val_loss = np.sum(-(y_val*np.log(a) + (1-y_val)*np.log(1-a)))\n",
    "    self.val_losses.append((val_loss + self.reg_loss()) / len(y_val))"
   ]
  },
  {
   "cell_type": "code",
   "execution_count": 45,
   "metadata": {},
   "outputs": [],
   "source": [
    "class SingleLayer:\n",
    "    \n",
    "    def __init__(self, learning_rate=0.1, l1=0, l2=0):\n",
    "        self.w = None                   # weight  \n",
    "        self.b = None                   # interscept \n",
    "        self.losses = []                # trainning loss \n",
    "        self.val_losses = []            # verification loss \n",
    "        self.w_history = []             # weight records \n",
    "        self.lr = learning_rate         # learning rate  \n",
    "        self.l1 = l1                    # L1 loss hyperparameter \n",
    "        self.l2 = l2                    # L2 loss hyperparameter \n",
    "        \n",
    "    def forpass(self, x): \n",
    "        z = np.dot(x, self.w) + self.b      # linear output calculation \n",
    "        return z \n",
    "    \n",
    "    def backprop(self, x, err): \n",
    "        m = len(x)\n",
    "        w_grad = np.dot(x.T, err) / m       # Gradient Calculation on weight \n",
    "        b_grad = np.sum(err)/ m             # Gradient Calculation on intercept\n",
    "        return w_grad, b_grad \n",
    "    \n",
    "    def activation(self, z): \n",
    "        a = 1/(1 + np.exp(-z))              # Sigmoid calculation \n",
    "        return a \n",
    "    \n",
    "    def fit(self, x, y, epochs=100, x_val=None, y_val=None):\n",
    "        y = y.reshape(-1, 1)                              # Change the target as column vector \n",
    "        y_val = y_val.reshape(-1, 1)                      # Change the verification target as column vector\n",
    "        m = len(x)                                        # Save the no. of sample \n",
    "        self.w = np.ones((x.shape[1], 1))                 # Initialize the weight  \n",
    "        self.b = 0                                        # Initialize the interscept \n",
    "        self.w_history.append(self.w.copy())              # Record the weight \n",
    "\n",
    "        # repeat routine epochs times \n",
    "        for i in range(epochs): \n",
    "            z = self.forpass(x)                            # Implement Forward propagation Calculation \n",
    "            a = self.activation(z)                         # Apply activation function \n",
    "            err = -(y - a)                                 # Calculate error \n",
    "\n",
    "            # Calculating Gradient by error backpropagation \n",
    "            w_grad, b_grad = self.backprop(x, err)\n",
    "\n",
    "            # Add differentiation of pannelty in Gradient \n",
    "            w_grad += (self.l1 * np.sign(self.w) + self.l2 * self.w)/ m \n",
    "\n",
    "            # updating weight and interscept \n",
    "            self.w -= self.lr * w_grad \n",
    "            self.b -= self.lr * b_grad \n",
    "\n",
    "            # recording weight \n",
    "            self.w_history.append(self.w.copy())\n",
    "\n",
    "            # Clipping for safe log calculation \n",
    "            a = np.clip(a, 1e-10, 1-1e-10)\n",
    "\n",
    "            # adding log loss and rule loss and adding it to the list\n",
    "            loss = np.sum(-(y*np.log(a) + (1-y)*np.log(1-a)))\n",
    "            self.losses.append((loss + self.reg_loss()) / m )\n",
    "\n",
    "            # calculating loss on verification set \n",
    "            self.update_val_loss(x_val, y_val)\n",
    "            \n",
    "    def predict(self, x): \n",
    "        z = self.forpass(x)                 # Implement forward propagation Calculation \n",
    "        return z > 0                        # Apply Step function \n",
    "\n",
    "    def score(self, x, y): \n",
    "        # return True ratio by comparing prediction and Target column vector \n",
    "        return np.mean(self.predict(x) == y.reshape(-1, 1))\n",
    "\n",
    "    def reg_loss(self): \n",
    "        # Apply Regularization on weight \n",
    "        return self.l1 * np.sum(np.abs(self.w)) + self.l2 / 2 * np.sum(self.w**2)\n",
    "\n",
    "    def update_val_loss(self, x_val, y_val): \n",
    "        z = self.forpass(x_val)             # Implement forward propagation Calculation \n",
    "        a = self.activation(z)              # Implenent activation function \n",
    "        a = np.clip(a, 1e-10, 1-1e-10)      # Clipping output \n",
    "\n",
    "        # merging log loss with Regularization loss and adding it to the list\n",
    "        val_loss = np.sum(-(y_val*np.log(a) + (1-y_val)*np.log(1-a)))\n",
    "        self.val_losses.append((val_loss + self.reg_loss()) / len(y_val))"
   ]
  },
  {
   "cell_type": "code",
   "execution_count": null,
   "metadata": {},
   "outputs": [],
   "source": []
  },
  {
   "cell_type": "markdown",
   "metadata": {},
   "source": [
    "## 9. Preprocessing trainning data standardization "
   ]
  },
  {
   "cell_type": "code",
   "execution_count": 46,
   "metadata": {},
   "outputs": [],
   "source": [
    "import numpy as np\n",
    "import matplotlib.pyplot as plt \n",
    "from sklearn.preprocessing import StandardScaler\n",
    "\n",
    "scaler = StandardScaler()\n",
    "scaler.fit(x_train)\n",
    "x_train_scaled = scaler.transform(x_train)\n",
    "x_val_scaled = scaler.transform(x_val)"
   ]
  },
  {
   "cell_type": "code",
   "execution_count": null,
   "metadata": {},
   "outputs": [],
   "source": []
  },
  {
   "cell_type": "markdown",
   "metadata": {},
   "source": [
    "## 10. batch Gradient descent application by transferring the data to SingleLayer class object "
   ]
  },
  {
   "cell_type": "code",
   "execution_count": 47,
   "metadata": {},
   "outputs": [
    {
     "data": {
      "text/plain": [
       "0.978021978021978"
      ]
     },
     "execution_count": 47,
     "metadata": {},
     "output_type": "execute_result"
    }
   ],
   "source": [
    "single_layer = SingleLayer(l2=0.01)\n",
    "single_layer.fit(x_train_scaled, y_train, x_val=x_val_scaled, y_val=y_val, epochs=10000)\n",
    "single_layer.score(x_val_scaled, y_val)"
   ]
  },
  {
   "cell_type": "markdown",
   "metadata": {},
   "source": [
    "## 11. Observing efficiency using verification set and comparing with graph "
   ]
  },
  {
   "cell_type": "code",
   "execution_count": 54,
   "metadata": {},
   "outputs": [
    {
     "data": {
      "image/png": "[encoded data removed]",
      "text/plain": [
       "<Figure size 432x288 with 1 Axes>"
      ]
     },
     "metadata": {
      "needs_background": "light"
     },
     "output_type": "display_data"
    }
   ],
   "source": [
    "plt.ylim(0, 0.3)\n",
    "plt.plot(single_layer.losses)\n",
    "plt.plot(single_layer.val_losses)\n",
    "\n",
    "plt.ylabel('loss', fontsize = 18)\n",
    "plt.xlabel('epoch', fontsize = 18)\n",
    "plt.title('loss to epoch', fontsize = 23)\n",
    "plt.legend(['train_loss', 'val_loss'], fontsize = 14)\n",
    "\n",
    "plt.grid()\n",
    "plt.show()"
   ]
  },
  {
   "cell_type": "code",
   "execution_count": null,
   "metadata": {},
   "outputs": [],
   "source": []
  },
  {
   "cell_type": "markdown",
   "metadata": {},
   "source": [
    "## 12. Obsersing the weight value changes to understand the result "
   ]
  },
  {
   "cell_type": "code",
   "execution_count": 57,
   "metadata": {},
   "outputs": [
    {
     "data": {
      "text/plain": [
       "<function matplotlib.pyplot.show(*args, **kw)>"
      ]
     },
     "execution_count": 57,
     "metadata": {},
     "output_type": "execute_result"
    },
    {
     "data": {
      "image/png": "[encoded data removed]",
      "text/plain": [
       "<Figure size 432x288 with 1 Axes>"
      ]
     },
     "metadata": {
      "needs_background": "light"
     },
     "output_type": "display_data"
    }
   ],
   "source": [
    "w2 = []\n",
    "w3 = []\n",
    "\n",
    "for w in single_layer.w_history: \n",
    "    w2.append(w[2])\n",
    "    w3.append(w[3])\n",
    "    \n",
    "plt.plot(w2, w3)    \n",
    "plt.plot(w2[-1], w3[-1], 'ro')\n",
    "\n",
    "plt.title('Weight value changes', fontsize =23)\n",
    "plt.xlabel('w[2]', fontsize =18)\n",
    "plt.ylabel('w[3]', fontsize =18)    \n",
    "\n",
    "plt.show "
   ]
  }
 ],
 "metadata": {
  "kernelspec": {
   "display_name": "Rpy37",
   "language": "python",
   "name": "rpy37"
  },
  "language_info": {
   "codemirror_mode": {
    "name": "ipython",
    "version": 3
   },
   "file_extension": ".py",
   "mimetype": "text/x-python",
   "name": "python",
   "nbconvert_exporter": "python",
   "pygments_lexer": "ipython3",
   "version": "3.8.1"
  }
 },
 "nbformat": 4,
 "nbformat_minor": 4
}
