{
 "cells": [
  {
   "cell_type": "markdown",
   "metadata": {},
   "source": [
    "# CH07_1 Generating MultiLayered neural Network classifying many images \n",
    "\n",
    "- Last update : 2022.04.09."
   ]
  },
  {
   "cell_type": "markdown",
   "metadata": {},
   "source": [
    "## Generating MultiLayered classification neural Network"
   ]
  },
  {
   "cell_type": "code",
   "execution_count": 3,
   "metadata": {},
   "outputs": [],
   "source": [
    "# 1. Adding softmax function \n",
    "\n",
    "def sigmoid(self, z): \n",
    "    a = 1/ (1+np.exp(-z))       # Sigmoid calculation \n",
    "    return a \n",
    "\n",
    "def softmax(self, z): \n",
    "    # softmax function \n",
    "    exp_z = np.exp(z)\n",
    "    return exp_z / np.sum(exp_z, axis=1).reshape(-1, 1)"
   ]
  },
  {
   "cell_type": "code",
   "execution_count": 4,
   "metadata": {},
   "outputs": [],
   "source": [
    "# 2. Calculating forward propagation  \n",
    "\n",
    "def forpass(self, x): \n",
    "    ...\n",
    "    self.a1 = self.sigmoid(z1)   # apply activation function \n",
    "    ..."
   ]
  },
  {
   "cell_type": "code",
   "execution_count": 5,
   "metadata": {},
   "outputs": [],
   "source": [
    "# 3. Initializing weight \n",
    "\n",
    "def init_weights(self, n_features, n_classes):\n",
    "    ... \n",
    "    self.w2 = np.random.normal(0, 1, (self.units, n_classes))  # (no. of hidden layer, no. of classes)\n",
    "    self.b2 = np.zeros(n_classes)"
   ]
  },
  {
   "cell_type": "code",
   "execution_count": 6,
   "metadata": {},
   "outputs": [],
   "source": [
    "# 4. Modifying fit method\n",
    "\n",
    "def fit(self, x, y, epochs=100, x_val=None, y_val=None): \n",
    "    np.random.seed(42)\n",
    "    self.init_weights(x.shape[1], y.shape[1])   # initializing weights of hidden layer and output layer\n",
    "    \n",
    "    # repeate routine epoch times \n",
    "    for i in range(epochs): \n",
    "        loss = 0 \n",
    "        print('.', end='')\n",
    "        # Circulating mini batch returned from generator function \n",
    "        for x_batch, y_batch in self.gen_batch(x, y): \n",
    "            a = self.training(x_batch, y_batch)\n",
    "            # clipping for safe logarian calculation \n",
    "            a = np.clip(a, 1e-10, 1-1e-10)\n",
    "            # Adding it to the list after accumulating logarian loss and Regularization loss to the function\n",
    "            loss += np.sum(-y_batch*np.log(a))\n",
    "        self.losses.append((loss + self.reg_loss()) / len(x))\n",
    "        # Calculating loss on verification set \n",
    "        self.update_val_loss(x_val, y_val)        "
   ]
  },
  {
   "cell_type": "code",
   "execution_count": 1,
   "metadata": {},
   "outputs": [],
   "source": [
    "# 5. modifying training() method\n",
    "\n",
    "def training(self, x, y): \n",
    "    m = len(x)                # Saving the no. of samples \n",
    "    z = self.forpass(x)       # Implementing forward propagation calculation\n",
    "    a = self.softmax(z)       # Applying the activation function  "
   ]
  },
  {
   "cell_type": "code",
   "execution_count": null,
   "metadata": {},
   "outputs": [],
   "source": [
    "# 6. modifying predict() method \n",
    "\n",
    "def predict(self, x): \n",
    "    z = self.forpass(x)           # Implementing forward propagation calculation \n",
    "    return np.argmax(z, axis=1)   # Returning index of the largest value "
   ]
  },
  {
   "cell_type": "code",
   "execution_count": null,
   "metadata": {},
   "outputs": [],
   "source": [
    "# 7. modyfying score() method\n",
    "\n",
    "def score(self, x, y):\n",
    "    # Returning the rate of True value after comparing prediction with target column vector\n",
    "    return np.mean(self.predict(x) == np.argmax(y, axis=1))"
   ]
  },
  {
   "cell_type": "code",
   "execution_count": 1,
   "metadata": {},
   "outputs": [],
   "source": [
    "# 8. Calculating verification loss \n",
    "\n",
    "def update_val_loss(self, x_val, y_val): \n",
    "    ...\n",
    "    a = self.softmax(z)\n",
    "    ...\n",
    "    # adding it to the list after summing up cross entropy loss and regulaterization loss \n",
    "    val_loss = np.sum(-y_val * np.log(a))\n",
    "    ..."
   ]
  },
  {
   "cell_type": "markdown",
   "metadata": {},
   "source": [
    "# MultiClassNetwork "
   ]
  },
  {
   "cell_type": "code",
   "execution_count": 84,
   "metadata": {},
   "outputs": [],
   "source": [
    "class MultiClassNetwork:\n",
    "    \n",
    "    def __init__(self,units=10,batch_size=32,learning_rate=0.1,l1=0,l2=0):\n",
    "        self.units = units               # the no. of Neuron in hidden layer\n",
    "        self.batch_size = batch_size     # batch size \n",
    "        self.w1 = None                   # weight of hidden layer \n",
    "        self.b1 = None                   # interscet of hidden layer \n",
    "        self.w2 = None                   # weight of output layer \n",
    "        self.b2 = None                   # interscet of output layer \n",
    "        self.a1 = None                   # activation output of hidden layer\n",
    "        self.losses = []                 # training loss  \n",
    "        self.val_losses = []             # verification loss \n",
    "        self.lr = learning_rate          # learning rate \n",
    "        self.l1 = l1                     # L1 loss hyperparameter\n",
    "        self.l2 = l2                     # L2 loss hyperparameter\n",
    "        \n",
    "    def forpass(self, x): \n",
    "        z1 = np.dot(x, self.w1) + self.b1        # calculating linear regression in first layer \n",
    "        self.a1 = self.sigmoid(z1)               # applying activation function \n",
    "        z2 = np.dot(self.a1, self.w2) + self.b2  # calculating linear regression in second layer\n",
    "        return z2 \n",
    "    \n",
    "    def backprop(self, x, err): \n",
    "        m = len(x)   # no. of samples \n",
    "        # calculating gradient of weight and interscept in outputlayer \n",
    "        w2_grad = np.dot(self.a1.T, err)/ m \n",
    "        b2_grad = np.sum(err)/ m \n",
    "        # calculating gradient of sigmoid function \n",
    "        err_to_hidden = np.dot(err, self.w2.T) * self.a1 * (1-self.a1)\n",
    "        # calculating gradient of weight and interscept in hidden layer \n",
    "        w1_grad = np.dot(x.T, err_to_hidden)/m \n",
    "        b1_grad = np.sum(err_to_hidden, axis = 0)/m \n",
    "        return w1_grad, b1_grad, w2_grad, b2_grad \n",
    "    \n",
    "    def sigmoid(self, z): \n",
    "        a = 1 / (1 + np.exp(-z))    # sigmoid calculation \n",
    "        return a \n",
    "    \n",
    "    def softmax(self, z): \n",
    "        # softmax function \n",
    "        exp_z = np.exp(z)\n",
    "        return exp_z / np.sum(exp_z, axis=1).reshape(-1,1)\n",
    "                \n",
    "    def init_weights(self, n_features, n_classes): \n",
    "        self.w1 = np.random.normal(0, 1, \n",
    "                                  (n_features, self.units))   # (no. of features, size of hidden layer)\n",
    "        self.b1 = np.zeros(self.units)                         # size of hidden layer\n",
    "        self.w2 = np.random.normal(0, 1,\n",
    "                                  (self.units, n_classes))    # (size of hidden layer, no. of class)\n",
    "        self.b2 = np.zeros(n_classes)\n",
    "        \n",
    "    def fit(self, x, y, epochs=100, x_val=None, y_val=None): \n",
    "        np.random.seed(42)\n",
    "        self.init_weights(x.shape[1], y.shape[1])              # initializing weights of hidden layer and output layer\n",
    "        # repeate the routine epochs times \n",
    "        for i in range(epochs): \n",
    "            loss = 0 \n",
    "            print ('.', end='')\n",
    "            # circulating mini batch returned from generator function \n",
    "            for x_batch, y_batch in self.gen_batch(x, y):\n",
    "                a = self.training(x_batch, y_batch)\n",
    "                # clipping for safe log calculation \n",
    "                a = np.clip(a, 1e-10, 1-1e-10)\n",
    "                # adding it to the list after summing up logarian loss and regularization loss to loss \n",
    "                loss += np.sum(-y_batch * np.log(a))\n",
    "            self.losses.append((loss + self.reg_loss()) / len(x))\n",
    "            # calculating loss on the verification set \n",
    "            self.update_val_loss(x_val, y_val)               \n",
    "\n",
    "    # mini batch generator function \n",
    "    def gen_batch(self, x, y): \n",
    "        length = len(x)\n",
    "        bins = length // self.batch_size           # mini batch frequency\n",
    "        if length % self.batch_size: \n",
    "            bins += 1                              # if there is remainder \n",
    "        indexes = np.random.permutation(np.arange(len(x)))       # shuffle indexes \n",
    "        x = x[indexes]\n",
    "        y = y[indexes]\n",
    "        for i in range(bins): \n",
    "            start = self.batch_size * i \n",
    "            end = self.batch_size * (i+1)\n",
    "            yield x[start:end], y[start:end]    # returning after slicing with the length of batch_size\n",
    "    \n",
    "    def training(self, x, y): \n",
    "        m = len(x)                    # saving no. of samples \n",
    "        z = self.forpass(x)           # Implementing forward propagation calculation \n",
    "        a = self.softmax(z)           # applying activation function \n",
    "        err = -(y - a)                # calculating errors \n",
    "        # calculating gradient by backpropagating errors \n",
    "        w1_grad, b1_grad, w2_grad, b2_grad = self.backprop(x, err)\n",
    "        # subtracting differentiation value of panelty section in gradient \n",
    "        w1_grad += (self.l1*np.sign(self.w1) + self.l2*self.w1) / m \n",
    "        w2_grad += (self.l1*np.sign(self.w2) + self.l2*self.w2) / m \n",
    "        # updating weight and interscept of hidden layer \n",
    "        self.w1 -= self.lr * w1_grad \n",
    "        self.b1 -= self.lr * b1_grad \n",
    "        # updating weight and interscept of output layer \n",
    "        self.w2 -= self.lr * w2_grad \n",
    "        self.b2 -= self.lr * b2_grad \n",
    "        return a \n",
    "        \n",
    "    def predict(self,x):\n",
    "        z = self.forpass(x)           # forward propagation calculation \n",
    "        return np.argmax(z, zxis=1)   # returing index of the largest value \n",
    "    \n",
    "    def score(self, x, y):\n",
    "        # returning the ratio of True by comparing prediction to target column vector \n",
    "        return np.mean(self.predict(x) == np.argmax(y, axis =1))\n",
    "        \n",
    "    def reg_loss(self):\n",
    "        # applying regularization on weights of hidden layer and output layer\n",
    "        return self.l1 * (np.sum(np.abs(self.w1)) + np.sum(np.abs(self.w2))) + \\\n",
    "               self.l2 / 2 * (np.sum(self.w1**2) + np.sum(self.w2**2))\n",
    "                 \n",
    "    def update_val_loss(self, x_val, y_val):\n",
    "        z = self.forpass(x_val)              # Implementing forward propagation calculation \n",
    "        a = self.softmax(z)                  # applying activation function \n",
    "        a = np.clip(a, 1e-10, 1-1e-10)       # clipping output value \n",
    "        # adding it to the list by summing up cross entropy loss and regularatory loss to total loss \n",
    "        val_loss = np.sum(-y_val*np.log(a))\n",
    "        self.val_losses.append((val_loss + self.reg_loss()) / len(y_val))        "
   ]
  },
  {
   "cell_type": "markdown",
   "metadata": {},
   "source": [
    "# Sample \n",
    "\n",
    ">- Classification of clothing images "
   ]
  },
  {
   "cell_type": "code",
   "execution_count": 85,
   "metadata": {},
   "outputs": [],
   "source": [
    "#!pip install tensorflow_gpu==2.8.0"
   ]
  },
  {
   "cell_type": "code",
   "execution_count": 86,
   "metadata": {},
   "outputs": [
    {
     "data": {
      "text/plain": [
       "'2.2.0'"
      ]
     },
     "execution_count": 86,
     "metadata": {},
     "output_type": "execute_result"
    }
   ],
   "source": [
    "## Clothing Dataset preparation \n",
    "\n",
    "import tensorflow as tf\n",
    "\n",
    "tf.__version__"
   ]
  },
  {
   "cell_type": "code",
   "execution_count": 87,
   "metadata": {},
   "outputs": [
    {
     "name": "stdout",
     "output_type": "stream",
     "text": [
      "(60000, 28, 28) (60000,)\n"
     ]
    }
   ],
   "source": [
    "# lading the dataset \n",
    "\n",
    "(x_train_all, y_train_all), (x_test, y_test) = tf.keras.datasets.fashion_mnist.load_data()\n",
    "\n",
    "# check out size of dataset \n",
    "print(x_train_all.shape, y_train_all.shape)"
   ]
  },
  {
   "cell_type": "markdown",
   "metadata": {},
   "source": [
    "## 5. verify sample image using imshow() function "
   ]
  },
  {
   "cell_type": "code",
   "execution_count": 88,
   "metadata": {},
   "outputs": [
    {
     "data": {
      "image/png": "[encoded data removed]",
      "text/plain": [
       "<Figure size 432x288 with 1 Axes>"
      ]
     },
     "metadata": {
      "needs_background": "light"
     },
     "output_type": "display_data"
    }
   ],
   "source": [
    "import matplotlib.pyplot as plt\n",
    "\n",
    "plt.imshow(x_train_all[0], cmap='gray')\n",
    "plt.show()"
   ]
  },
  {
   "cell_type": "markdown",
   "metadata": {},
   "source": [
    "## 6. check out the contents and meaning of target "
   ]
  },
  {
   "cell_type": "code",
   "execution_count": 89,
   "metadata": {},
   "outputs": [
    {
     "name": "stdout",
     "output_type": "stream",
     "text": [
      "[9 0 0 3 0 2 7 2 5 5]\n"
     ]
    }
   ],
   "source": [
    "print(y_train_all[:10])"
   ]
  },
  {
   "cell_type": "code",
   "execution_count": 90,
   "metadata": {},
   "outputs": [],
   "source": [
    "class_names = ['티셔츠/윗도리', '바지', '스웨터', '드레스', '코트', '샌들', '셔츠', '스니커즈', '가방', '앵글부츠']"
   ]
  },
  {
   "cell_type": "code",
   "execution_count": 91,
   "metadata": {},
   "outputs": [
    {
     "name": "stdout",
     "output_type": "stream",
     "text": [
      "앵글부츠\n"
     ]
    }
   ],
   "source": [
    "print(class_names[y_train_all[0]])"
   ]
  },
  {
   "cell_type": "markdown",
   "metadata": {},
   "source": [
    "## 7. Verify the distribution of target"
   ]
  },
  {
   "cell_type": "code",
   "execution_count": 92,
   "metadata": {},
   "outputs": [
    {
     "data": {
      "text/plain": [
       "array([6000, 6000, 6000, 6000, 6000, 6000, 6000, 6000, 6000, 6000],\n",
       "      dtype=int64)"
      ]
     },
     "execution_count": 92,
     "metadata": {},
     "output_type": "execute_result"
    }
   ],
   "source": [
    "import numpy as np\n",
    "\n",
    "np.bincount(y_train_all)"
   ]
  },
  {
   "cell_type": "markdown",
   "metadata": {},
   "source": [
    "## 8. Spliting training set and verification set equally "
   ]
  },
  {
   "cell_type": "code",
   "execution_count": 93,
   "metadata": {
    "scrolled": true
   },
   "outputs": [],
   "source": [
    "#!pip install sklearn"
   ]
  },
  {
   "cell_type": "code",
   "execution_count": 94,
   "metadata": {},
   "outputs": [],
   "source": [
    "import sklearn\n",
    "from sklearn.model_selection import train_test_split\n",
    "\n",
    "x_train, x_val, y_train, y_val = train_test_split(x_train_all, y_train_all,\n",
    "                                                  stratify=y_train_all, test_size=0.2, random_state=42)"
   ]
  },
  {
   "cell_type": "code",
   "execution_count": 95,
   "metadata": {},
   "outputs": [
    {
     "data": {
      "text/plain": [
       "array([4800, 4800, 4800, 4800, 4800, 4800, 4800, 4800, 4800, 4800],\n",
       "      dtype=int64)"
      ]
     },
     "execution_count": 95,
     "metadata": {},
     "output_type": "execute_result"
    }
   ],
   "source": [
    "np.bincount(y_train)"
   ]
  },
  {
   "cell_type": "markdown",
   "metadata": {},
   "source": [
    "## 9. Regularization of Input dataset "
   ]
  },
  {
   "cell_type": "code",
   "execution_count": 96,
   "metadata": {},
   "outputs": [
    {
     "name": "stdout",
     "output_type": "stream",
     "text": [
      "(48000, 784) (12000, 784)\n"
     ]
    }
   ],
   "source": [
    "x_train = x_train.reshape(-1, 784)\n",
    "x_val = x_val.reshape(-1, 784)\n",
    "\n",
    "print (x_train.shape, x_val.shape)"
   ]
  },
  {
   "cell_type": "code",
   "execution_count": null,
   "metadata": {},
   "outputs": [],
   "source": []
  },
  {
   "cell_type": "markdown",
   "metadata": {},
   "source": [
    "# # Prepare Target dataset and Train MultiLayered Classfication Neural Newtwork"
   ]
  },
  {
   "cell_type": "code",
   "execution_count": 97,
   "metadata": {},
   "outputs": [
    {
     "data": {
      "text/plain": [
       "array([[1., 0., 0., 0.],\n",
       "       [0., 1., 0., 0.],\n",
       "       [0., 0., 0., 1.]], dtype=float32)"
      ]
     },
     "execution_count": 97,
     "metadata": {},
     "output_type": "execute_result"
    }
   ],
   "source": [
    "# 1. Convert the target into one-hot incoding \n",
    "# 2. comparing the each element with output of neuron \n",
    "# 3. one-hot incoding using to_categorical function \n",
    "\n",
    "tf.keras.utils.to_categorical([0, 1, 3])"
   ]
  },
  {
   "cell_type": "code",
   "execution_count": 98,
   "metadata": {},
   "outputs": [
    {
     "name": "stdout",
     "output_type": "stream",
     "text": [
      "(48000, 10) (12000, 10)\n"
     ]
    }
   ],
   "source": [
    "y_train_encoded = tf.keras.utils.to_categorical(y_train)\n",
    "y_val_encoded = tf.keras.utils.to_categorical(y_val)\n",
    "\n",
    "print(y_train_encoded.shape, y_val_encoded.shape)"
   ]
  },
  {
   "cell_type": "code",
   "execution_count": 99,
   "metadata": {},
   "outputs": [
    {
     "data": {
      "text/plain": [
       "array([[0., 0., 0., ..., 0., 0., 0.],\n",
       "       [0., 0., 0., ..., 0., 0., 0.],\n",
       "       [0., 0., 0., ..., 0., 0., 0.],\n",
       "       ...,\n",
       "       [0., 0., 0., ..., 0., 0., 0.],\n",
       "       [0., 0., 0., ..., 1., 0., 0.],\n",
       "       [0., 1., 0., ..., 0., 0., 0.]], dtype=float32)"
      ]
     },
     "execution_count": 99,
     "metadata": {},
     "output_type": "execute_result"
    }
   ],
   "source": [
    "y_train_encoded"
   ]
  },
  {
   "cell_type": "code",
   "execution_count": 100,
   "metadata": {},
   "outputs": [
    {
     "data": {
      "text/plain": [
       "array([[0., 0., 0., ..., 0., 0., 0.],\n",
       "       [0., 0., 0., ..., 0., 0., 0.],\n",
       "       [0., 0., 0., ..., 0., 0., 0.],\n",
       "       ...,\n",
       "       [0., 0., 0., ..., 0., 1., 0.],\n",
       "       [0., 0., 1., ..., 0., 0., 0.],\n",
       "       [0., 0., 0., ..., 0., 1., 0.]], dtype=float32)"
      ]
     },
     "execution_count": 100,
     "metadata": {},
     "output_type": "execute_result"
    }
   ],
   "source": [
    "y_val_encoded"
   ]
  },
  {
   "cell_type": "code",
   "execution_count": 101,
   "metadata": {},
   "outputs": [
    {
     "name": "stdout",
     "output_type": "stream",
     "text": [
      "6 [0. 0. 0. 0. 0. 0. 1. 0. 0. 0.]\n"
     ]
    }
   ],
   "source": [
    "print(y_train[0], y_train_encoded[0])"
   ]
  },
  {
   "cell_type": "code",
   "execution_count": null,
   "metadata": {},
   "outputs": [],
   "source": []
  },
  {
   "cell_type": "code",
   "execution_count": 102,
   "metadata": {},
   "outputs": [
    {
     "name": "stdout",
     "output_type": "stream",
     "text": [
      "........................................"
     ]
    }
   ],
   "source": [
    "# 4. Trainning MultiLayered Classification Neural Network using MultiClassNetwork class \n",
    "\n",
    "fc = MultiClassNetwork(units=100, batch_size=256)\n",
    "fc.fit(x_train, y_train_encoded, \n",
    "      x_val=x_val, y_val=y_val_encoded, epochs=40)\n"
   ]
  },
  {
   "cell_type": "code",
   "execution_count": 103,
   "metadata": {},
   "outputs": [
    {
     "data": {
      "image/png": "[encoded data removed]",
      "text/plain": [
       "<Figure size 432x288 with 1 Axes>"
      ]
     },
     "metadata": {
      "needs_background": "light"
     },
     "output_type": "display_data"
    }
   ],
   "source": [
    "# 5. Verify the Graph for Training loss and verification loss and scores for training model  \n",
    "\n",
    "plt.plot(fc.losses)\n",
    "plt.plot(fc.val_losses)\n",
    "plt.title('Loss function by iteration', fontsize=(20))\n",
    "plt.ylabel('loss', fontsize=(16))\n",
    "plt.xlabel('iteration', fontsize=(16))\n",
    "plt.legend(['train_loss','val_loss'])\n",
    "\n",
    "plt.grid()\n",
    "plt.show()"
   ]
  },
  {
   "cell_type": "code",
   "execution_count": 104,
   "metadata": {},
   "outputs": [
    {
     "ename": "TypeError",
     "evalue": "argmax() got an unexpected keyword argument 'zxis'",
     "output_type": "error",
     "traceback": [
      "\u001b[1;31m---------------------------------------------------------------------------\u001b[0m",
      "\u001b[1;31mTypeError\u001b[0m                                 Traceback (most recent call last)",
      "\u001b[1;32m~\\AppData\\Local\\Temp/ipykernel_19816/918404035.py\u001b[0m in \u001b[0;36m<module>\u001b[1;34m\u001b[0m\n\u001b[1;32m----> 1\u001b[1;33m \u001b[0mfc\u001b[0m\u001b[1;33m.\u001b[0m\u001b[0mscore\u001b[0m\u001b[1;33m(\u001b[0m\u001b[0mx_val\u001b[0m\u001b[1;33m,\u001b[0m \u001b[0my_val_encoded\u001b[0m\u001b[1;33m)\u001b[0m\u001b[1;33m\u001b[0m\u001b[1;33m\u001b[0m\u001b[0m\n\u001b[0m",
      "\u001b[1;32m~\\AppData\\Local\\Temp/ipykernel_19816/566947570.py\u001b[0m in \u001b[0;36mscore\u001b[1;34m(self, x, y)\u001b[0m\n\u001b[0;32m    106\u001b[0m     \u001b[1;32mdef\u001b[0m \u001b[0mscore\u001b[0m\u001b[1;33m(\u001b[0m\u001b[0mself\u001b[0m\u001b[1;33m,\u001b[0m \u001b[0mx\u001b[0m\u001b[1;33m,\u001b[0m \u001b[0my\u001b[0m\u001b[1;33m)\u001b[0m\u001b[1;33m:\u001b[0m\u001b[1;33m\u001b[0m\u001b[1;33m\u001b[0m\u001b[0m\n\u001b[0;32m    107\u001b[0m         \u001b[1;31m# returning the ratio of True by comparing prediction to target column vector\u001b[0m\u001b[1;33m\u001b[0m\u001b[1;33m\u001b[0m\u001b[1;33m\u001b[0m\u001b[0m\n\u001b[1;32m--> 108\u001b[1;33m         \u001b[1;32mreturn\u001b[0m \u001b[0mnp\u001b[0m\u001b[1;33m.\u001b[0m\u001b[0mmean\u001b[0m\u001b[1;33m(\u001b[0m\u001b[0mself\u001b[0m\u001b[1;33m.\u001b[0m\u001b[0mpredict\u001b[0m\u001b[1;33m(\u001b[0m\u001b[0mx\u001b[0m\u001b[1;33m)\u001b[0m \u001b[1;33m==\u001b[0m \u001b[0mnp\u001b[0m\u001b[1;33m.\u001b[0m\u001b[0margmax\u001b[0m\u001b[1;33m(\u001b[0m\u001b[0my\u001b[0m\u001b[1;33m,\u001b[0m \u001b[0maxis\u001b[0m \u001b[1;33m=\u001b[0m\u001b[1;36m1\u001b[0m\u001b[1;33m)\u001b[0m\u001b[1;33m)\u001b[0m\u001b[1;33m\u001b[0m\u001b[1;33m\u001b[0m\u001b[0m\n\u001b[0m\u001b[0;32m    109\u001b[0m \u001b[1;33m\u001b[0m\u001b[0m\n\u001b[0;32m    110\u001b[0m     \u001b[1;32mdef\u001b[0m \u001b[0mreg_loss\u001b[0m\u001b[1;33m(\u001b[0m\u001b[0mself\u001b[0m\u001b[1;33m)\u001b[0m\u001b[1;33m:\u001b[0m\u001b[1;33m\u001b[0m\u001b[1;33m\u001b[0m\u001b[0m\n",
      "\u001b[1;32m~\\AppData\\Local\\Temp/ipykernel_19816/566947570.py\u001b[0m in \u001b[0;36mpredict\u001b[1;34m(self, x)\u001b[0m\n\u001b[0;32m    102\u001b[0m     \u001b[1;32mdef\u001b[0m \u001b[0mpredict\u001b[0m\u001b[1;33m(\u001b[0m\u001b[0mself\u001b[0m\u001b[1;33m,\u001b[0m\u001b[0mx\u001b[0m\u001b[1;33m)\u001b[0m\u001b[1;33m:\u001b[0m\u001b[1;33m\u001b[0m\u001b[1;33m\u001b[0m\u001b[0m\n\u001b[0;32m    103\u001b[0m         \u001b[0mz\u001b[0m \u001b[1;33m=\u001b[0m \u001b[0mself\u001b[0m\u001b[1;33m.\u001b[0m\u001b[0mforpass\u001b[0m\u001b[1;33m(\u001b[0m\u001b[0mx\u001b[0m\u001b[1;33m)\u001b[0m           \u001b[1;31m# forward propagation calculation\u001b[0m\u001b[1;33m\u001b[0m\u001b[1;33m\u001b[0m\u001b[0m\n\u001b[1;32m--> 104\u001b[1;33m         \u001b[1;32mreturn\u001b[0m \u001b[0mnp\u001b[0m\u001b[1;33m.\u001b[0m\u001b[0margmax\u001b[0m\u001b[1;33m(\u001b[0m\u001b[0mz\u001b[0m\u001b[1;33m,\u001b[0m \u001b[0mzxis\u001b[0m\u001b[1;33m=\u001b[0m\u001b[1;36m1\u001b[0m\u001b[1;33m)\u001b[0m   \u001b[1;31m# returing index of the largest value\u001b[0m\u001b[1;33m\u001b[0m\u001b[1;33m\u001b[0m\u001b[0m\n\u001b[0m\u001b[0;32m    105\u001b[0m \u001b[1;33m\u001b[0m\u001b[0m\n\u001b[0;32m    106\u001b[0m     \u001b[1;32mdef\u001b[0m \u001b[0mscore\u001b[0m\u001b[1;33m(\u001b[0m\u001b[0mself\u001b[0m\u001b[1;33m,\u001b[0m \u001b[0mx\u001b[0m\u001b[1;33m,\u001b[0m \u001b[0my\u001b[0m\u001b[1;33m)\u001b[0m\u001b[1;33m:\u001b[0m\u001b[1;33m\u001b[0m\u001b[1;33m\u001b[0m\u001b[0m\n",
      "\u001b[1;31mTypeError\u001b[0m: argmax() got an unexpected keyword argument 'zxis'"
     ]
    }
   ],
   "source": [
    "fc.score(x_val, y_val_encoded)"
   ]
  },
  {
   "cell_type": "code",
   "execution_count": null,
   "metadata": {},
   "outputs": [],
   "source": []
  }
 ],
 "metadata": {
  "kernelspec": {
   "display_name": "Tensorflow_py37",
   "language": "python",
   "name": "tf_py37"
  },
  "language_info": {
   "codemirror_mode": {
    "name": "ipython",
    "version": 3
   },
   "file_extension": ".py",
   "mimetype": "text/x-python",
   "name": "python",
   "nbconvert_exporter": "python",
   "pygments_lexer": "ipython3",
   "version": "3.7.11"
  }
 },
 "nbformat": 4,
 "nbformat_minor": 4
}
