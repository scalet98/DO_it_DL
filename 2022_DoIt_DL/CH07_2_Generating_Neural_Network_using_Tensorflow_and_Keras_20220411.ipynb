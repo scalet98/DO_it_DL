{
 "cells": [
  {
   "cell_type": "markdown",
   "id": "3b7a7246",
   "metadata": {},
   "source": [
    "# CH07_2_Generating_Neural_Network_using_Tensorflow_and_Keras\n",
    "\n",
    "- Last update : 2022.04.11."
   ]
  },
  {
   "cell_type": "markdown",
   "id": "d72a1d71",
   "metadata": {},
   "source": [
    "## # Import Packages and dataset and splitting dataset into two"
   ]
  },
  {
   "cell_type": "code",
   "execution_count": 60,
   "id": "75bcb3ea",
   "metadata": {},
   "outputs": [
    {
     "name": "stdout",
     "output_type": "stream",
     "text": [
      ">>> x_train_all.shape/ y_train_all.shape = (60000, 28, 28) / (60000,)\n",
      ">>> x_train.shape/ y_train.shape = (48000, 28, 28) / (48000,)\n",
      ">>> x_val/ y_val = (12000, 28, 28) / (12000,)\n",
      "----------------------------------------------------------------\n",
      ">>> x_train.shape/ x_val.shape = (48000, 784) / (12000, 784)\n"
     ]
    }
   ],
   "source": [
    "import matplotlib.pyplot as plt \n",
    "import tensorflow as tf\n",
    "import sklearn\n",
    "from sklearn.model_selection import train_test_split\n",
    "\n",
    "# lading the dataset \n",
    "\n",
    "(x_train_all, y_train_all), (x_test, y_test) = tf.keras.datasets.fashion_mnist.load_data()\n",
    "\n",
    "# check out size of dataset \n",
    "print(\">>> x_train_all.shape/ y_train_all.shape =\", x_train_all.shape,'/', y_train_all.shape)\n",
    "\n",
    "# Spliting training set and verification set equally\n",
    "\n",
    "x_train, x_val, y_train, y_val = train_test_split(x_train_all, y_train_all,\n",
    "                                                  stratify=y_train_all, test_size=0.2, random_state=42)\n",
    "\n",
    "print(\">>> x_train.shape/ y_train.shape =\", x_train.shape,'/', y_train.shape)\n",
    "print(\">>> x_val/ y_val =\", x_val.shape,'/', y_val.shape)\n",
    "\n",
    "# ---------------------------------------------\n",
    "# Regularization of Input dataset\n",
    "# ---------------------------------------------\n",
    "x_train = x_train / 255\n",
    "x_val = x_val / 255\n",
    "\n",
    "# ---------------------------------------------\n",
    "# Change the dimensions of training set and verification set\n",
    "# ---------------------------------------------\n",
    "x_train = x_train.reshape(-1, 784)\n",
    "x_val = x_val.reshape(-1, 784)\n",
    "print (\"----------------------------------------------------------------\")\n",
    "print (\">>> x_train.shape/ x_val.shape =\", x_train.shape,'/', x_val.shape)"
   ]
  },
  {
   "cell_type": "markdown",
   "id": "f77e2bb1",
   "metadata": {},
   "source": [
    " ## # Prepare Target dataset to Train MultiLayered Classfication Neural Newtwork"
   ]
  },
  {
   "cell_type": "code",
   "execution_count": 53,
   "id": "2980c677",
   "metadata": {},
   "outputs": [
    {
     "name": "stdout",
     "output_type": "stream",
     "text": [
      "(48000, 10) (12000, 10)\n"
     ]
    }
   ],
   "source": [
    "# 1. Convert the target into one-hot incoding \n",
    "# 2. comparing the each element with output of neuron \n",
    "# 3. one-hot incoding using to_categorical function \n",
    "\n",
    "tf.keras.utils.to_categorical([0, 1, 3])\n",
    "\n",
    "y_train_encoded = tf.keras.utils.to_categorical(y_train)\n",
    "y_val_encoded = tf.keras.utils.to_categorical(y_val)\n",
    "\n",
    "print (y_train_encoded.shape, y_val_encoded.shape)"
   ]
  },
  {
   "cell_type": "markdown",
   "id": "ab5963f6",
   "metadata": {},
   "source": [
    "## # Generating Neural Network using Tensorflow"
   ]
  },
  {
   "cell_type": "code",
   "execution_count": 17,
   "id": "992c334d",
   "metadata": {
    "scrolled": true
   },
   "outputs": [
    {
     "name": "stdout",
     "output_type": "stream",
     "text": [
      ">>> w = <tf.Variable 'Variable:0' shape=(1,) dtype=float32, numpy=array([0.], dtype=float32)>\n",
      ">>> b = <tf.Variable 'Variable:0' shape=(1,) dtype=float32, numpy=array([0.], dtype=float32)>\n"
     ]
    },
    {
     "ename": "InvalidArgumentError",
     "evalue": "Incompatible shapes: [48000] vs. [37632000] [Op:Sub]",
     "output_type": "error",
     "traceback": [
      "\u001b[1;31m---------------------------------------------------------------------------\u001b[0m",
      "\u001b[1;31mInvalidArgumentError\u001b[0m                      Traceback (most recent call last)",
      "\u001b[1;32m~\\AppData\\Local\\Temp/ipykernel_792/699300561.py\u001b[0m in \u001b[0;36m<module>\u001b[1;34m\u001b[0m\n\u001b[0;32m     17\u001b[0m         \u001b[0mz_net\u001b[0m \u001b[1;33m=\u001b[0m \u001b[0mw\u001b[0m \u001b[1;33m*\u001b[0m \u001b[0mx_train\u001b[0m \u001b[1;33m+\u001b[0m \u001b[0mb\u001b[0m\u001b[1;33m\u001b[0m\u001b[1;33m\u001b[0m\u001b[0m\n\u001b[0;32m     18\u001b[0m         \u001b[0mz_net\u001b[0m \u001b[1;33m=\u001b[0m \u001b[0mtf\u001b[0m\u001b[1;33m.\u001b[0m\u001b[0mreshape\u001b[0m\u001b[1;33m(\u001b[0m\u001b[0mz_net\u001b[0m\u001b[1;33m,\u001b[0m \u001b[1;33m[\u001b[0m\u001b[1;33m-\u001b[0m\u001b[1;36m1\u001b[0m\u001b[1;33m]\u001b[0m\u001b[1;33m)\u001b[0m\u001b[1;33m\u001b[0m\u001b[1;33m\u001b[0m\u001b[0m\n\u001b[1;32m---> 19\u001b[1;33m         \u001b[0msqr_errors\u001b[0m \u001b[1;33m=\u001b[0m \u001b[0mtf\u001b[0m\u001b[1;33m.\u001b[0m\u001b[0msquare\u001b[0m\u001b[1;33m(\u001b[0m\u001b[0my_train\u001b[0m \u001b[1;33m-\u001b[0m \u001b[0mz_net\u001b[0m\u001b[1;33m)\u001b[0m\u001b[1;33m\u001b[0m\u001b[1;33m\u001b[0m\u001b[0m\n\u001b[0m\u001b[0;32m     20\u001b[0m         \u001b[0mmean_cost\u001b[0m \u001b[1;33m=\u001b[0m \u001b[0mtf\u001b[0m\u001b[1;33m.\u001b[0m\u001b[0mreduce_mean\u001b[0m\u001b[1;33m(\u001b[0m\u001b[0msqr_errors\u001b[0m\u001b[1;33m)\u001b[0m\u001b[1;33m\u001b[0m\u001b[1;33m\u001b[0m\u001b[0m\n\u001b[0;32m     21\u001b[0m \u001b[1;33m\u001b[0m\u001b[0m\n",
      "\u001b[1;32m~\\anaconda3\\envs\\tf_py37\\lib\\site-packages\\tensorflow\\python\\ops\\math_ops.py\u001b[0m in \u001b[0;36mr_binary_op_wrapper\u001b[1;34m(y, x)\u001b[0m\n\u001b[0;32m   1008\u001b[0m     \u001b[1;32mwith\u001b[0m \u001b[0mops\u001b[0m\u001b[1;33m.\u001b[0m\u001b[0mname_scope\u001b[0m\u001b[1;33m(\u001b[0m\u001b[1;32mNone\u001b[0m\u001b[1;33m,\u001b[0m \u001b[0mop_name\u001b[0m\u001b[1;33m,\u001b[0m \u001b[1;33m[\u001b[0m\u001b[0mx\u001b[0m\u001b[1;33m,\u001b[0m \u001b[0my\u001b[0m\u001b[1;33m]\u001b[0m\u001b[1;33m)\u001b[0m \u001b[1;32mas\u001b[0m \u001b[0mname\u001b[0m\u001b[1;33m:\u001b[0m\u001b[1;33m\u001b[0m\u001b[1;33m\u001b[0m\u001b[0m\n\u001b[0;32m   1009\u001b[0m       \u001b[0mx\u001b[0m \u001b[1;33m=\u001b[0m \u001b[0mops\u001b[0m\u001b[1;33m.\u001b[0m\u001b[0mconvert_to_tensor\u001b[0m\u001b[1;33m(\u001b[0m\u001b[0mx\u001b[0m\u001b[1;33m,\u001b[0m \u001b[0mdtype\u001b[0m\u001b[1;33m=\u001b[0m\u001b[0my\u001b[0m\u001b[1;33m.\u001b[0m\u001b[0mdtype\u001b[0m\u001b[1;33m.\u001b[0m\u001b[0mbase_dtype\u001b[0m\u001b[1;33m,\u001b[0m \u001b[0mname\u001b[0m\u001b[1;33m=\u001b[0m\u001b[1;34m\"x\"\u001b[0m\u001b[1;33m)\u001b[0m\u001b[1;33m\u001b[0m\u001b[1;33m\u001b[0m\u001b[0m\n\u001b[1;32m-> 1010\u001b[1;33m       \u001b[1;32mreturn\u001b[0m \u001b[0mfunc\u001b[0m\u001b[1;33m(\u001b[0m\u001b[0mx\u001b[0m\u001b[1;33m,\u001b[0m \u001b[0my\u001b[0m\u001b[1;33m,\u001b[0m \u001b[0mname\u001b[0m\u001b[1;33m=\u001b[0m\u001b[0mname\u001b[0m\u001b[1;33m)\u001b[0m\u001b[1;33m\u001b[0m\u001b[1;33m\u001b[0m\u001b[0m\n\u001b[0m\u001b[0;32m   1011\u001b[0m \u001b[1;33m\u001b[0m\u001b[0m\n\u001b[0;32m   1012\u001b[0m   \u001b[1;31m# Propagate func.__doc__ to the wrappers\u001b[0m\u001b[1;33m\u001b[0m\u001b[1;33m\u001b[0m\u001b[1;33m\u001b[0m\u001b[0m\n",
      "\u001b[1;32m~\\anaconda3\\envs\\tf_py37\\lib\\site-packages\\tensorflow\\python\\ops\\gen_math_ops.py\u001b[0m in \u001b[0;36msub\u001b[1;34m(x, y, name)\u001b[0m\n\u001b[0;32m  10098\u001b[0m         \u001b[1;32mpass\u001b[0m  \u001b[1;31m# Add nodes to the TensorFlow graph.\u001b[0m\u001b[1;33m\u001b[0m\u001b[1;33m\u001b[0m\u001b[0m\n\u001b[0;32m  10099\u001b[0m     \u001b[1;32mexcept\u001b[0m \u001b[0m_core\u001b[0m\u001b[1;33m.\u001b[0m\u001b[0m_NotOkStatusException\u001b[0m \u001b[1;32mas\u001b[0m \u001b[0me\u001b[0m\u001b[1;33m:\u001b[0m\u001b[1;33m\u001b[0m\u001b[1;33m\u001b[0m\u001b[0m\n\u001b[1;32m> 10100\u001b[1;33m       \u001b[0m_ops\u001b[0m\u001b[1;33m.\u001b[0m\u001b[0mraise_from_not_ok_status\u001b[0m\u001b[1;33m(\u001b[0m\u001b[0me\u001b[0m\u001b[1;33m,\u001b[0m \u001b[0mname\u001b[0m\u001b[1;33m)\u001b[0m\u001b[1;33m\u001b[0m\u001b[1;33m\u001b[0m\u001b[0m\n\u001b[0m\u001b[0;32m  10101\u001b[0m   \u001b[1;31m# Add nodes to the TensorFlow graph.\u001b[0m\u001b[1;33m\u001b[0m\u001b[1;33m\u001b[0m\u001b[1;33m\u001b[0m\u001b[0m\n\u001b[0;32m  10102\u001b[0m   _, _, _op, _outputs = _op_def_library._apply_op_helper(\n",
      "\u001b[1;32m~\\anaconda3\\envs\\tf_py37\\lib\\site-packages\\tensorflow\\python\\framework\\ops.py\u001b[0m in \u001b[0;36mraise_from_not_ok_status\u001b[1;34m(e, name)\u001b[0m\n\u001b[0;32m   6651\u001b[0m   \u001b[0mmessage\u001b[0m \u001b[1;33m=\u001b[0m \u001b[0me\u001b[0m\u001b[1;33m.\u001b[0m\u001b[0mmessage\u001b[0m \u001b[1;33m+\u001b[0m \u001b[1;33m(\u001b[0m\u001b[1;34m\" name: \"\u001b[0m \u001b[1;33m+\u001b[0m \u001b[0mname\u001b[0m \u001b[1;32mif\u001b[0m \u001b[0mname\u001b[0m \u001b[1;32mis\u001b[0m \u001b[1;32mnot\u001b[0m \u001b[1;32mNone\u001b[0m \u001b[1;32melse\u001b[0m \u001b[1;34m\"\"\u001b[0m\u001b[1;33m)\u001b[0m\u001b[1;33m\u001b[0m\u001b[1;33m\u001b[0m\u001b[0m\n\u001b[0;32m   6652\u001b[0m   \u001b[1;31m# pylint: disable=protected-access\u001b[0m\u001b[1;33m\u001b[0m\u001b[1;33m\u001b[0m\u001b[1;33m\u001b[0m\u001b[0m\n\u001b[1;32m-> 6653\u001b[1;33m   \u001b[0msix\u001b[0m\u001b[1;33m.\u001b[0m\u001b[0mraise_from\u001b[0m\u001b[1;33m(\u001b[0m\u001b[0mcore\u001b[0m\u001b[1;33m.\u001b[0m\u001b[0m_status_to_exception\u001b[0m\u001b[1;33m(\u001b[0m\u001b[0me\u001b[0m\u001b[1;33m.\u001b[0m\u001b[0mcode\u001b[0m\u001b[1;33m,\u001b[0m \u001b[0mmessage\u001b[0m\u001b[1;33m)\u001b[0m\u001b[1;33m,\u001b[0m \u001b[1;32mNone\u001b[0m\u001b[1;33m)\u001b[0m\u001b[1;33m\u001b[0m\u001b[1;33m\u001b[0m\u001b[0m\n\u001b[0m\u001b[0;32m   6654\u001b[0m   \u001b[1;31m# pylint: enable=protected-access\u001b[0m\u001b[1;33m\u001b[0m\u001b[1;33m\u001b[0m\u001b[1;33m\u001b[0m\u001b[0m\n\u001b[0;32m   6655\u001b[0m \u001b[1;33m\u001b[0m\u001b[0m\n",
      "\u001b[1;32m~\\anaconda3\\envs\\tf_py37\\lib\\site-packages\\six.py\u001b[0m in \u001b[0;36mraise_from\u001b[1;34m(value, from_value)\u001b[0m\n",
      "\u001b[1;31mInvalidArgumentError\u001b[0m: Incompatible shapes: [48000] vs. [37632000] [Op:Sub]"
     ]
    }
   ],
   "source": [
    "# Define weight variables for training \n",
    "w = tf.Variable(tf.zeros(shape=(1)))\n",
    "b = tf.Variable(tf.zeros(shape=(1)))\n",
    "\n",
    "print (\">>> w =\", w)\n",
    "print (\">>> b =\", b)\n",
    "\n",
    "# Setting Gradient Descent Optimizer\n",
    "optimizer = tf.optimizers.SGD(lr = 0.01)\n",
    "\n",
    "# Training epoch times \n",
    "num_epochs = 10\n",
    "for step in range(num_epochs): \n",
    "    \n",
    "    # Recording calculation process for automatic differentiation. \n",
    "    with tf.GradientTape() as tape:\n",
    "        z_net = w * x_train + b\n",
    "        z_net = tf.reshape(z_net, [-1])    \n",
    "        sqr_errors = tf.square(y_train - z_net)\n",
    "        mean_cost = tf.reduce_mean(sqr_errors)\n",
    "    \n",
    "    # Calculating weight gredient for loss function \n",
    "    grads = tape.gradient(mean_cost, [w, b])\n",
    "    \n",
    "    # Reflecting Gradient on Optimizer \n",
    "    optimizer.apply_gradients(zip(grads, [w, b]))"
   ]
  },
  {
   "cell_type": "code",
   "execution_count": null,
   "id": "5a71053d",
   "metadata": {},
   "outputs": [],
   "source": []
  },
  {
   "cell_type": "code",
   "execution_count": 26,
   "id": "f6b83bf3",
   "metadata": {},
   "outputs": [],
   "source": []
  },
  {
   "cell_type": "markdown",
   "id": "fe6fb47e",
   "metadata": {},
   "source": [
    "## # Generating Neural Network using Keras"
   ]
  },
  {
   "cell_type": "code",
   "execution_count": 25,
   "id": "be602b0e",
   "metadata": {},
   "outputs": [
    {
     "name": "stdout",
     "output_type": "stream",
     "text": [
      "Epoch 1/10\n",
      "1500/1500 [==============================] - 1s 396us/step - loss: nan\n",
      "Epoch 2/10\n",
      "1500/1500 [==============================] - 1s 397us/step - loss: nan\n",
      "Epoch 3/10\n",
      "1500/1500 [==============================] - 1s 394us/step - loss: nan\n",
      "Epoch 4/10\n",
      "1500/1500 [==============================] - 1s 395us/step - loss: nan\n",
      "Epoch 5/10\n",
      "1500/1500 [==============================] - 1s 393us/step - loss: nan\n",
      "Epoch 6/10\n",
      "1500/1500 [==============================] - 1s 394us/step - loss: nan\n",
      "Epoch 7/10\n",
      "1500/1500 [==============================] - 1s 394us/step - loss: nan\n",
      "Epoch 8/10\n",
      "1500/1500 [==============================] - 1s 396us/step - loss: nan\n",
      "Epoch 9/10\n",
      "1500/1500 [==============================] - 1s 393us/step - loss: nan\n",
      "Epoch 10/10\n",
      "1500/1500 [==============================] - 1s 392us/step - loss: nan\n"
     ]
    },
    {
     "data": {
      "text/plain": [
       "<tensorflow.python.keras.callbacks.History at 0x2bf9e36c408>"
      ]
     },
     "execution_count": 25,
     "metadata": {},
     "output_type": "execute_result"
    }
   ],
   "source": [
    "from tensorflow.keras import Sequential\n",
    "from tensorflow.keras.layers import Dense\n",
    "\n",
    "\n",
    "# Gererating Neural Network\n",
    "model = tf.keras.models.Sequential()\n",
    "\n",
    "# Adding Full Connection Layer \n",
    "model.add(tf.keras.layers.Dense(1))\n",
    "\n",
    "# Designating Optimizer and loss function \n",
    "model.compile(optimizer='sgd', loss='mse')\n",
    "\n",
    "# Training the routine epoch times using training dataset \n",
    "model.fit(x_train, y_train, epochs=10)"
   ]
  },
  {
   "cell_type": "code",
   "execution_count": null,
   "id": "45585e70",
   "metadata": {},
   "outputs": [],
   "source": []
  },
  {
   "cell_type": "markdown",
   "id": "7f4533e0",
   "metadata": {},
   "source": [
    "## # Sequential class use case "
   ]
  },
  {
   "cell_type": "code",
   "execution_count": 34,
   "id": "977762ff",
   "metadata": {},
   "outputs": [],
   "source": [
    "from tensorflow.keras import Sequential\n",
    "from tensorflow.keras.layers import Dense \n",
    "\n",
    "model = Sequential([Dense(100, activation='sigmoid'),Dense(100, activation='sigmoid')])"
   ]
  },
  {
   "cell_type": "markdown",
   "id": "1f3e0c03",
   "metadata": {},
   "source": [
    "## # Dense class use case "
   ]
  },
  {
   "cell_type": "code",
   "execution_count": 30,
   "id": "f505dbde",
   "metadata": {},
   "outputs": [
    {
     "data": {
      "text/plain": [
       "<tensorflow.python.keras.layers.core.Dense at 0x2bf9e46aa48>"
      ]
     },
     "execution_count": 30,
     "metadata": {},
     "output_type": "execute_result"
    }
   ],
   "source": [
    "# 1. unit : parameter to designate the no. of neuron\n",
    "# 2. activation : parameter to designate the activation function \n",
    "\n",
    "Dense(100, activation='sigmoid')"
   ]
  },
  {
   "cell_type": "markdown",
   "id": "acef4fa1",
   "metadata": {},
   "source": [
    "## # Model's optimization algorithm and loss function setting "
   ]
  },
  {
   "cell_type": "code",
   "execution_count": 32,
   "id": "4a50eb30",
   "metadata": {},
   "outputs": [],
   "source": [
    "# 1. optimizer : parameter to designate optimization algorithm\n",
    "# 2. loss : parameter to designate loss function \n",
    "\n",
    "model.compile(optimizer='sgd', loss='categorical_crossentropy')"
   ]
  },
  {
   "cell_type": "code",
   "execution_count": null,
   "id": "d937aba0",
   "metadata": {},
   "outputs": [],
   "source": []
  },
  {
   "cell_type": "markdown",
   "id": "50743ad2",
   "metadata": {},
   "source": [
    "## # Model training and prediction "
   ]
  },
  {
   "cell_type": "code",
   "execution_count": null,
   "id": "e1d79b42",
   "metadata": {},
   "outputs": [],
   "source": [
    "model = Sequential()\n",
    "model.add(Dense(100, activation='sigmoid'))\n",
    "model.add(Dense(100, activation='sigmoid'))\n",
    "model.compile(optimizer='sgd', loss='categorical_crossentropy')\n",
    "model.fit(X, y, epochs= ...)\n",
    "model.predict(X)\n",
    "model.evaluate(X, y)"
   ]
  },
  {
   "cell_type": "markdown",
   "id": "3d3e86db",
   "metadata": {},
   "source": [
    "## # Generating MultiLayered Neural Network using Keras "
   ]
  },
  {
   "cell_type": "code",
   "execution_count": 70,
   "id": "f1a67b79",
   "metadata": {},
   "outputs": [],
   "source": [
    "# 1. Model generation \n",
    "\n",
    "from tensorflow.keras import Sequential\n",
    "from tensorflow.keras.layers import Dense \n",
    "\n",
    "model = Sequential()"
   ]
  },
  {
   "cell_type": "code",
   "execution_count": 71,
   "id": "65ea0191",
   "metadata": {},
   "outputs": [],
   "source": [
    "# 2. adding hidden layer and output layer in Model \n",
    "\n",
    "model.add(Dense(100, activation='sigmoid', input_shape=(784,)))\n",
    "model.add(Dense(10, activation='softmax'))"
   ]
  },
  {
   "cell_type": "code",
   "execution_count": 72,
   "id": "17c366b3",
   "metadata": {},
   "outputs": [],
   "source": [
    "# 3. designating optimization algorithms and loss function \n",
    "\n",
    "model.compile(optimizer='sgd', loss='categorical_crossentropy', metrics=['accuracy'])"
   ]
  },
  {
   "cell_type": "code",
   "execution_count": 73,
   "id": "d1c9bb10",
   "metadata": {},
   "outputs": [
    {
     "name": "stdout",
     "output_type": "stream",
     "text": [
      "Epoch 1/40\n",
      "1500/1500 [==============================] - 1s 819us/step - loss: 1.3833 - accuracy: 0.6396 - val_loss: 0.9590 - val_accuracy: 0.7318\n",
      "Epoch 2/40\n",
      "1500/1500 [==============================] - 1s 793us/step - loss: 0.8413 - accuracy: 0.7405 - val_loss: 0.7508 - val_accuracy: 0.7573\n",
      "Epoch 3/40\n",
      "1500/1500 [==============================] - 1s 787us/step - loss: 0.7126 - accuracy: 0.7616 - val_loss: 0.6653 - val_accuracy: 0.7750\n",
      "Epoch 4/40\n",
      "1500/1500 [==============================] - 1s 788us/step - loss: 0.6491 - accuracy: 0.7764 - val_loss: 0.6151 - val_accuracy: 0.7895\n",
      "Epoch 5/40\n",
      "1500/1500 [==============================] - 1s 809us/step - loss: 0.6080 - accuracy: 0.7896 - val_loss: 0.5823 - val_accuracy: 0.7992\n",
      "Epoch 6/40\n",
      "1500/1500 [==============================] - 1s 785us/step - loss: 0.5779 - accuracy: 0.8005 - val_loss: 0.5543 - val_accuracy: 0.8066\n",
      "Epoch 7/40\n",
      "1500/1500 [==============================] - 1s 796us/step - loss: 0.5548 - accuracy: 0.8078 - val_loss: 0.5329 - val_accuracy: 0.8139\n",
      "Epoch 8/40\n",
      "1500/1500 [==============================] - 1s 825us/step - loss: 0.5364 - accuracy: 0.8143 - val_loss: 0.5166 - val_accuracy: 0.8209\n",
      "Epoch 9/40\n",
      "1500/1500 [==============================] - 1s 801us/step - loss: 0.5218 - accuracy: 0.8195 - val_loss: 0.5028 - val_accuracy: 0.8242\n",
      "Epoch 10/40\n",
      "1500/1500 [==============================] - 1s 799us/step - loss: 0.5091 - accuracy: 0.8231 - val_loss: 0.4919 - val_accuracy: 0.8263\n",
      "Epoch 11/40\n",
      "1500/1500 [==============================] - 1s 805us/step - loss: 0.4984 - accuracy: 0.8271 - val_loss: 0.4817 - val_accuracy: 0.8293\n",
      "Epoch 12/40\n",
      "1500/1500 [==============================] - 1s 782us/step - loss: 0.4894 - accuracy: 0.8306 - val_loss: 0.4736 - val_accuracy: 0.8324\n",
      "Epoch 13/40\n",
      "1500/1500 [==============================] - 1s 795us/step - loss: 0.4815 - accuracy: 0.8324 - val_loss: 0.4656 - val_accuracy: 0.8365\n",
      "Epoch 14/40\n",
      "1500/1500 [==============================] - 1s 797us/step - loss: 0.4739 - accuracy: 0.8342 - val_loss: 0.4641 - val_accuracy: 0.8366\n",
      "Epoch 15/40\n",
      "1500/1500 [==============================] - 1s 795us/step - loss: 0.4680 - accuracy: 0.8367 - val_loss: 0.4537 - val_accuracy: 0.8400\n",
      "Epoch 16/40\n",
      "1500/1500 [==============================] - 1s 809us/step - loss: 0.4619 - accuracy: 0.8387 - val_loss: 0.4478 - val_accuracy: 0.8409\n",
      "Epoch 17/40\n",
      "1500/1500 [==============================] - 1s 800us/step - loss: 0.4564 - accuracy: 0.8401 - val_loss: 0.4430 - val_accuracy: 0.8429\n",
      "Epoch 18/40\n",
      "1500/1500 [==============================] - 1s 810us/step - loss: 0.4514 - accuracy: 0.8430 - val_loss: 0.4384 - val_accuracy: 0.8443\n",
      "Epoch 19/40\n",
      "1500/1500 [==============================] - 1s 805us/step - loss: 0.4469 - accuracy: 0.8440 - val_loss: 0.4357 - val_accuracy: 0.8460\n",
      "Epoch 20/40\n",
      "1500/1500 [==============================] - 1s 799us/step - loss: 0.4428 - accuracy: 0.8454 - val_loss: 0.4315 - val_accuracy: 0.8463\n",
      "Epoch 21/40\n",
      "1500/1500 [==============================] - 1s 792us/step - loss: 0.4385 - accuracy: 0.8463 - val_loss: 0.4271 - val_accuracy: 0.8482\n",
      "Epoch 22/40\n",
      "1500/1500 [==============================] - 1s 798us/step - loss: 0.4349 - accuracy: 0.8476 - val_loss: 0.4271 - val_accuracy: 0.8499\n",
      "Epoch 23/40\n",
      "1500/1500 [==============================] - 1s 814us/step - loss: 0.4314 - accuracy: 0.8493 - val_loss: 0.4216 - val_accuracy: 0.8508\n",
      "Epoch 24/40\n",
      "1500/1500 [==============================] - 1s 812us/step - loss: 0.4279 - accuracy: 0.8500 - val_loss: 0.4189 - val_accuracy: 0.8518\n",
      "Epoch 25/40\n",
      "1500/1500 [==============================] - 1s 814us/step - loss: 0.4248 - accuracy: 0.8506 - val_loss: 0.4151 - val_accuracy: 0.8522\n",
      "Epoch 26/40\n",
      "1500/1500 [==============================] - 1s 814us/step - loss: 0.4218 - accuracy: 0.8518 - val_loss: 0.4134 - val_accuracy: 0.8526\n",
      "Epoch 27/40\n",
      "1500/1500 [==============================] - 1s 821us/step - loss: 0.4189 - accuracy: 0.8528 - val_loss: 0.4113 - val_accuracy: 0.8547\n",
      "Epoch 28/40\n",
      "1500/1500 [==============================] - 1s 802us/step - loss: 0.4162 - accuracy: 0.8528 - val_loss: 0.4092 - val_accuracy: 0.8556\n",
      "Epoch 29/40\n",
      "1500/1500 [==============================] - 1s 798us/step - loss: 0.4136 - accuracy: 0.8543 - val_loss: 0.4057 - val_accuracy: 0.8563\n",
      "Epoch 30/40\n",
      "1500/1500 [==============================] - 1s 799us/step - loss: 0.4112 - accuracy: 0.8544 - val_loss: 0.4036 - val_accuracy: 0.8559\n",
      "Epoch 31/40\n",
      "1500/1500 [==============================] - 1s 811us/step - loss: 0.4084 - accuracy: 0.8561 - val_loss: 0.4015 - val_accuracy: 0.8585\n",
      "Epoch 32/40\n",
      "1500/1500 [==============================] - 1s 805us/step - loss: 0.4062 - accuracy: 0.8566 - val_loss: 0.4002 - val_accuracy: 0.8589\n",
      "Epoch 33/40\n",
      "1500/1500 [==============================] - 1s 807us/step - loss: 0.4040 - accuracy: 0.8574 - val_loss: 0.3978 - val_accuracy: 0.8603\n",
      "Epoch 34/40\n",
      "1500/1500 [==============================] - 1s 801us/step - loss: 0.4018 - accuracy: 0.8589 - val_loss: 0.3980 - val_accuracy: 0.8595\n",
      "Epoch 35/40\n",
      "1500/1500 [==============================] - 1s 805us/step - loss: 0.3996 - accuracy: 0.8590 - val_loss: 0.3962 - val_accuracy: 0.8592\n",
      "Epoch 36/40\n",
      "1500/1500 [==============================] - 1s 801us/step - loss: 0.3975 - accuracy: 0.8593 - val_loss: 0.3942 - val_accuracy: 0.8610\n",
      "Epoch 37/40\n",
      "1500/1500 [==============================] - 1s 806us/step - loss: 0.3953 - accuracy: 0.8610 - val_loss: 0.3938 - val_accuracy: 0.8624\n",
      "Epoch 38/40\n",
      "1500/1500 [==============================] - 1s 815us/step - loss: 0.3935 - accuracy: 0.8611 - val_loss: 0.3909 - val_accuracy: 0.8633\n",
      "Epoch 39/40\n",
      "1500/1500 [==============================] - 1s 822us/step - loss: 0.3918 - accuracy: 0.8619 - val_loss: 0.3880 - val_accuracy: 0.8634\n",
      "Epoch 40/40\n",
      "1500/1500 [==============================] - 1s 786us/step - loss: 0.3900 - accuracy: 0.8622 - val_loss: 0.3879 - val_accuracy: 0.8622\n"
     ]
    }
   ],
   "source": [
    "# 4. model training \n",
    "\n",
    "history = model.fit(x_train, y_train_encoded, epochs=40, \n",
    "                   validation_data=(x_val, y_val_encoded))"
   ]
  },
  {
   "cell_type": "code",
   "execution_count": 74,
   "id": "5f3a91ef",
   "metadata": {},
   "outputs": [
    {
     "name": "stdout",
     "output_type": "stream",
     "text": [
      "dict_keys(['loss', 'accuracy', 'val_loss', 'val_accuracy'])\n"
     ]
    }
   ],
   "source": [
    "# 5. plotting graph for loss and accuracy \n",
    "\n",
    "print(history.history.keys())"
   ]
  },
  {
   "cell_type": "code",
   "execution_count": 75,
   "id": "ca0d4b08",
   "metadata": {},
   "outputs": [
    {
     "data": {
      "image/png": "[encoded data removed]",
      "text/plain": [
       "<Figure size 432x288 with 1 Axes>"
      ]
     },
     "metadata": {
      "needs_background": "light"
     },
     "output_type": "display_data"
    }
   ],
   "source": [
    "plt.plot(history.history['loss'])\n",
    "plt.plot(history.history['val_loss'])\n",
    "plt.ylabel('loss', fontsize ='17')\n",
    "plt.xlabel('epoch', fontsize ='17')\n",
    "plt.legend(['train_loss', 'val_loss'])\n",
    "plt.title('Loss plot', fontsize ='20')\n",
    "\n",
    "plt.grid()\n",
    "plt.show()"
   ]
  },
  {
   "cell_type": "code",
   "execution_count": 76,
   "id": "b798dd9d",
   "metadata": {},
   "outputs": [
    {
     "data": {
      "image/png": "[encoded data removed]",
      "text/plain": [
       "<Figure size 432x288 with 1 Axes>"
      ]
     },
     "metadata": {
      "needs_background": "light"
     },
     "output_type": "display_data"
    }
   ],
   "source": [
    "plt.plot(history.history['accuracy'])\n",
    "plt.plot(history.history['val_accuracy'])\n",
    "plt.ylabel('accuracy', fontsize ='17')\n",
    "plt.xlabel('epoch', fontsize ='17')\n",
    "plt.legend(['train_accuracy', 'val_accuracy'])\n",
    "plt.title('Accuracy plot', fontsize ='20')\n",
    "\n",
    "plt.grid()\n",
    "plt.show()"
   ]
  },
  {
   "cell_type": "code",
   "execution_count": 77,
   "id": "a817f239",
   "metadata": {},
   "outputs": [
    {
     "name": "stdout",
     "output_type": "stream",
     "text": [
      "0.8622499704360962\n"
     ]
    }
   ],
   "source": [
    "# 6. Calculating verification set accuracy\n",
    "\n",
    "loss, accuracy = model.evaluate(x_val, y_val_encoded, verbose = 0)\n",
    "print(accuracy)"
   ]
  },
  {
   "cell_type": "code",
   "execution_count": null,
   "id": "183bfa45",
   "metadata": {},
   "outputs": [],
   "source": []
  }
 ],
 "metadata": {
  "kernelspec": {
   "display_name": "Tensorflow_py37",
   "language": "python",
   "name": "tf_py37"
  },
  "language_info": {
   "codemirror_mode": {
    "name": "ipython",
    "version": 3
   },
   "file_extension": ".py",
   "mimetype": "text/x-python",
   "name": "python",
   "nbconvert_exporter": "python",
   "pygments_lexer": "ipython3",
   "version": "3.7.11"
  }
 },
 "nbformat": 4,
 "nbformat_minor": 5
}
