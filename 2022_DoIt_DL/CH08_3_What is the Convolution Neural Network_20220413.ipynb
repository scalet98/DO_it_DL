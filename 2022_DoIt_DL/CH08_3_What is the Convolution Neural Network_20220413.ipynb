{
 "cells": [
  {
   "cell_type": "markdown",
   "id": "473f9b5e",
   "metadata": {},
   "source": [
    "# CH08_3_What is the Convolution Neural Network?\n",
    "\n",
    "- Last update : 2022.04.13."
   ]
  },
  {
   "cell_type": "code",
   "execution_count": 7,
   "id": "ae23a1f8",
   "metadata": {},
   "outputs": [],
   "source": [
    "# Implementing ReLU Function \n",
    "\n",
    "import numpy as np\n",
    "import tensorflow as tf\n",
    "\n",
    "def relu(x): \n",
    "    return np.maximum(x, 0)"
   ]
  },
  {
   "cell_type": "code",
   "execution_count": 6,
   "id": "e3ca8b7b",
   "metadata": {},
   "outputs": [
    {
     "data": {
      "text/plain": [
       "array([0, 2, 0, 4, 0])"
      ]
     },
     "execution_count": 6,
     "metadata": {},
     "output_type": "execute_result"
    }
   ],
   "source": [
    "x = np.array([-1, 2, -3, 4, -5])\n",
    "\n",
    "relu(x)"
   ]
  },
  {
   "cell_type": "code",
   "execution_count": 8,
   "id": "d774c60c",
   "metadata": {},
   "outputs": [
    {
     "data": {
      "text/plain": [
       "array([0, 2, 0, 4, 0])"
      ]
     },
     "execution_count": 8,
     "metadata": {},
     "output_type": "execute_result"
    }
   ],
   "source": [
    "r_out = tf.nn.relu(x)\n",
    "r_out.numpy()"
   ]
  },
  {
   "cell_type": "code",
   "execution_count": null,
   "id": "44d540ba",
   "metadata": {},
   "outputs": [],
   "source": []
  }
 ],
 "metadata": {
  "kernelspec": {
   "display_name": "Tensorflow_py37",
   "language": "python",
   "name": "tf_py37"
  },
  "language_info": {
   "codemirror_mode": {
    "name": "ipython",
    "version": 3
   },
   "file_extension": ".py",
   "mimetype": "text/x-python",
   "name": "python",
   "nbconvert_exporter": "python",
   "pygments_lexer": "ipython3",
   "version": "3.7.11"
  }
 },
 "nbformat": 4,
 "nbformat_minor": 5
}
