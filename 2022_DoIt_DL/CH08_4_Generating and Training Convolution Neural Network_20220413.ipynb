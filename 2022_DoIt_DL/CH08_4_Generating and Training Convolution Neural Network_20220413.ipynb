{
 "cells": [
  {
   "cell_type": "markdown",
   "id": "dd234d47",
   "metadata": {},
   "source": [
    "# CH08_4_Generating and Training Convolution Neural Network\n",
    "\n",
    "- Last update : 2022.04.13."
   ]
  },
  {
   "cell_type": "code",
   "execution_count": 28,
   "id": "dfa2a916",
   "metadata": {},
   "outputs": [],
   "source": [
    "import numpy as np\n",
    "import tensorflow as tf"
   ]
  },
  {
   "cell_type": "markdown",
   "id": "d22b65c9",
   "metadata": {},
   "source": [
    "## # Generating Forward propagation calculation of Convolution neural network"
   ]
  },
  {
   "cell_type": "code",
   "execution_count": 102,
   "id": "364127a8",
   "metadata": {},
   "outputs": [],
   "source": [
    "# 1. Implementing Convolution \n",
    "\n",
    "def forpass(self, x): \n",
    "    # Implementing 3 X 3 Convolution \n",
    "    c_out1 = tf.nn.conv2d(x, self.conv_w, strides=1, padding='SAME') + self.conv_b"
   ]
  },
  {
   "cell_type": "code",
   "execution_count": 104,
   "id": "84647db3",
   "metadata": {},
   "outputs": [],
   "source": [
    "# 2. Implementing ReLU function \n",
    "\n",
    "def forpass(self, x): \n",
    "    ...\n",
    "    # applying ReLU function \n",
    "    r_out = tf.nn.relu(c_out)\n",
    "    ..."
   ]
  },
  {
   "cell_type": "code",
   "execution_count": null,
   "id": "d974d4a4",
   "metadata": {},
   "outputs": [],
   "source": [
    "# 3. Applying pooling and modifying fully connected layers \n",
    "\n",
    "def forpass(self, x): \n",
    "    ...\n",
    "    # applying 2 X 2 max pooling\n",
    "    p_out = tf.nn.max_pool2d(r_out, ksize=2, strides=2, padding='VALID')\n",
    "    # spreading out output except initial batch dimension \n",
    "    f_out = tf.reshape(p_out, [x.shape[0], -1])\n",
    "    z1 = tf.matmul(f_out, self.w1) + self.b1   # Calculating regression function of first layer\n",
    "    a1 = tf.nn.relu(z1)                        # applying activation function \n",
    "    z2 = tf.matmul(a1, self.w2) +self.b2       # Calculating regression function of second layer   \n",
    "    return z2  "
   ]
  },
  {
   "cell_type": "markdown",
   "id": "48cfa687",
   "metadata": {},
   "source": [
    "## # Generating Backword propagation calculation of Convolution neural network"
   ]
  },
  {
   "cell_type": "code",
   "execution_count": 106,
   "id": "454aa6fe",
   "metadata": {},
   "outputs": [
    {
     "name": "stdout",
     "output_type": "stream",
     "text": [
      "tf.Tensor([ 5. 14. 29.], shape=(3,), dtype=float64)\n"
     ]
    }
   ],
   "source": [
    "# Auto defferentiation usage \n",
    "\n",
    "x = tf.Variable(np.array([1.0, 2.0, 3.0]))\n",
    "\n",
    "with tf.GradientTape( ) as tape:\n",
    "    y = x**3 + 2*x + 5\n",
    "    \n",
    "# Calculating Gradient \n",
    "print (tape.gradient(y, x))"
   ]
  },
  {
   "cell_type": "code",
   "execution_count": 108,
   "id": "a0652f60",
   "metadata": {},
   "outputs": [],
   "source": [
    "# 1. Implementing backward propagation calculation \n",
    "\n",
    "def training(self, x, y): \n",
    "    m = len(x)                        # saving the no. of samples \n",
    "    with tf.GradientTape() as tape:\n",
    "        z = self.forpass(x)           # Implementing forward propagation calculation \n",
    "        # calculating loss \n",
    "        loss = tf.nn.softmax_cross_entropy_with_logits(y, z)\n",
    "        loss = tf.reduce_mean(loss)\n",
    "    ...        "
   ]
  },
  {
   "cell_type": "code",
   "execution_count": 109,
   "id": "fe1fb922",
   "metadata": {},
   "outputs": [
    {
     "name": "stdout",
     "output_type": "stream",
     "text": [
      "tf.Tensor([1.99908031e-17 5.43406367e-17 1.47713165e-16], shape=(3,), dtype=float64)\n"
     ]
    }
   ],
   "source": [
    "x = tf.Variable(np.array([1.0, 2.0, 3.0]))\n",
    "with tf.GradientTape() as tape:\n",
    "    y = tf.nn.softmax(x)\n",
    "    \n",
    "# calculating gradient \n",
    "print (tape.gradient(y, x))"
   ]
  },
  {
   "cell_type": "code",
   "execution_count": 111,
   "id": "fa292860",
   "metadata": {},
   "outputs": [],
   "source": [
    "# 2. Calculating Gradient \n",
    "\n",
    "def training(self, x, y): \n",
    "    ...\n",
    "    weights_list = [self.conv_w, self.conv_b, self.w1, self.b1, self.w2, self.b2]\n",
    "    # Calculating gradient on the weight \n",
    "    grads = tape.gradient(loss, weights_list)\n",
    "    # updating weights\n",
    "    self.optimizer.apply_gradients(zip(grads, weights_list))"
   ]
  },
  {
   "cell_type": "markdown",
   "id": "53ec77e6",
   "metadata": {},
   "source": [
    "## # Initializing weight by making optimizer object"
   ]
  },
  {
   "cell_type": "code",
   "execution_count": 112,
   "id": "56633010",
   "metadata": {},
   "outputs": [],
   "source": [
    "# 1. Modifying fit() method\n",
    "\n",
    "def fit(self, x, y, epochs=100, x_val=None, y_val=None): \n",
    "    self.init_weights(x.shape, y.shape[1])      # initializing weights of hidden layers and output layers \n",
    "    self.optimizer = tf.optimizers.SGD(learning_rate=self.lr)\n",
    "    # repeats the routine epoch times \n",
    "    for i in range(epochs): \n",
    "        print (\"Epoch\", i, end=' ')\n",
    "        # circulating mini batch returned from generator function \n",
    "        batch_losses = []\n",
    "        for x_batch, y_batch in self.gen_batch(x, y): \n",
    "            print ('.', end='')\n",
    "            self.training(x_batch, y_batch)\n",
    "            # recording batch losses\n",
    "            batch_losses.append(self.get_loss(x_batch, y_batch))\n",
    "        print ()\n",
    "        # calculating avearage batch loss and saving it to loss\n",
    "        self.losses.append(np.mean(batch_losses))\n",
    "        # calculating losses on the verifying set \n",
    "        self.val_losses.append(self.get_loss(x_val, y_val))                     "
   ]
  },
  {
   "cell_type": "code",
   "execution_count": 113,
   "id": "c737f46f",
   "metadata": {},
   "outputs": [],
   "source": [
    "# 2. Modifying init_weights() method\n",
    "def init_weights(self, input_shape, n_classes): \n",
    "    g = tf.initializers.glorot_uniform()\n",
    "    self.conv_w = tf.Variables(g((3, 3, 1, self.n_kernels)))\n",
    "    self.conf_b = tf.Variables(np.zeros(self.n_kernels), dtype=float)\n",
    "    n_features = 14 * 14 * self.n_kernels\n",
    "    self.w1 = tf.Variables(g((n_features, self.units)))    # (No. of features, hidden layer size)\n",
    "    self.b1 = tf.Variables(np.zeros(self.units), dtype = float)   # size of hidden layer\n",
    "    self.w2 = tf.Variables(g((self.units, n_classes)))     # (size of hidden layer, no. of classes)\n",
    "    self.b2 = tf.Variables(np.zeros(n_classes), dtype = float)  # no. of classes "
   ]
  },
  {
   "cell_type": "markdown",
   "id": "6e744ab0",
   "metadata": {},
   "source": [
    "## # What is glorot_uniform( )?"
   ]
  },
  {
   "cell_type": "code",
   "execution_count": 14,
   "id": "2a67c5c7",
   "metadata": {},
   "outputs": [],
   "source": [
    "# Initialization of weight by glorot initialization"
   ]
  },
  {
   "cell_type": "code",
   "execution_count": 88,
   "id": "30f291d8",
   "metadata": {},
   "outputs": [],
   "source": [
    "class ConvolutionNetwork: \n",
    "    \n",
    "    def __init__(self, n_kernels=10, units=10, batch_size=32, learning_rate=0.1):\n",
    "        self.n_kernels = n_kernels         # No. of Kernel of Convolution \n",
    "        self.kernel_size = 3               # size of Kernel \n",
    "        self.optimizer = None              # Optimizer  \n",
    "        self.conv_w = None                 # weight of convolution layer  \n",
    "        self.conv_b = None                 # intersect of convolution layer  \n",
    "        self.units = units                 # No. of neuron in hidden layer \n",
    "        self.batch_size = batch_size       # batch size \n",
    "        self.w1 = None                     # weight of hidden layer  \n",
    "        self.b1 = None                     # interscept of hidden layer  \n",
    "        self.w2 = None                     # weight of output layer  \n",
    "        self.b2 = None                     # interscect of output layer  \n",
    "        self.a1 = None                     # activation output of hidden layer  \n",
    "        self.losses = []                   # Tainning loss  \n",
    "        self.val_losses = []               # verifying loass \n",
    "        self.lr = learning_rate            # learning rate \n",
    "    \n",
    "    def forpass(self, x):\n",
    "        # Implementing 3 x 3 convulution \n",
    "        c_out = tf.nn.conv2d(x, self.conv_w, strides=1, padding='SAME') + self.conv_b\n",
    "        # Implementing ReLU activation function \n",
    "        r_out = tf.nn.relu(c_out)\n",
    "        # Implementing 2X2 max pooling \n",
    "        p_out = tf.nn.max_pool2d(r_out, ksize = 2, strides=2, padding='VALID')\n",
    "        # Spreading out output except first batch dimension \n",
    "        f_out = tf.reshape(p_out, [x.shape[0], -1])\n",
    "        z1 = tf.matmul(f_out, self.w1) + self.b1       # calculating regression function of first layer \n",
    "        a1 = tf.nn.relu(z1)                            # applying activation function \n",
    "        z2 = tf.matmul(a1, self.w2) + self.b2          # calculating regression function of second layer \n",
    "        return z2 \n",
    "                \n",
    "    def init_weights(self, input_shape, n_classes):\n",
    "        g = tf.initializers.glorot_uniform()\n",
    "        self.conv_w = tf.Variable(g((3, 3, 1, self.n_kernels)))\n",
    "        self.conv_b = tf.Variable(np.zeros(self.n_kernels), dtype=float)\n",
    "        n_features = 14 * 14 * self.n_kernels\n",
    "        self.w1 = tf.Variable(g((n_features, self.units)))            # (no. of features, size of hidden layer)\n",
    "        self.b1 = tf.Variable(np.zeros(self.units), dtype = float)    # size of hidden layers \n",
    "        self.w2 = tf.Variable(g((self.units, n_classes)))             # (no. of hidden layers, no. of classes)\n",
    "        self.b2 = tf.Variable(np.zeros(n_classes), dtype = float)    # no. of classes \n",
    "        \n",
    "    def fit(self, x, y, epochs=100, x_val=None, y_val=None):\n",
    "        self.init_weights(x.shape, y.shape[1])         # initializing weights of hidden layer and output layer\n",
    "        self.optimizer = tf.optimizers.SGD(learning_rate = self.lr)\n",
    "        # repeate the routine epoch times \n",
    "        for i in range(epochs): \n",
    "            print('Epoch', i , end =' ')\n",
    "            # circulating mini batch returned from generator function \n",
    "            batch_losses = []\n",
    "            for x_batch, y_batch in self.gen_batch(x, y): \n",
    "                print ('.', end='')\n",
    "                self.training(x_batch, y_batch)\n",
    "                # recording batch loss \n",
    "                batch_losses.append(self.get_loss(x_batch, y_batch))\n",
    "            print()\n",
    "            # calculating batch loss average and saving it to training loss \n",
    "            self.losses.append(np.mean(batch_losses))\n",
    "            # calculating loss on the verifying set \n",
    "            self.val_losses.append(self.get_loss(x_val, y_val))\n",
    "            \n",
    "    # mini-batch generator function         \n",
    "    def gen_batch(self, x, y):          \n",
    "        bins = len(x) // self.batch_size                      # frequency of mini-batch  \n",
    "        indexes = np.random.permutation(np.arange(len(x)))   # shuffle the indexes \n",
    "        x = x[indexes]\n",
    "        y = y[indexes]\n",
    "        for i in range(bins): \n",
    "            start = self.batch_size * i \n",
    "            end = self.batch_size * (i + 1)\n",
    "            yield x[start:end], y[start:end]    # returning the value after slicing it in batch_size\n",
    "        \n",
    "    def training(self, x, y): \n",
    "        m = len(x)\n",
    "        with tf.GradientTape() as tape:\n",
    "            z = self.forpass(x)                 # implementing forward propagation calculation \n",
    "            # calculating the loss \n",
    "            loss = tf.nn.softmax_cross_entropy_with_logits(y, z)\n",
    "            loss = tf.reduce_mean(loss)\n",
    "            \n",
    "        weights_list = [self.conv_w, self.conv_b, self.w1, self.b1, self.w2, self.b2]\n",
    "        \n",
    "        # Calculating gradient on the weights \n",
    "        grads = tape.gradient(loss, weights_list)\n",
    "        # updating weights\n",
    "        self.optimizer.apply_gradients(zip(grads, weights_list))        \n",
    "        \n",
    "    def predict(self, x): \n",
    "        z = self.forpass(x)                      # Implementing forward propagation calculation \n",
    "        return np.argmax(z.numpy(), axis=1)\n",
    "            \n",
    "    def score(self, x, y): \n",
    "        # returning True ratio after comparing prediction to target row vector\n",
    "        return np.mean(self.predict(x) == np.argmax(y, axis=1))\n",
    "                \n",
    "    def get_loss(self, x, y): \n",
    "        z = self.forpass(x)                      # Implementing forward propagation calculation \n",
    "        # saving loss after calculation \n",
    "        loss = tf.reduce_mean(tf.nn.softmax_cross_entropy_with_logits(y, z))\n",
    "        return loss.numpy()"
   ]
  },
  {
   "cell_type": "code",
   "execution_count": null,
   "id": "2933f8a4",
   "metadata": {},
   "outputs": [],
   "source": []
  },
  {
   "cell_type": "markdown",
   "id": "97043b1a",
   "metadata": {},
   "source": [
    "## # Training Convolution Neural Network"
   ]
  },
  {
   "cell_type": "code",
   "execution_count": 89,
   "id": "a4128edb",
   "metadata": {},
   "outputs": [],
   "source": [
    "# 1. Loading Dataset\n",
    "(x_train_all, y_train_all), (x_test, y_test) = tf.keras.datasets.fashion_mnist.load_data()"
   ]
  },
  {
   "cell_type": "code",
   "execution_count": 90,
   "id": "7ce7bb7e",
   "metadata": {},
   "outputs": [],
   "source": [
    "# 2. Spliting Training Dataset into training set and verifying set\n",
    "from sklearn.model_selection import train_test_split \n",
    "\n",
    "x_train, x_val, y_train, y_val = train_test_split(x_train_all, y_train_all, stratify=y_train_all, \n",
    "                                                  test_size=0.2, random_state=42)"
   ]
  },
  {
   "cell_type": "code",
   "execution_count": 91,
   "id": "94175c45",
   "metadata": {},
   "outputs": [],
   "source": [
    "# 3. Transforming target into one-hot incoding\n",
    "y_train_encoded = tf.keras.utils.to_categorical(y_train)\n",
    "y_val_encoded = tf.keras.utils.to_categorical(y_val)"
   ]
  },
  {
   "cell_type": "code",
   "execution_count": 92,
   "id": "a7b3148e",
   "metadata": {},
   "outputs": [
    {
     "data": {
      "text/plain": [
       "(48000, 28, 28, 1)"
      ]
     },
     "execution_count": 92,
     "metadata": {},
     "output_type": "execute_result"
    }
   ],
   "source": [
    "# 4. Preparing input data\n",
    "x_train = x_train.reshape(-1, 28, 28, 1)\n",
    "x_val = x_val.reshape(-1, 28, 28, 1)\n",
    "\n",
    "x_train.shape"
   ]
  },
  {
   "cell_type": "code",
   "execution_count": 93,
   "id": "02df7d3e",
   "metadata": {},
   "outputs": [],
   "source": [
    "# 5. Standardization Preprocessing for Input data \n",
    "x_train = x_train / 255\n",
    "x_val = x_val /255"
   ]
  },
  {
   "cell_type": "code",
   "execution_count": 94,
   "id": "508150ca",
   "metadata": {
    "scrolled": true
   },
   "outputs": [
    {
     "name": "stdout",
     "output_type": "stream",
     "text": [
      "Epoch 0 .......................................................................................................................................................................................................................................................................................................................................................................................\n",
      "Epoch 1 .......................................................................................................................................................................................................................................................................................................................................................................................\n",
      "Epoch 2 .......................................................................................................................................................................................................................................................................................................................................................................................\n",
      "Epoch 3 .......................................................................................................................................................................................................................................................................................................................................................................................\n",
      "Epoch 4 .......................................................................................................................................................................................................................................................................................................................................................................................\n",
      "Epoch 5 .......................................................................................................................................................................................................................................................................................................................................................................................\n",
      "Epoch 6 .......................................................................................................................................................................................................................................................................................................................................................................................\n",
      "Epoch 7 .......................................................................................................................................................................................................................................................................................................................................................................................\n",
      "Epoch 8 .......................................................................................................................................................................................................................................................................................................................................................................................\n",
      "Epoch 9 .......................................................................................................................................................................................................................................................................................................................................................................................\n",
      "Epoch 10 .......................................................................................................................................................................................................................................................................................................................................................................................\n",
      "Epoch 11 .......................................................................................................................................................................................................................................................................................................................................................................................\n",
      "Epoch 12 .......................................................................................................................................................................................................................................................................................................................................................................................\n",
      "Epoch 13 .......................................................................................................................................................................................................................................................................................................................................................................................\n",
      "Epoch 14 .......................................................................................................................................................................................................................................................................................................................................................................................\n",
      "Epoch 15 .......................................................................................................................................................................................................................................................................................................................................................................................\n",
      "Epoch 16 .......................................................................................................................................................................................................................................................................................................................................................................................\n",
      "Epoch 17 .......................................................................................................................................................................................................................................................................................................................................................................................\n",
      "Epoch 18 .......................................................................................................................................................................................................................................................................................................................................................................................\n",
      "Epoch 19 .......................................................................................................................................................................................................................................................................................................................................................................................\n"
     ]
    }
   ],
   "source": [
    "# 6. Training Model\n",
    "\n",
    "cn = ConvolutionNetwork(n_kernels=10, units=100, batch_size= 128, learning_rate=0.01)\n",
    "cn.fit(x_train, y_train_encoded, x_val=x_val, y_val=y_val_encoded, epochs=20)"
   ]
  },
  {
   "cell_type": "code",
   "execution_count": 100,
   "id": "40aa51a2",
   "metadata": {},
   "outputs": [
    {
     "data": {
      "image/png": "[encoded data removed]",
      "text/plain": [
       "<Figure size 432x288 with 1 Axes>"
      ]
     },
     "metadata": {
      "needs_background": "light"
     },
     "output_type": "display_data"
    }
   ],
   "source": [
    "# 7. Plotting Training loss and verifying loss and Checking out accuracy\n",
    "\n",
    "import matplotlib.pyplot as plt\n",
    "\n",
    "plt.plot(cn.losses)\n",
    "plt.plot(cn.val_losses)\n",
    "plt.ylabel('loss', fontsize=\"16\")\n",
    "plt.xlabel('iteration', fontsize=\"16\")\n",
    "plt.title('Loss function', fontsize=\"22\")\n",
    "\n",
    "plt.legend(['train_loss', 'val_loss'], fontsize=\"16\")\n",
    "plt.grid()\n",
    "plt.show()"
   ]
  },
  {
   "cell_type": "code",
   "execution_count": 101,
   "id": "2c37f84b",
   "metadata": {},
   "outputs": [
    {
     "data": {
      "text/plain": [
       "0.8791666666666667"
      ]
     },
     "execution_count": 101,
     "metadata": {},
     "output_type": "execute_result"
    }
   ],
   "source": [
    "cn.score(x_val, y_val_encoded)"
   ]
  }
 ],
 "metadata": {
  "kernelspec": {
   "display_name": "Tensorflow_py37",
   "language": "python",
   "name": "tf_py37"
  },
  "language_info": {
   "codemirror_mode": {
    "name": "ipython",
    "version": 3
   },
   "file_extension": ".py",
   "mimetype": "text/x-python",
   "name": "python",
   "nbconvert_exporter": "python",
   "pygments_lexer": "ipython3",
   "version": "3.7.11"
  }
 },
 "nbformat": 4,
 "nbformat_minor": 5
}
