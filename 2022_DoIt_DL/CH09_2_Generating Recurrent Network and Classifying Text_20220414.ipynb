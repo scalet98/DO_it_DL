{
 "cells": [
  {
   "cell_type": "markdown",
   "id": "c476d3ce",
   "metadata": {},
   "source": [
    "# CH09_2_Generating Recurrent Network and Classifying Text\n",
    "\n",
    "- Last update : 2022.04.14. "
   ]
  },
  {
   "cell_type": "markdown",
   "id": "59039d9d",
   "metadata": {},
   "source": [
    "## # Prepare training set and verifying set"
   ]
  },
  {
   "cell_type": "code",
   "execution_count": 1,
   "id": "85ff4aff",
   "metadata": {},
   "outputs": [],
   "source": [
    "# 1. Loading the IMDB data set from tensorflow \n",
    "import numpy as np \n",
    "import tensorflow as tf \n",
    "from tensorflow.keras.datasets import imdb\n",
    "\n",
    "(x_train_all, y_train_all), (x_test, y_test) = imdb.load_data(skip_top=20, num_words=100)"
   ]
  },
  {
   "cell_type": "code",
   "execution_count": 2,
   "id": "8c54acb2",
   "metadata": {},
   "outputs": [
    {
     "name": "stdout",
     "output_type": "stream",
     "text": [
      "(25000,) (25000,)\n"
     ]
    }
   ],
   "source": [
    "# 2. Cheking out training set size\n",
    "print (x_train_all.shape, y_train_all.shape)"
   ]
  },
  {
   "cell_type": "code",
   "execution_count": 3,
   "id": "cf32bc38",
   "metadata": {},
   "outputs": [
    {
     "name": "stdout",
     "output_type": "stream",
     "text": [
      "[2, 2, 22, 2, 43, 2, 2, 2, 2, 65, 2, 2, 66, 2, 2, 2, 36, 2, 2, 25, 2, 43, 2, 2, 50, 2, 2, 2, 35, 2, 2, 2, 2, 2, 2, 2, 2, 2, 2, 2, 39, 2, 2, 2, 2, 2, 2, 38, 2, 2, 2, 2, 50, 2, 2, 2, 2, 2, 2, 22, 2, 2, 2, 2, 2, 22, 71, 87, 2, 2, 43, 2, 38, 76, 2, 2, 2, 2, 22, 2, 2, 2, 2, 2, 2, 2, 2, 2, 62, 2, 2, 2, 2, 2, 2, 2, 2, 2, 2, 2, 2, 66, 2, 33, 2, 2, 2, 2, 38, 2, 2, 25, 2, 51, 36, 2, 48, 25, 2, 33, 2, 22, 2, 2, 28, 77, 52, 2, 2, 2, 2, 82, 2, 2, 2, 2, 2, 2, 2, 2, 2, 2, 2, 2, 2, 2, 36, 71, 43, 2, 2, 26, 2, 2, 46, 2, 2, 2, 2, 2, 2, 88, 2, 2, 2, 2, 98, 32, 2, 56, 26, 2, 2, 2, 2, 2, 2, 2, 22, 21, 2, 2, 26, 2, 2, 2, 30, 2, 2, 51, 36, 28, 2, 92, 25, 2, 2, 2, 65, 2, 38, 2, 88, 2, 2, 2, 2, 2, 2, 2, 2, 32, 2, 2, 2, 2, 2, 32]\n"
     ]
    }
   ],
   "source": [
    "# 3. Checking out Training set sample\n",
    "\n",
    "print (x_train_all[0])"
   ]
  },
  {
   "cell_type": "code",
   "execution_count": 4,
   "id": "143b7a5e",
   "metadata": {},
   "outputs": [
    {
     "name": "stdout",
     "output_type": "stream",
     "text": [
      "[22, 43, 65, 66, 36, 25, 43, 50, 35, 39, 38, 50, 22, 22, 71, 87, 43, 38, 76, 22, 62, 66, 33, 38, 25, 51, 36, 48, 25, 33, 22, 28, 77, 52, 82, 36, 71, 43, 26, 46, 88, 98, 32, 56, 26, 22, 21, 26, 30, 51, 36, 28, 92, 25, 65, 38, 88, 32, 32]\n"
     ]
    }
   ],
   "source": [
    "# 4. Eliminating 2 from training set \n",
    "\n",
    "for i in range(len(x_train_all)):\n",
    "    x_train_all[i] = [w for w in x_train_all[i] if w > 2]\n",
    "    \n",
    "print (x_train_all[0])    "
   ]
  },
  {
   "cell_type": "code",
   "execution_count": 5,
   "id": "eb7069c7",
   "metadata": {},
   "outputs": [
    {
     "data": {
      "text/plain": [
       "17"
      ]
     },
     "execution_count": 5,
     "metadata": {},
     "output_type": "execute_result"
    }
   ],
   "source": [
    "# 5. downloading terminology dictionary\n",
    "\n",
    "word_to_index = imdb.get_word_index()\n",
    "word_to_index['movie']"
   ]
  },
  {
   "cell_type": "code",
   "execution_count": 6,
   "id": "5f204afd",
   "metadata": {},
   "outputs": [
    {
     "name": "stdout",
     "output_type": "stream",
     "text": [
      "film just story really they you just there an from so there film film were great just so much film would really at so you what they if you at film have been good also they were just are out because them all up are film but are be what they have don't you story so because all all "
     ]
    }
   ],
   "source": [
    "# 6. Transforming integer in training set into English words string\n",
    "\n",
    "index_to_word = {word_to_index[k]: k for k in word_to_index}\n",
    "\n",
    "for w in x_train_all[0]: \n",
    "    print(index_to_word[w - 3], end=' ')\n",
    "    "
   ]
  },
  {
   "cell_type": "code",
   "execution_count": 7,
   "id": "19980d5a",
   "metadata": {},
   "outputs": [
    {
     "name": "stdout",
     "output_type": "stream",
     "text": [
      "59 32\n"
     ]
    }
   ],
   "source": [
    "# 7. Checking out the length of the training sample\n",
    "\n",
    "print(len(x_train_all[0]), len(x_train_all[1]))"
   ]
  },
  {
   "cell_type": "code",
   "execution_count": 8,
   "id": "aee88cbd",
   "metadata": {},
   "outputs": [
    {
     "name": "stdout",
     "output_type": "stream",
     "text": [
      "[list([22, 43, 65, 66, 36, 25, 43, 50, 35, 39, 38, 50, 22, 22, 71, 87, 43, 38, 76, 22, 62, 66, 33, 38, 25, 51, 36, 48, 25, 33, 22, 28, 77, 52, 82, 36, 71, 43, 26, 46, 88, 98, 32, 56, 26, 22, 21, 26, 30, 51, 36, 28, 92, 25, 65, 38, 88, 32, 32])\n",
      " list([78, 26, 20, 21, 69, 30, 23, 93, 35, 89, 29, 46, 37, 45, 43, 38, 26, 68, 98, 43, 50, 32, 78, 22, 64, 23, 28, 52, 33, 89, 78, 95])\n",
      " list([47, 30, 31, 54, 61, 71, 22, 33, 75, 43, 86, 35, 33, 89, 78, 66, 58, 43, 85, 42, 83, 68, 36, 36, 69, 22, 28, 40, 87, 23, 21, 23, 22, 40, 57, 31, 22, 47, 51, 23, 79, 89, 35])\n",
      " ...\n",
      " list([45, 84, 21, 84, 84, 36, 28, 57, 21, 84, 56, 31, 20, 97, 20, 53, 74, 29, 45, 40, 29, 89, 70, 29, 64, 26, 27, 47, 84, 37, 61, 34, 65, 59])\n",
      " list([69, 72, 23, 54, 45, 58, 43, 23, 62, 30, 51, 32, 61, 71, 66, 75, 37, 69, 75, 44, 69, 50, 23, 40, 40, 25, 70, 31, 62, 40, 25, 52, 58, 92, 39, 38, 84, 80, 23])\n",
      " list([22, 45, 39, 50, 47, 38, 24, 78, 21, 27, 92, 42, 97, 90, 35, 29, 27, 97, 21, 66, 78, 21, 60, 27, 43, 40, 20, 72, 51, 22])]\n"
     ]
    }
   ],
   "source": [
    "print(x_train_all)"
   ]
  },
  {
   "cell_type": "code",
   "execution_count": 9,
   "id": "bf32c91b",
   "metadata": {},
   "outputs": [
    {
     "name": "stdout",
     "output_type": "stream",
     "text": [
      "[1 0 0 1 0 0 1 0 1 0]\n"
     ]
    }
   ],
   "source": [
    "# 8. Checking out target data of training set \n",
    "\n",
    "print(y_train_all[:10])"
   ]
  },
  {
   "cell_type": "code",
   "execution_count": 10,
   "id": "73d5affd",
   "metadata": {
    "scrolled": true
   },
   "outputs": [
    {
     "name": "stdout",
     "output_type": "stream",
     "text": [
      ">>> x_train (20000,)=\n",
      " [list([35, 40, 27, 28, 40, 22, 83, 31, 85, 45, 24, 23, 31, 70, 31, 76, 30, 98, 32, 22, 28, 51, 75, 56, 30, 33, 97, 53, 38, 46, 53, 74, 31, 35, 23, 34, 22, 58])\n",
      " list([54, 39, 27, 35, 35, 56, 27, 29, 80, 27, 27, 46, 23, 35, 64, 86, 65, 35, 22, 63, 73, 29, 22, 82, 34, 50, 26, 21, 47, 30, 97, 83, 76, 69, 86, 31, 61, 49, 99, 85, 85, 26, 73, 81, 87, 53, 26, 53, 74, 26, 53, 62, 28, 21, 50, 44, 93, 22, 39, 34, 21, 45, 87, 20, 32])\n",
      " list([26, 42, 99, 30, 78, 35, 96, 45, 48, 88, 41, 24, 59, 43, 23, 61, 20, 30, 42, 33, 32])\n",
      " ...\n",
      " list([39, 76, 56, 34, 94, 64, 39, 67, 82, 66, 94, 30, 23, 38, 50, 26, 54, 25, 70, 67, 34, 57, 23, 50, 26, 26, 26, 56, 48, 25, 79, 32, 97, 78, 20, 94, 55, 67, 49, 26, 21, 64, 25, 26, 31, 91, 94, 22, 47, 49, 94, 24, 67, 21, 94, 66, 48, 25, 81, 81, 38, 24])\n",
      " list([20, 67, 62, 30, 35, 54, 25, 79, 20, 69, 55, 20, 63, 71, 23, 70, 33, 32, 67, 20, 80, 24])\n",
      " list([22, 66, 76, 45, 55, 63, 63, 62, 60, 49, 45, 56, 54, 36, 71, 71, 23, 42, 21, 51, 50, 26, 52, 37, 38, 76, 40, 68, 22, 36, 97, 68, 45, 66, 39, 37, 28, 45, 65, 37, 46, 34, 27, 56, 27, 49])]\n",
      "\n",
      ">>> y_train(20000,) = [0 1 0 ... 0 1 1]\n",
      "-------------------------------\n",
      "\n",
      ">>> x_val (5000,)=\n",
      " [list([55, 27, 49, 34, 49, 26, 77, 20, 47, 82, 25, 53, 54, 29, 31])\n",
      " list([76, 21, 22, 47, 87, 68, 43, 73, 43, 55, 71, 24, 78, 49, 84, 32, 26, 71, 69, 65, 40, 71, 21, 61, 63, 64, 85, 79, 54, 86, 32, 32, 22, 23])\n",
      " list([44, 68, 71, 21, 53, 53, 40, 93, 46, 66, 82, 20, 39, 22, 20, 73, 26, 44, 99, 22, 33, 49, 50, 73, 20, 66, 46, 39, 49, 31, 21, 66, 78, 31, 20, 52, 94, 73, 94, 65, 82, 45, 20, 23, 20, 63, 20, 94, 65, 31, 20, 94, 20, 80, 84, 88, 36, 30, 55, 55, 20, 25, 66, 92, 28, 30, 83, 20, 45, 20, 94, 20, 82, 93, 34, 94, 37, 92, 69, 28, 20, 21, 26, 68, 20, 49, 52, 52, 20, 23, 94])\n",
      " ...\n",
      " list([97, 20, 44, 28, 23, 73, 48, 25, 63, 39, 69, 20, 39, 27, 60, 74, 29, 64, 22, 48, 25, 70, 44, 41, 38, 73, 23, 41, 36, 41, 41, 38, 44, 22, 21, 60, 44, 22, 72, 37, 20, 39, 73, 33, 90, 29, 66, 99, 46, 27, 21, 48, 44, 27, 42, 56, 73, 43, 33, 46])\n",
      " list([61, 88, 20, 61, 86, 20, 33, 49, 93, 72, 23, 20, 51, 25])\n",
      " list([20, 20, 86, 58, 23, 24, 69, 24, 60, 23, 33, 86, 30, 22, 67, 80, 20, 25, 25, 80, 76, 59, 80, 25])]\n",
      "\n",
      ">>> y_val (5000,)= [0 1 1 ... 0 0 1]\n"
     ]
    }
   ],
   "source": [
    "# 9. preparing verifying dataset\n",
    "\n",
    "np.random.seed(42)\n",
    "random_index = np.random.permutation(25000)\n",
    "\n",
    "x_train = x_train_all[random_index[:20000]]\n",
    "y_train = y_train_all[random_index[:20000]]\n",
    "x_val = x_train_all[random_index[20000:]]\n",
    "y_val = y_train_all[random_index[20000:]]\n",
    "\n",
    "print (\">>> x_train \"+str(x_train.shape)+\"=\\n\", x_train)\n",
    "print (\"\\n>>> y_train\"+str(y_train.shape)+\" =\", y_train)\n",
    "print ('-------------------------------')\n",
    "print (\"\\n>>> x_val \"+str(x_val.shape)+\"=\\n\", x_val)\n",
    "print (\"\\n>>> y_val \"+str(y_val.shape)+\"=\", y_val)"
   ]
  },
  {
   "cell_type": "markdown",
   "id": "82146f70",
   "metadata": {},
   "source": [
    "## # Alligning the length of sample "
   ]
  },
  {
   "cell_type": "code",
   "execution_count": 11,
   "id": "5ac5ba5f",
   "metadata": {},
   "outputs": [],
   "source": [
    "# 1. Aligning the length of sample using tensorflow\n",
    "\n",
    "from tensorflow.keras.preprocessing import sequence \n",
    "\n",
    "maxlen = 100 \n",
    "x_train_seq = sequence.pad_sequences(x_train, maxlen = maxlen)\n",
    "x_val_seq = sequence.pad_sequences(x_val, maxlen=maxlen)"
   ]
  },
  {
   "cell_type": "code",
   "execution_count": 12,
   "id": "4b44d58f",
   "metadata": {},
   "outputs": [
    {
     "name": "stdout",
     "output_type": "stream",
     "text": [
      ">>> x_train_seq.shape, x_val_seq.shape = (20000, 100) (5000, 100)\n",
      "\n",
      ">>> x_train_seq[0] =\n",
      " [ 0  0  0  0  0  0  0  0  0  0  0  0  0  0  0  0  0  0  0  0  0  0  0  0\n",
      "  0  0  0  0  0  0  0  0  0  0  0  0  0  0  0  0  0  0  0  0  0  0  0  0\n",
      "  0  0  0  0  0  0  0  0  0  0  0  0  0  0 35 40 27 28 40 22 83 31 85 45\n",
      " 24 23 31 70 31 76 30 98 32 22 28 51 75 56 30 33 97 53 38 46 53 74 31 35\n",
      " 23 34 22 58]\n"
     ]
    }
   ],
   "source": [
    "# 2. Checking out the size of alligned training set and sample \n",
    "\n",
    "print (\">>> x_train_seq.shape, x_val_seq.shape =\", x_train_seq.shape, x_val_seq.shape)\n",
    "\n",
    "print ('\\n>>> x_train_seq[0] =\\n', x_train_seq[0])"
   ]
  },
  {
   "cell_type": "markdown",
   "id": "1877b222",
   "metadata": {},
   "source": [
    "## # One-hot Incoding of the samples "
   ]
  },
  {
   "cell_type": "code",
   "execution_count": 13,
   "id": "a1469e30",
   "metadata": {},
   "outputs": [
    {
     "name": "stdout",
     "output_type": "stream",
     "text": [
      ">>> x_train_onehot.shape = (20000, 100, 100)\n",
      ">>> x_train_onehot.nbytes =  800000000 Byte\n",
      ">>> x_train_onehot.nbytes =    762.939 MB\n"
     ]
    }
   ],
   "source": [
    "# 1. One-hot incoding using tensorflow and cheking out the size of variables \n",
    "\n",
    "from tensorflow.keras.utils import to_categorical \n",
    "\n",
    "x_train_onehot = to_categorical(x_train_seq)\n",
    "x_val_onehot = to_categorical(x_val_seq)\n",
    "\n",
    "# 1.1. size checking \n",
    "print (\">>> x_train_onehot.shape =\", x_train_onehot.shape)\n",
    "\n",
    "# 1.2. memory checking \n",
    "print (\">>> x_train_onehot.nbytes = {0:10d} Byte\".format(x_train_onehot.nbytes))\n",
    "print (\">>> x_train_onehot.nbytes = {0:10.3f} MB\".format(x_train_onehot.nbytes/1024 /1024))"
   ]
  },
  {
   "cell_type": "markdown",
   "id": "71e0385d",
   "metadata": {},
   "source": [
    "## # Making Recurrent network class "
   ]
  },
  {
   "cell_type": "code",
   "execution_count": 14,
   "id": "bd8fd37e",
   "metadata": {},
   "outputs": [],
   "source": [
    "# 1. Modifying __init__() method\n",
    "\n",
    "def __init__(self, n_cells=10, batch_size=32, learning_rate=0.1):\n",
    "    self.n_cells = n_cells            # no. of cells\n",
    "    self.batch_size = batch_size      # batch size \n",
    "    self.w1h = None                   # weight of hidden status \n",
    "    self.w1x = None                   # weight of input \n",
    "    self.b1 = None                    # interscept of recurrent layer \n",
    "    self.w2 = None                    # weight of output layer\n",
    "    self.b2 = None                    # interscept of output layer\n",
    "    self.h = None                     # activation output of recurrent layer \n",
    "    self.losses = []                  # training loss \n",
    "    self.val_losses = []              # verification loss\n",
    "    self.lf = learning_rate           # learning rate "
   ]
  },
  {
   "cell_type": "code",
   "execution_count": 15,
   "id": "212107a3",
   "metadata": {},
   "outputs": [],
   "source": [
    "# 2. Initializing weight using orthogonal initialization \n",
    "\n",
    "def init_weights(self, n_features, n_classes):\n",
    "    orth_init = tf.initializers.Orthogonal()\n",
    "    glorot_init = tf.initializers.GlorotUniform()\n",
    "    \n",
    "    self.w1h = orth_init((self.n_cells, self.n_cells)).numpy()  # (no. of cells, no. of cells)\n",
    "    self.w1x = glorot_init((n_features, self.n_cells)).numpy()  # (no. of features, no. of cells)\n",
    "    self.b1 = np.zeros(self.n_cells)                            # size of hidden layer \n",
    "    self.w2 = glorot_init((self.n_cells, n_classes)).numpy()    # (no. of cells, no. of classes)\n",
    "    self.b2 = np.zeros(n_classes)"
   ]
  },
  {
   "cell_type": "code",
   "execution_count": 16,
   "id": "cf8c7a8a",
   "metadata": {},
   "outputs": [],
   "source": [
    "# 3. Constructing Forward Propagation calculation \n",
    "\n",
    "def forpass(self, x): \n",
    "    self.h = [np.zeros((x.shape[0], self.n_cells))]    # initializing hidden status \n",
    "    ..."
   ]
  },
  {
   "cell_type": "code",
   "execution_count": 17,
   "id": "4b527d10",
   "metadata": {},
   "outputs": [
    {
     "ename": "IndentationError",
     "evalue": "unexpected indent (Temp/ipykernel_1476/2733641252.py, line 2)",
     "output_type": "error",
     "traceback": [
      "\u001b[1;36m  File \u001b[1;32m\"C:\\Users\\scalet98\\AppData\\Local\\Temp/ipykernel_1476/2733641252.py\"\u001b[1;36m, line \u001b[1;32m2\u001b[0m\n\u001b[1;33m    ...\u001b[0m\n\u001b[1;37m    ^\u001b[0m\n\u001b[1;31mIndentationError\u001b[0m\u001b[1;31m:\u001b[0m unexpected indent\n"
     ]
    }
   ],
   "source": [
    "# 4. Changing the batch dimension and time steps\n",
    "    ...\n",
    "    # Exchange the batch dimension with step dimension \n",
    "    seq = np.swapaxes(x, 0, 1)\n",
    "    ..."
   ]
  },
  {
   "cell_type": "code",
   "execution_count": 18,
   "id": "88b3fa51",
   "metadata": {},
   "outputs": [
    {
     "ename": "IndentationError",
     "evalue": "unexpected indent (Temp/ipykernel_1476/196572691.py, line 2)",
     "output_type": "error",
     "traceback": [
      "\u001b[1;36m  File \u001b[1;32m\"C:\\Users\\scalet98\\AppData\\Local\\Temp/ipykernel_1476/196572691.py\"\u001b[1;36m, line \u001b[1;32m2\u001b[0m\n\u001b[1;33m    ...\u001b[0m\n\u001b[1;37m    ^\u001b[0m\n\u001b[1;31mIndentationError\u001b[0m\u001b[1;31m:\u001b[0m unexpected indent\n"
     ]
    }
   ],
   "source": [
    "# 5. forward propagation calculation in every time steps of each sample\n",
    "    ...\n",
    "    # calculating recurrent layer linear regression \n",
    "    for x in seq: \n",
    "        z1 = np.dot(x, self.w1x)+np.dot(self.h[-1], self.w1h) + self.b1\n",
    "        h = np.tanh(z1)                           # applying activation function \n",
    "        self.h.append(h)                          # saving hidden status for backpropagation \n",
    "        z2 = np.dot(h, self.w2) + self.b2         # calculating linear regression of output layer\n",
    "    return z2 "
   ]
  },
  {
   "cell_type": "code",
   "execution_count": 19,
   "id": "f5cbb3d6",
   "metadata": {},
   "outputs": [],
   "source": [
    "# 6. Implementing backward propagation calculation \n",
    "\n",
    "def backpro(self, x, err): \n",
    "    m = len(x)              # no. of samples \n",
    "    \n",
    "    # calculating gradient of weight and interscept of output layer \n",
    "    w2_grad = np.dot(self.h[-1].T, err) / m\n",
    "    b2_grad = np.sum(err) / m \n",
    "    \n",
    "    # exchange batch dimension with time step dimension \n",
    "    seq = np.swapaxes(x, 0, 1)\n",
    "    \n",
    "    w1h_grad = w1x_grad = b1_grad = 0 \n",
    "    \n",
    "    # calculating gradient right before cell \n",
    "    err_to_cell = np.dot(err, self.w2.T) * (1-self.h[-1]**2)\n",
    "    \n",
    "    # transfer gradient by backpropagating every time step\n",
    "    for x, h in zip(seq[::-1][:10], self.h[:-1][::-1][:10]):\n",
    "        w1h_grad += np.dot(h.T, err_to_cell)\n",
    "        w1x_grad += np.dot(x.T, err_to_cell)\n",
    "        b1_grad += np.sum(err_to_cell, axis=0)\n",
    "        \n",
    "        err_to_cell = np.dot(err_to_cell, self.w1h) * (1-h**2)\n",
    "        \n",
    "    w1h_grad /= m\n",
    "    w1x_grad /= m\n",
    "    b1_grad /= m\n",
    "     \n",
    "    return w1h_grad, w1x_grad, b1_grad, w2_grad, b2_grad"
   ]
  },
  {
   "cell_type": "code",
   "execution_count": 20,
   "id": "b6cc5ca7",
   "metadata": {},
   "outputs": [],
   "source": [
    "# 7. Modifying other methods\n",
    "\n",
    "class RecurrentNetwork:\n",
    "    \n",
    "    def __init__(self, n_cells=10, batch_size=32, learning_rate=0.1):\n",
    "        self.n_cells = n_cells            # no. of cells\n",
    "        self.batch_size = batch_size      # batch size \n",
    "        self.w1h = None                   # weight of hidden status \n",
    "        self.w1x = None                   # weight of input \n",
    "        self.b1 = None                    # interscept of recurrent layer \n",
    "        self.w2 = None                    # weight of output layer\n",
    "        self.b2 = None                    # interscept of output layer\n",
    "        self.h = None                     # activation output of recurrent layer \n",
    "        self.losses = []                  # training loss \n",
    "        self.val_losses = []              # verification loss\n",
    "        self.lr = learning_rate           # learning rate \n",
    "        \n",
    "    def forpass(self, x): \n",
    "        self.h = [np.zeros((x.shape[0], self.n_cells))]    # initializing hidden status \n",
    "        # Exchange the batch dimension with step dimension \n",
    "        seq = np.swapaxes(x, 0, 1)\n",
    "        # calculating recurrent layer linear regression \n",
    "        for x in seq: \n",
    "            z1 = np.dot(x, self.w1x) + np.dot(self.h[-1], self.w1h) + self.b1\n",
    "            h = np.tanh(z1)                           # applying activation function \n",
    "            self.h.append(h)                          # saving hidden status for backpropagation \n",
    "            z2 = np.dot(h, self.w2) + self.b2         # calculating linear regression of output layer\n",
    "        return z2 \n",
    "    \n",
    "    def backprop(self, x, err): \n",
    "        m = len(x)              # no. of samples \n",
    "\n",
    "        # calculating gradient of weight and interscept of output layer \n",
    "        w2_grad = np.dot(self.h[-1].T, err) / m\n",
    "        b2_grad = np.sum(err) / m \n",
    "        # exchange batch dimension with time step dimension \n",
    "        seq = np.swapaxes(x, 0, 1)\n",
    "\n",
    "        w1h_grad = w1x_grad = b1_grad = 0 \n",
    "        # calculating gradient right before cell \n",
    "        err_to_cell = np.dot(err, self.w2.T) * (1-self.h[-1]**2)\n",
    "        # transfer gradient by backpropagating every time step\n",
    "        for x, h in zip(seq[::-1][:10], self.h[:-1][::-1][:10]):\n",
    "            w1h_grad += np.dot(h.T, err_to_cell)\n",
    "            w1x_grad += np.dot(x.T, err_to_cell)\n",
    "            b1_grad += np.sum(err_to_cell, axis=0)\n",
    "            # calculating gradient right before the cell in previous time step\n",
    "            err_to_cell = np.dot(err_to_cell, self.w1h) * (1-h**2)\n",
    "\n",
    "        w1h_grad /= m\n",
    "        w1x_grad /= m\n",
    "        b1_grad /= m\n",
    "\n",
    "        return w1h_grad, w1x_grad, b1_grad, w2_grad, b2_grad\n",
    "    \n",
    "    def sigmoid(self, z): \n",
    "        a = 1/ (1+np.exp(-z))                 # calculating sigmoid \n",
    "        return a \n",
    "    \n",
    "    def init_weights(self, n_features, n_classes): \n",
    "        orth_init = tf.initializers.Orthogonal()\n",
    "        glorot_init = tf.initializers.GlorotUniform()\n",
    "        \n",
    "        self.w1h = orth_init((self.n_cells, self.n_cells)).numpy() # (no. of cells, no. of cells)\n",
    "        self.w1x = glorot_init((n_features, self.n_cells)).numpy() # (no. of features, no. of cells)\n",
    "        self.b1 = np.zeros(self.n_cells)                           # size of hidden layer  \n",
    "        self.w2 = glorot_init((self.n_cells, n_classes)).numpy()  # (no. of cells, no. of classes)\n",
    "        self.b2 = np.zeros(n_classes)\n",
    "        \n",
    "    def fit(self, x, y, epochs=100, x_val=None, y_val=None):\n",
    "        y = y.reshape(-1, 1)\n",
    "        y_val = y_val.reshape(-1, 1)\n",
    "        np.random.seed(42)\n",
    "        self.init_weights(x.shape[2], y.shape[1])    # initializing weight of hidden layer and output layer \n",
    "        # repeate the routine epoch times \n",
    "        for i in range(epochs): \n",
    "            print (\"EPOCH\", i , end=' ')\n",
    "            # circulating mini-batch returned from generator function \n",
    "            batch_losses = []\n",
    "            for x_batch, y_batch in self.gen_batch(x, y): \n",
    "                print ('.', end ='')\n",
    "                a = self.training(x_batch, y_batch)    \n",
    "                \n",
    "                # clipping for safe logarian calculation \n",
    "                a = np.clip(a, 1e-10, 1-1e-10)\n",
    "                # accumulating logarian loss and regularization loss to the loss and adding it to the list\n",
    "                loss = np.mean(-(y_batch*np.log(a)+(1-y_batch)*np.log(1-a)))\n",
    "                batch_losses.append(loss)\n",
    "            print ( )\n",
    "            self.losses.append(np.mean(batch_losses))\n",
    "            # calculating the loss of verification set \n",
    "            self.update_val_loss(x_val, y_val)\n",
    "    \n",
    "    # mini-batch generator function \n",
    "    def gen_batch(self, x, y): \n",
    "        length = len(x)\n",
    "        bins = length // self.batch_size      # mini batch frequency \n",
    "        if length % self.batch_size: \n",
    "            bins +=1                          # if it has remainder        \n",
    "        indexes = np.random.permutation(np.arange(len(x)))   # shuffle indexes \n",
    "        x = x[indexes]\n",
    "        y = y[indexes]\n",
    "        for i in range(bins):\n",
    "            start = self.batch_size * i \n",
    "            end = self.batch_size * (i + 1)\n",
    "            yield x[start:end], y[start:end]      # returning the value slicing in batch_size                                \n",
    "        \n",
    "    \n",
    "    def training(self, x, y):\n",
    "        m = len(x)                            # saving the no. of samples\n",
    "        z = self.forpass(x)                   # carring on forward propagation calculation \n",
    "        a = self.sigmoid(z)                   # applying activation function \n",
    "        err = -(y - a)                        # calculating errors \n",
    "        # Calculating gradient by backpropagating errors\n",
    "        w1h_grad, w1x_grad, b1_grad, w2_grad, b2_grad = self.backprop(x, err)\n",
    "        # updating weight and interscept of cell \n",
    "        self.w1h -= self.lr * w1h_grad \n",
    "        self.w1x -= self.lr * w1x_grad \n",
    "        self.b1 -= self.lr * b1_grad\n",
    "        # updating weight and interscept of output layers \n",
    "        self.w2 -= self.lr *  w2_grad \n",
    "        self.b2 -= self.lr * b2_grad\n",
    "        return a \n",
    "        \n",
    "    def predict(self, x):\n",
    "        z = self.forpass(x)            # carry opn forward propagation calculation \n",
    "        return z > 0                   # applying step function \n",
    "    \n",
    "    def score(self, x, y):\n",
    "        # returning True ratio by comparing prediction with target column vector\n",
    "        return np.mean(self.predict(x) == y.reshape(-1, 1))    \n",
    "    \n",
    "    def update_val_loss(self, x_val, y_val):\n",
    "        z = self.forpass(x_val)           # carry opn forward propagation calculation \n",
    "        a = self.sigmoid(z)               # applying activation function \n",
    "        a = np.clip(a, 1e-10, 1-1e-10)    # clipping the output value \n",
    "        val_loss = np.mean(-(y_val*np.log(a) + (1-y_val)*np.log(1-a)))\n",
    "        self.val_losses.append(val_loss)    "
   ]
  },
  {
   "cell_type": "code",
   "execution_count": null,
   "id": "051b7d94",
   "metadata": {},
   "outputs": [],
   "source": []
  },
  {
   "cell_type": "markdown",
   "id": "4c298667",
   "metadata": {},
   "source": [
    "## # Model Training of Recurrent Network "
   ]
  },
  {
   "cell_type": "code",
   "execution_count": 21,
   "id": "54eed7e5",
   "metadata": {
    "scrolled": true
   },
   "outputs": [
    {
     "name": "stdout",
     "output_type": "stream",
     "text": [
      "EPOCH 0 .................................................................................................................................................................................................................................................................................................................................................................................................................................................................................................................................................................................................................................................\n",
      "EPOCH 1 .................................................................................................................................................................................................................................................................................................................................................................................................................................................................................................................................................................................................................................................\n",
      "EPOCH 2 .................................................................................................................................................................................................................................................................................................................................................................................................................................................................................................................................................................................................................................................\n",
      "EPOCH 3 .................................................................................................................................................................................................................................................................................................................................................................................................................................................................................................................................................................................................................................................\n",
      "EPOCH 4 .................................................................................................................................................................................................................................................................................................................................................................................................................................................................................................................................................................................................................................................\n",
      "EPOCH 5 .................................................................................................................................................................................................................................................................................................................................................................................................................................................................................................................................................................................................................................................\n",
      "EPOCH 6 .................................................................................................................................................................................................................................................................................................................................................................................................................................................................................................................................................................................................................................................\n",
      "EPOCH 7 .................................................................................................................................................................................................................................................................................................................................................................................................................................................................................................................................................................................................................................................\n",
      "EPOCH 8 .................................................................................................................................................................................................................................................................................................................................................................................................................................................................................................................................................................................................................................................\n",
      "EPOCH 9 .................................................................................................................................................................................................................................................................................................................................................................................................................................................................................................................................................................................................................................................\n",
      "EPOCH 10 .................................................................................................................................................................................................................................................................................................................................................................................................................................................................................................................................................................................................................................................\n",
      "EPOCH 11 .................................................................................................................................................................................................................................................................................................................................................................................................................................................................................................................................................................................................................................................\n"
     ]
    },
    {
     "name": "stdout",
     "output_type": "stream",
     "text": [
      "EPOCH 12 .................................................................................................................................................................................................................................................................................................................................................................................................................................................................................................................................................................................................................................................\n",
      "EPOCH 13 .................................................................................................................................................................................................................................................................................................................................................................................................................................................................................................................................................................................................................................................\n",
      "EPOCH 14 .................................................................................................................................................................................................................................................................................................................................................................................................................................................................................................................................................................................................................................................\n",
      "EPOCH 15 .................................................................................................................................................................................................................................................................................................................................................................................................................................................................................................................................................................................................................................................\n",
      "EPOCH 16 .................................................................................................................................................................................................................................................................................................................................................................................................................................................................................................................................................................................................................................................\n",
      "EPOCH 17 .................................................................................................................................................................................................................................................................................................................................................................................................................................................................................................................................................................................................................................................\n",
      "EPOCH 18 .................................................................................................................................................................................................................................................................................................................................................................................................................................................................................................................................................................................................................................................\n",
      "EPOCH 19 .................................................................................................................................................................................................................................................................................................................................................................................................................................................................................................................................................................................................................................................\n"
     ]
    }
   ],
   "source": [
    "# 1. Model Training of Recurrent Network \n",
    "\n",
    "rn = RecurrentNetwork(n_cells=32, batch_size=32, learning_rate=0.01)\n",
    "\n",
    "rn.fit(x_train_onehot, y_train, epochs=20, x_val=x_val_onehot, y_val=y_val)"
   ]
  },
  {
   "cell_type": "code",
   "execution_count": 22,
   "id": "7fcc6aba",
   "metadata": {},
   "outputs": [
    {
     "data": {
      "image/png": "[encoded data removed]",
      "text/plain": [
       "<Figure size 432x288 with 1 Axes>"
      ]
     },
     "metadata": {
      "needs_background": "light"
     },
     "output_type": "display_data"
    }
   ],
   "source": [
    "# 2. Plotting the Loss graph on the training and verifying set\n",
    "\n",
    "import matplotlib.pyplot as plt\n",
    "\n",
    "plt.plot(rn.losses)\n",
    "plt.plot(rn.val_losses)\n",
    "plt.show()"
   ]
  },
  {
   "cell_type": "code",
   "execution_count": 23,
   "id": "1cffb1ad",
   "metadata": {},
   "outputs": [
    {
     "data": {
      "text/plain": [
       "0.69"
      ]
     },
     "execution_count": 23,
     "metadata": {},
     "output_type": "execute_result"
    }
   ],
   "source": [
    "# 3. Evaluating accuracy of verification set \n",
    "\n",
    "rn.score(x_val_onehot, y_val)"
   ]
  },
  {
   "cell_type": "code",
   "execution_count": null,
   "id": "2790a2e4",
   "metadata": {},
   "outputs": [],
   "source": []
  }
 ],
 "metadata": {
  "kernelspec": {
   "display_name": "Tensorflow_py37",
   "language": "python",
   "name": "tf_py37"
  },
  "language_info": {
   "codemirror_mode": {
    "name": "ipython",
    "version": 3
   },
   "file_extension": ".py",
   "mimetype": "text/x-python",
   "name": "python",
   "nbconvert_exporter": "python",
   "pygments_lexer": "ipython3",
   "version": "3.7.11"
  }
 },
 "nbformat": 4,
 "nbformat_minor": 5
}
