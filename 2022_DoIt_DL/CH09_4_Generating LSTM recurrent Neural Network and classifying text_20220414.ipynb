{
 "cells": [
  {
   "cell_type": "markdown",
   "id": "142ba891",
   "metadata": {},
   "source": [
    "# CH09_4_Generating LSTM recurrent Neural Network and classifying text \n",
    "\n",
    "- Last update: 2022.04.14."
   ]
  },
  {
   "cell_type": "markdown",
   "id": "0db093c5",
   "metadata": {},
   "source": [
    "## # dataset imports"
   ]
  },
  {
   "cell_type": "code",
   "execution_count": 1,
   "id": "0be9562e",
   "metadata": {},
   "outputs": [],
   "source": [
    "from tensorflow.keras.preprocessing import sequence \n",
    "import numpy as np \n",
    "import matplotlib.pyplot as plt\n",
    "import tensorflow as tf \n",
    "from tensorflow.keras.datasets import imdb"
   ]
  },
  {
   "cell_type": "code",
   "execution_count": 2,
   "id": "d5c0b050",
   "metadata": {
    "scrolled": true
   },
   "outputs": [
    {
     "name": "stdout",
     "output_type": "stream",
     "text": [
      "(25000,) (25000,)\n",
      "[22, 43, 65, 66, 36, 25, 43, 50, 35, 39, 38, 50, 22, 22, 71, 87, 43, 38, 76, 22, 62, 66, 33, 38, 25, 51, 36, 48, 25, 33, 22, 28, 77, 52, 82, 36, 71, 43, 26, 46, 88, 98, 32, 56, 26, 22, 21, 26, 30, 51, 36, 28, 92, 25, 65, 38, 88, 32, 32]\n",
      "film just story really they you just there an from so there film film were great just so much film would really at so you what they if you at film have been good also they were just are out because them all up are film but are be what they have don't you story so because all all >>> x_train (20000,)=\n",
      " [list([35, 40, 27, 28, 40, 22, 83, 31, 85, 45, 24, 23, 31, 70, 31, 76, 30, 98, 32, 22, 28, 51, 75, 56, 30, 33, 97, 53, 38, 46, 53, 74, 31, 35, 23, 34, 22, 58])\n",
      " list([54, 39, 27, 35, 35, 56, 27, 29, 80, 27, 27, 46, 23, 35, 64, 86, 65, 35, 22, 63, 73, 29, 22, 82, 34, 50, 26, 21, 47, 30, 97, 83, 76, 69, 86, 31, 61, 49, 99, 85, 85, 26, 73, 81, 87, 53, 26, 53, 74, 26, 53, 62, 28, 21, 50, 44, 93, 22, 39, 34, 21, 45, 87, 20, 32])\n",
      " list([26, 42, 99, 30, 78, 35, 96, 45, 48, 88, 41, 24, 59, 43, 23, 61, 20, 30, 42, 33, 32])\n",
      " ...\n",
      " list([39, 76, 56, 34, 94, 64, 39, 67, 82, 66, 94, 30, 23, 38, 50, 26, 54, 25, 70, 67, 34, 57, 23, 50, 26, 26, 26, 56, 48, 25, 79, 32, 97, 78, 20, 94, 55, 67, 49, 26, 21, 64, 25, 26, 31, 91, 94, 22, 47, 49, 94, 24, 67, 21, 94, 66, 48, 25, 81, 81, 38, 24])\n",
      " list([20, 67, 62, 30, 35, 54, 25, 79, 20, 69, 55, 20, 63, 71, 23, 70, 33, 32, 67, 20, 80, 24])\n",
      " list([22, 66, 76, 45, 55, 63, 63, 62, 60, 49, 45, 56, 54, 36, 71, 71, 23, 42, 21, 51, 50, 26, 52, 37, 38, 76, 40, 68, 22, 36, 97, 68, 45, 66, 39, 37, 28, 45, 65, 37, 46, 34, 27, 56, 27, 49])]\n",
      "\n",
      ">>> y_train(20000,) = [0 1 0 ... 0 1 1]\n",
      "-------------------------------\n",
      "\n",
      ">>> x_val (5000,)=\n",
      " [list([55, 27, 49, 34, 49, 26, 77, 20, 47, 82, 25, 53, 54, 29, 31])\n",
      " list([76, 21, 22, 47, 87, 68, 43, 73, 43, 55, 71, 24, 78, 49, 84, 32, 26, 71, 69, 65, 40, 71, 21, 61, 63, 64, 85, 79, 54, 86, 32, 32, 22, 23])\n",
      " list([44, 68, 71, 21, 53, 53, 40, 93, 46, 66, 82, 20, 39, 22, 20, 73, 26, 44, 99, 22, 33, 49, 50, 73, 20, 66, 46, 39, 49, 31, 21, 66, 78, 31, 20, 52, 94, 73, 94, 65, 82, 45, 20, 23, 20, 63, 20, 94, 65, 31, 20, 94, 20, 80, 84, 88, 36, 30, 55, 55, 20, 25, 66, 92, 28, 30, 83, 20, 45, 20, 94, 20, 82, 93, 34, 94, 37, 92, 69, 28, 20, 21, 26, 68, 20, 49, 52, 52, 20, 23, 94])\n",
      " ...\n",
      " list([97, 20, 44, 28, 23, 73, 48, 25, 63, 39, 69, 20, 39, 27, 60, 74, 29, 64, 22, 48, 25, 70, 44, 41, 38, 73, 23, 41, 36, 41, 41, 38, 44, 22, 21, 60, 44, 22, 72, 37, 20, 39, 73, 33, 90, 29, 66, 99, 46, 27, 21, 48, 44, 27, 42, 56, 73, 43, 33, 46])\n",
      " list([61, 88, 20, 61, 86, 20, 33, 49, 93, 72, 23, 20, 51, 25])\n",
      " list([20, 20, 86, 58, 23, 24, 69, 24, 60, 23, 33, 86, 30, 22, 67, 80, 20, 25, 25, 80, 76, 59, 80, 25])]\n",
      "\n",
      ">>> y_val (5000,)= [0 1 1 ... 0 0 1]\n",
      ">>> x_train_seq.shape, x_val_seq.shape = (20000, 100) (5000, 100)\n",
      "\n",
      ">>> x_train_seq[0] =\n",
      " [ 0  0  0  0  0  0  0  0  0  0  0  0  0  0  0  0  0  0  0  0  0  0  0  0\n",
      "  0  0  0  0  0  0  0  0  0  0  0  0  0  0  0  0  0  0  0  0  0  0  0  0\n",
      "  0  0  0  0  0  0  0  0  0  0  0  0  0  0 35 40 27 28 40 22 83 31 85 45\n",
      " 24 23 31 70 31 76 30 98 32 22 28 51 75 56 30 33 97 53 38 46 53 74 31 35\n",
      " 23 34 22 58]\n",
      ">>> x_train_onehot.shape = (20000, 100, 100)\n",
      ">>> x_train_onehot.nbytes =  800000000 Byte\n",
      ">>> x_train_onehot.nbytes =    762.939 MB\n"
     ]
    }
   ],
   "source": [
    "# 1. Loading the IMDB data set from tensorflow \n",
    "(x_train_all, y_train_all), (x_test, y_test) = imdb.load_data(skip_top=20, num_words=100)\n",
    "\n",
    "# 2. Cheking out training set size\n",
    "print (x_train_all.shape, y_train_all.shape)\n",
    "\n",
    "# 4. Eliminating 2 from training set \n",
    "\n",
    "for i in range(len(x_train_all)):\n",
    "    x_train_all[i] = [w for w in x_train_all[i] if w > 2]\n",
    "    \n",
    "print (x_train_all[0])    \n",
    "\n",
    "# 5. downloading terminology dictionary\n",
    "\n",
    "word_to_index = imdb.get_word_index()\n",
    "word_to_index['movie']\n",
    "\n",
    "# 6. Transforming integer in training set into English words string\n",
    "index_to_word = {word_to_index[k]: k for k in word_to_index}\n",
    "for w in x_train_all[0]: \n",
    "    print(index_to_word[w - 3], end=' ')\n",
    "    \n",
    "\n",
    "# 9. preparing verifying dataset\n",
    "\n",
    "np.random.seed(42)\n",
    "random_index = np.random.permutation(25000)\n",
    "\n",
    "x_train = x_train_all[random_index[:20000]]\n",
    "y_train = y_train_all[random_index[:20000]]\n",
    "x_val = x_train_all[random_index[20000:]]\n",
    "y_val = y_train_all[random_index[20000:]]\n",
    "\n",
    "print (\">>> x_train \"+str(x_train.shape)+\"=\\n\", x_train)\n",
    "print (\"\\n>>> y_train\"+str(y_train.shape)+\" =\", y_train)\n",
    "print ('-------------------------------')\n",
    "print (\"\\n>>> x_val \"+str(x_val.shape)+\"=\\n\", x_val)\n",
    "print (\"\\n>>> y_val \"+str(y_val.shape)+\"=\", y_val)\n",
    "\n",
    "\n",
    "maxlen = 100 \n",
    "x_train_seq = sequence.pad_sequences(x_train, maxlen = maxlen)\n",
    "x_val_seq = sequence.pad_sequences(x_val, maxlen=maxlen)\n",
    "\n",
    "# 2. Checking out the size of alligned training set and sample \n",
    "\n",
    "print (\">>> x_train_seq.shape, x_val_seq.shape =\", x_train_seq.shape, x_val_seq.shape)\n",
    "print ('\\n>>> x_train_seq[0] =\\n', x_train_seq[0])\n",
    "\n",
    "# 1. One-hot incoding using tensorflow and cheking out the size of variables \n",
    "\n",
    "from tensorflow.keras.utils import to_categorical \n",
    "\n",
    "x_train_onehot = to_categorical(x_train_seq)\n",
    "x_val_onehot = to_categorical(x_val_seq)\n",
    "\n",
    "# 1.1. size checking \n",
    "print (\">>> x_train_onehot.shape =\", x_train_onehot.shape)\n",
    "\n",
    "# 1.2. memory checking \n",
    "print (\">>> x_train_onehot.nbytes = {0:10d} Byte\".format(x_train_onehot.nbytes))\n",
    "print (\">>> x_train_onehot.nbytes = {0:10.3f} MB\".format(x_train_onehot.nbytes/1024 /1024))"
   ]
  },
  {
   "cell_type": "code",
   "execution_count": 3,
   "id": "cab5f6fd",
   "metadata": {},
   "outputs": [],
   "source": [
    "# 1. Embedding Class importing \n",
    "\n",
    "from tensorflow.keras.layers import Embedding\n",
    "\n",
    "# 2. Preparing training dataset \n",
    "(x_train_all, y_train_all), (x_test, y_test) = imdb.load_data(skip_top=20, num_words=1000)\n",
    "\n",
    "for i in range(len(x_train_all)):\n",
    "    x_train_all[i] = [w for w in x_train_all[i] if w > 2]\n",
    "    \n",
    "x_train = x_train_all[random_index[:20000]]    \n",
    "y_train = y_train_all[random_index[:20000]]\n",
    "x_val = x_train_all[random_index[20000:]]  \n",
    "y_val = y_train_all[random_index[20000:]]\n",
    "\n",
    "# 3. Alligning sample length \n",
    "\n",
    "maxlen = 100\n",
    "x_train_seq = sequence.pad_sequences(x_train, maxlen=maxlen)\n",
    "x_val_seq = sequence.pad_sequences(x_val, maxlen=maxlen)"
   ]
  },
  {
   "cell_type": "markdown",
   "id": "967f26c7",
   "metadata": {},
   "source": [
    "## # Generating LSTM Recurrent Neural Network using Tensorflow "
   ]
  },
  {
   "cell_type": "code",
   "execution_count": 4,
   "id": "00bc81e9",
   "metadata": {},
   "outputs": [
    {
     "name": "stdout",
     "output_type": "stream",
     "text": [
      "Model: \"sequential\"\n",
      "_________________________________________________________________\n",
      "Layer (type)                 Output Shape              Param #   \n",
      "=================================================================\n",
      "embedding (Embedding)        (None, None, 32)          32000     \n",
      "_________________________________________________________________\n",
      "lstm (LSTM)                  (None, 8)                 1312      \n",
      "_________________________________________________________________\n",
      "dense (Dense)                (None, 1)                 9         \n",
      "=================================================================\n",
      "Total params: 33,321\n",
      "Trainable params: 33,321\n",
      "Non-trainable params: 0\n",
      "_________________________________________________________________\n"
     ]
    }
   ],
   "source": [
    "from tensorflow.keras.models import Sequential \n",
    "from tensorflow.keras.layers import Dense, SimpleRNN\n",
    "from tensorflow.keras.layers import Embedding\n",
    "\n",
    "# 1. Generating LSTM Recurrent Neural Network \n",
    "\n",
    "from tensorflow.keras.layers import LSTM\n",
    "\n",
    "model_lstm = Sequential()\n",
    "\n",
    "model_lstm.add(Embedding(1000, 32))\n",
    "model_lstm.add(LSTM(8))\n",
    "model_lstm.add(Dense(1, activation='sigmoid'))\n",
    "\n",
    "model_lstm.summary()"
   ]
  },
  {
   "cell_type": "code",
   "execution_count": 5,
   "id": "295611ae",
   "metadata": {
    "scrolled": true
   },
   "outputs": [
    {
     "name": "stdout",
     "output_type": "stream",
     "text": [
      "Epoch 1/10\n",
      "625/625 [==============================] - 7s 12ms/step - loss: 0.4558 - accuracy: 0.7893 - val_loss: 0.3766 - val_accuracy: 0.8400\n",
      "Epoch 2/10\n",
      "625/625 [==============================] - 7s 11ms/step - loss: 0.3414 - accuracy: 0.8547 - val_loss: 0.3614 - val_accuracy: 0.8446\n",
      "Epoch 3/10\n",
      "625/625 [==============================] - 7s 11ms/step - loss: 0.3156 - accuracy: 0.8672 - val_loss: 0.3653 - val_accuracy: 0.8424\n",
      "Epoch 4/10\n",
      "625/625 [==============================] - 7s 11ms/step - loss: 0.2992 - accuracy: 0.8752 - val_loss: 0.3543 - val_accuracy: 0.8414\n",
      "Epoch 5/10\n",
      "625/625 [==============================] - 7s 11ms/step - loss: 0.2823 - accuracy: 0.8820 - val_loss: 0.3582 - val_accuracy: 0.8456\n",
      "Epoch 6/10\n",
      "625/625 [==============================] - 7s 11ms/step - loss: 0.2683 - accuracy: 0.8867 - val_loss: 0.3712 - val_accuracy: 0.8380\n",
      "Epoch 7/10\n",
      "625/625 [==============================] - 7s 11ms/step - loss: 0.2550 - accuracy: 0.8924 - val_loss: 0.3761 - val_accuracy: 0.8400\n",
      "Epoch 8/10\n",
      "625/625 [==============================] - 7s 12ms/step - loss: 0.2449 - accuracy: 0.8985 - val_loss: 0.3872 - val_accuracy: 0.8358\n",
      "Epoch 9/10\n",
      "625/625 [==============================] - 7s 11ms/step - loss: 0.2342 - accuracy: 0.9030 - val_loss: 0.3939 - val_accuracy: 0.8370\n",
      "Epoch 10/10\n",
      "625/625 [==============================] - 7s 11ms/step - loss: 0.2252 - accuracy: 0.9075 - val_loss: 0.4036 - val_accuracy: 0.8280\n"
     ]
    }
   ],
   "source": [
    "# 2. Training model \n",
    "\n",
    "model_lstm.compile(optimizer='adam', loss='binary_crossentropy', metrics=['accuracy'])\n",
    "\n",
    "history = model_lstm.fit(x_train_seq, y_train, epochs=10, batch_size =32, \n",
    "                         validation_data=(x_val_seq, y_val))"
   ]
  },
  {
   "cell_type": "code",
   "execution_count": 6,
   "id": "4d27ef74",
   "metadata": {
    "scrolled": false
   },
   "outputs": [
    {
     "data": {
      "image/png": "[encoded data removed]",
      "text/plain": [
       "<Figure size 432x288 with 1 Axes>"
      ]
     },
     "metadata": {
      "needs_background": "light"
     },
     "output_type": "display_data"
    },
    {
     "data": {
      "image/png": "[encoded data removed]",
      "text/plain": [
       "<Figure size 432x288 with 1 Axes>"
      ]
     },
     "metadata": {
      "needs_background": "light"
     },
     "output_type": "display_data"
    }
   ],
   "source": [
    "# 3. Plotting loss graph and accuracy graph \n",
    "\n",
    "plt.plot(history.history['loss'])\n",
    "plt.plot(history.history['val_loss'])\n",
    "plt.ylabel('loss', fontsize='16')\n",
    "plt.xlabel('epoch', fontsize='16')\n",
    "plt.title('Loss graph', fontsize='23')\n",
    "\n",
    "plt.legend(['train_loss', 'val_loss'], fontsize='14')\n",
    "plt.grid()\n",
    "plt.show()\n",
    "\n",
    "plt.plot(history.history['accuracy'])\n",
    "plt.plot(history.history['val_accuracy'])\n",
    "plt.ylabel('accuracy', fontsize='16')\n",
    "plt.xlabel('epoch', fontsize='16')\n",
    "plt.title('Accuracy graph', fontsize='23')\n",
    "\n",
    "plt.legend(['train_accuracy', 'val_accuracy'], fontsize='14')\n",
    "plt.grid()\n",
    "plt.show()"
   ]
  },
  {
   "cell_type": "code",
   "execution_count": 7,
   "id": "47b8ed78",
   "metadata": {},
   "outputs": [
    {
     "name": "stdout",
     "output_type": "stream",
     "text": [
      "0.828000009059906\n"
     ]
    }
   ],
   "source": [
    "# 4. Evaluate the accuracy of verification set \n",
    "\n",
    "loss, accuracy = model_lstm.evaluate(x_val_seq, y_val, verbose=0)\n",
    "\n",
    "print(accuracy)"
   ]
  },
  {
   "cell_type": "code",
   "execution_count": null,
   "id": "2988b191",
   "metadata": {},
   "outputs": [],
   "source": []
  },
  {
   "cell_type": "code",
   "execution_count": null,
   "id": "577f6632",
   "metadata": {},
   "outputs": [],
   "source": []
  }
 ],
 "metadata": {
  "kernelspec": {
   "display_name": "Tensorflow_py37",
   "language": "python",
   "name": "tf_py37"
  },
  "language_info": {
   "codemirror_mode": {
    "name": "ipython",
    "version": 3
   },
   "file_extension": ".py",
   "mimetype": "text/x-python",
   "name": "python",
   "nbconvert_exporter": "python",
   "pygments_lexer": "ipython3",
   "version": "3.7.11"
  }
 },
 "nbformat": 4,
 "nbformat_minor": 5
}
